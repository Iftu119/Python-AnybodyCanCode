{
  "nbformat": 4,
  "nbformat_minor": 0,
  "metadata": {
    "colab": {
      "name": "Class_03(Booleans & Conditional Statements).ipynb",
      "provenance": [],
      "collapsed_sections": []
    },
    "kernelspec": {
      "name": "python3",
      "display_name": "Python 3"
    }
  },
  "cells": [
    {
      "cell_type": "markdown",
      "metadata": {
        "id": "77OhJUyBogFr",
        "colab_type": "text"
      },
      "source": [
        "# Operators\n",
        "\n",
        "An operator in a programming language is a symbol that tells the compiler or interpreter to perform specific mathematical, relational or logical operation and produce final result.\n",
        "\n",
        "**Comparison Operators**\n",
        "\n",
        "These operators will allow us to compare variables and output a Boolean value (True or False).\n",
        "\n",
        "If you have any sort of background in Math, these operators should be very straight forward.\n",
        "\n",
        "In the table below, a=100 and b=200.\n",
        "\n",
        "**Operator\tDescription\tExample:**\n",
        "\n",
        "**==**\n",
        "\n",
        "If the values of two operands are equal, then the condition becomes true.\t(a == b) is not true.\n",
        "\n",
        "**!=**\n",
        "\n",
        "If values of two operands are not equal, then condition becomes true.\t(a != b) is true\n",
        "\n",
        "**>**\n",
        "\n",
        "If the value of left operand is greater than the value of right operand, then condition becomes true.\t(a > b) is not true.\n",
        "\n",
        "**<**\n",
        "\n",
        "If the value of left operand is less than the value of right operand, then condition becomes true.\t(a < b) is true.\n",
        "\n",
        "**>=**\n",
        "\n",
        "If the value of left operand is greater than or equal to the value of right operand, then condition becomes true.\t(a >= b) is not true.\n",
        "\n",
        "**<=**\n",
        "\n",
        "If the value of left operand is less than or equal to the value of right operand, then condition becomes true.\t(a <= b) is true.\n",
        "\n",
        "**Chained Comparison Operators**\n",
        "\n",
        "An interesting feature of Python is the ability to chain multiple comparisons to perform a more complex test.\n",
        "\n",
        "In this lecture we will learn how to chain comparison operators and we will also introduce two other important statements in Python : **and** and **or**.\n",
        "\n",
        "**and**\n",
        "\n",
        "a=2\n",
        "\n",
        "b=2\n",
        "\n",
        "c=3\n",
        "\n",
        "If a==b and a==c is not true.\n",
        "\n",
        "**or**\n",
        "\n",
        "a=2\n",
        "\n",
        "b=2\n",
        "\n",
        "c=3\n",
        "\n",
        "If a==b or a==c is true.\n",
        "\n"
      ]
    },
    {
      "cell_type": "markdown",
      "metadata": {
        "id": "cboJ5uHanFrT",
        "colab_type": "text"
      },
      "source": [
        "# Booleans\n",
        "\n",
        "Python comes with Booleans (with predefined True and False displays that are basically just the integers 1 and 0).\n",
        "\n",
        "Let's walk through a few quick examples of Booleans."
      ]
    },
    {
      "cell_type": "code",
      "metadata": {
        "id": "km_r_KcZndPs",
        "colab_type": "code",
        "colab": {}
      },
      "source": [
        "a=True\n",
        "b=False"
      ],
      "execution_count": null,
      "outputs": []
    },
    {
      "cell_type": "code",
      "metadata": {
        "id": "63-eALP_oEFp",
        "colab_type": "code",
        "colab": {
          "base_uri": "https://localhost:8080/",
          "height": 52
        },
        "outputId": "4c5c0bb0-662f-44e1-8598-e61b16b8c842"
      },
      "source": [
        "print(a)\n",
        "print(b)"
      ],
      "execution_count": null,
      "outputs": [
        {
          "output_type": "stream",
          "text": [
            "True\n",
            "False\n"
          ],
          "name": "stdout"
        }
      ]
    },
    {
      "cell_type": "code",
      "metadata": {
        "id": "ut2DM6IpoINc",
        "colab_type": "code",
        "colab": {
          "base_uri": "https://localhost:8080/",
          "height": 34
        },
        "outputId": "8ac3fab4-ab2b-4a8a-a9fc-1d9180f92538"
      },
      "source": [
        "1>2"
      ],
      "execution_count": null,
      "outputs": [
        {
          "output_type": "execute_result",
          "data": {
            "text/plain": [
              "False"
            ]
          },
          "metadata": {
            "tags": []
          },
          "execution_count": 3
        }
      ]
    },
    {
      "cell_type": "code",
      "metadata": {
        "id": "uXUKCE7hoOED",
        "colab_type": "code",
        "colab": {}
      },
      "source": [
        "c=2\n",
        "d=4"
      ],
      "execution_count": null,
      "outputs": []
    },
    {
      "cell_type": "code",
      "metadata": {
        "id": "8p3XJh0DoTZ5",
        "colab_type": "code",
        "colab": {
          "base_uri": "https://localhost:8080/",
          "height": 34
        },
        "outputId": "5d8d0758-90a9-4bd3-97fd-cb15515b843e"
      },
      "source": [
        "d/c==2"
      ],
      "execution_count": null,
      "outputs": [
        {
          "output_type": "execute_result",
          "data": {
            "text/plain": [
              "True"
            ]
          },
          "metadata": {
            "tags": []
          },
          "execution_count": 5
        }
      ]
    },
    {
      "cell_type": "markdown",
      "metadata": {
        "id": "tn-JpTsNnEaC",
        "colab_type": "text"
      },
      "source": [
        ""
      ]
    },
    {
      "cell_type": "code",
      "metadata": {
        "id": "GPV1hX_d0q8r",
        "colab_type": "code",
        "colab": {}
      },
      "source": [
        "e=199\n",
        "f=200"
      ],
      "execution_count": null,
      "outputs": []
    },
    {
      "cell_type": "code",
      "metadata": {
        "id": "wgWiA6vH0u4m",
        "colab_type": "code",
        "colab": {
          "base_uri": "https://localhost:8080/",
          "height": 34
        },
        "outputId": "ccee53be-c702-4048-b5a2-33b84f8478f5"
      },
      "source": [
        "e==f"
      ],
      "execution_count": null,
      "outputs": [
        {
          "output_type": "execute_result",
          "data": {
            "text/plain": [
              "False"
            ]
          },
          "metadata": {
            "tags": []
          },
          "execution_count": 7
        }
      ]
    },
    {
      "cell_type": "code",
      "metadata": {
        "id": "fez_Jq0W0wg_",
        "colab_type": "code",
        "colab": {
          "base_uri": "https://localhost:8080/",
          "height": 34
        },
        "outputId": "92d8cf15-cf8d-4e57-fe9c-8282c1310f53"
      },
      "source": [
        "e!=f"
      ],
      "execution_count": null,
      "outputs": [
        {
          "output_type": "execute_result",
          "data": {
            "text/plain": [
              "True"
            ]
          },
          "metadata": {
            "tags": []
          },
          "execution_count": 8
        }
      ]
    },
    {
      "cell_type": "code",
      "metadata": {
        "id": "xo-awazm0zFo",
        "colab_type": "code",
        "colab": {
          "base_uri": "https://localhost:8080/",
          "height": 34
        },
        "outputId": "78e2fa90-8134-4b0b-ed32-5cd7d7b44b58"
      },
      "source": [
        "e>f"
      ],
      "execution_count": null,
      "outputs": [
        {
          "output_type": "execute_result",
          "data": {
            "text/plain": [
              "False"
            ]
          },
          "metadata": {
            "tags": []
          },
          "execution_count": 9
        }
      ]
    },
    {
      "cell_type": "code",
      "metadata": {
        "id": "3cnFAIJl1KJT",
        "colab_type": "code",
        "colab": {
          "base_uri": "https://localhost:8080/",
          "height": 34
        },
        "outputId": "55bd7fac-acd7-4887-cee6-030544c01d03"
      },
      "source": [
        "e<f"
      ],
      "execution_count": null,
      "outputs": [
        {
          "output_type": "execute_result",
          "data": {
            "text/plain": [
              "True"
            ]
          },
          "metadata": {
            "tags": []
          },
          "execution_count": 10
        }
      ]
    },
    {
      "cell_type": "code",
      "metadata": {
        "id": "zLU7-_6A1Nbx",
        "colab_type": "code",
        "colab": {
          "base_uri": "https://localhost:8080/",
          "height": 34
        },
        "outputId": "ea5fd4f2-028f-44d8-c86c-3e34a79789ea"
      },
      "source": [
        "e>=f"
      ],
      "execution_count": null,
      "outputs": [
        {
          "output_type": "execute_result",
          "data": {
            "text/plain": [
              "False"
            ]
          },
          "metadata": {
            "tags": []
          },
          "execution_count": 11
        }
      ]
    },
    {
      "cell_type": "code",
      "metadata": {
        "id": "HuR_BG7z1O7g",
        "colab_type": "code",
        "colab": {
          "base_uri": "https://localhost:8080/",
          "height": 34
        },
        "outputId": "e5152780-16d6-46b5-98db-839e08dc043e"
      },
      "source": [
        "e<=f"
      ],
      "execution_count": null,
      "outputs": [
        {
          "output_type": "execute_result",
          "data": {
            "text/plain": [
              "True"
            ]
          },
          "metadata": {
            "tags": []
          },
          "execution_count": 12
        }
      ]
    },
    {
      "cell_type": "code",
      "metadata": {
        "id": "R-i2c8Ff1PsX",
        "colab_type": "code",
        "colab": {}
      },
      "source": [
        "Strange=None"
      ],
      "execution_count": null,
      "outputs": []
    },
    {
      "cell_type": "code",
      "metadata": {
        "id": "GIZ9ZdkY1eYV",
        "colab_type": "code",
        "colab": {}
      },
      "source": [
        "Strange=12"
      ],
      "execution_count": null,
      "outputs": []
    },
    {
      "cell_type": "code",
      "metadata": {
        "id": "6xDmSBkt1ggx",
        "colab_type": "code",
        "colab": {
          "base_uri": "https://localhost:8080/",
          "height": 34
        },
        "outputId": "7a701ada-7634-42df-c2fb-52fba5cb1ae9"
      },
      "source": [
        "Strange"
      ],
      "execution_count": null,
      "outputs": [
        {
          "output_type": "execute_result",
          "data": {
            "text/plain": [
              "12"
            ]
          },
          "metadata": {
            "tags": []
          },
          "execution_count": 15
        }
      ]
    },
    {
      "cell_type": "code",
      "metadata": {
        "id": "740mWl_U1h5q",
        "colab_type": "code",
        "colab": {
          "base_uri": "https://localhost:8080/",
          "height": 34
        },
        "outputId": "d785e921-d7dd-4d67-d810-7d7dcb4110ea"
      },
      "source": [
        "1<3 and 1<6"
      ],
      "execution_count": null,
      "outputs": [
        {
          "output_type": "execute_result",
          "data": {
            "text/plain": [
              "True"
            ]
          },
          "metadata": {
            "tags": []
          },
          "execution_count": 16
        }
      ]
    },
    {
      "cell_type": "code",
      "metadata": {
        "id": "lEbEk0QC3kfG",
        "colab_type": "code",
        "colab": {
          "base_uri": "https://localhost:8080/",
          "height": 34
        },
        "outputId": "01cc182c-ca6a-4c91-f544-c973ac38a25e"
      },
      "source": [
        "1<8 and 1<0"
      ],
      "execution_count": null,
      "outputs": [
        {
          "output_type": "execute_result",
          "data": {
            "text/plain": [
              "False"
            ]
          },
          "metadata": {
            "tags": []
          },
          "execution_count": 17
        }
      ]
    },
    {
      "cell_type": "code",
      "metadata": {
        "id": "50TSWROF3nPB",
        "colab_type": "code",
        "colab": {
          "base_uri": "https://localhost:8080/",
          "height": 34
        },
        "outputId": "ee29e8cb-fbe2-45a6-d3ab-97eef33f944f"
      },
      "source": [
        "1<2 or 1<6"
      ],
      "execution_count": null,
      "outputs": [
        {
          "output_type": "execute_result",
          "data": {
            "text/plain": [
              "True"
            ]
          },
          "metadata": {
            "tags": []
          },
          "execution_count": 18
        }
      ]
    },
    {
      "cell_type": "code",
      "metadata": {
        "id": "zmg_5zjS3rX7",
        "colab_type": "code",
        "colab": {
          "base_uri": "https://localhost:8080/",
          "height": 34
        },
        "outputId": "9fbcf9ea-751b-4fa6-bdd8-0028fcfffc87"
      },
      "source": [
        "1<8 or 1<0"
      ],
      "execution_count": null,
      "outputs": [
        {
          "output_type": "execute_result",
          "data": {
            "text/plain": [
              "True"
            ]
          },
          "metadata": {
            "tags": []
          },
          "execution_count": 19
        }
      ]
    },
    {
      "cell_type": "code",
      "metadata": {
        "id": "_mwG047Q3s9_",
        "colab_type": "code",
        "colab": {}
      },
      "source": [
        "s=\"Notebook\""
      ],
      "execution_count": null,
      "outputs": []
    },
    {
      "cell_type": "code",
      "metadata": {
        "id": "5_ClHSjB3y1A",
        "colab_type": "code",
        "colab": {
          "base_uri": "https://localhost:8080/",
          "height": 34
        },
        "outputId": "c42722dc-e006-4b68-d67b-74ff84f787bf"
      },
      "source": [
        "'o' not in s"
      ],
      "execution_count": null,
      "outputs": [
        {
          "output_type": "execute_result",
          "data": {
            "text/plain": [
              "True"
            ]
          },
          "metadata": {
            "tags": []
          },
          "execution_count": 22
        }
      ]
    },
    {
      "cell_type": "code",
      "metadata": {
        "id": "wAQEOqdN32Xs",
        "colab_type": "code",
        "colab": {}
      },
      "source": [
        "L=[1,2,3]"
      ],
      "execution_count": null,
      "outputs": []
    },
    {
      "cell_type": "code",
      "metadata": {
        "id": "zfVfYoCk36TG",
        "colab_type": "code",
        "colab": {
          "base_uri": "https://localhost:8080/",
          "height": 34
        },
        "outputId": "670971f3-9b45-4f6d-bea8-004b9b362d92"
      },
      "source": [
        "2 in L"
      ],
      "execution_count": null,
      "outputs": [
        {
          "output_type": "execute_result",
          "data": {
            "text/plain": [
              "True"
            ]
          },
          "metadata": {
            "tags": []
          },
          "execution_count": 24
        }
      ]
    },
    {
      "cell_type": "markdown",
      "metadata": {
        "id": "qh98OzDD4CbZ",
        "colab_type": "text"
      },
      "source": [
        "# Conditional Logic\n",
        "\n",
        "**if elif else statements:**\n",
        "\n",
        "**Process 1:**\n",
        "\n",
        "if some_condition:\n",
        "\n",
        "     do_something\n",
        "else:\n",
        "\n",
        "     do_something_else\n",
        "\n",
        "**Process 2:**\n",
        "\n",
        "if some_condition:\n",
        "\n",
        "     do_something\n",
        "\n",
        "if some_condition:\n",
        "\n",
        "     do_something\n",
        "else:\n",
        "\n",
        "     do_something_else\n",
        "\n",
        "**Process 3:**\n",
        "\n",
        "if some_condition:\n",
        "\n",
        "     do_something\n",
        "\n",
        "elif different_condition:\n",
        "\n",
        "     do_something_different\n",
        "\n",
        "else:\n",
        "\n",
        "     do_something_else\n",
        "\n",
        "**Indentation**\n",
        "\n",
        "It is important to keep a good understanding of how indentation works in Python to maintain the structure and order of your code.\n",
        "\n",
        "Indentation in Python refers to the (spaces and tabs) that are used at the beginning of a statement. The statements with the same indentation belong to the same group called a suite. "
      ]
    },
    {
      "cell_type": "code",
      "metadata": {
        "id": "_gkexzdZ6Ui_",
        "colab_type": "code",
        "colab": {}
      },
      "source": [
        "x=True\n"
      ],
      "execution_count": null,
      "outputs": []
    },
    {
      "cell_type": "code",
      "metadata": {
        "id": "NXl_pSjq39MY",
        "colab_type": "code",
        "colab": {
          "base_uri": "https://localhost:8080/",
          "height": 33
        },
        "outputId": "a07b16b8-52be-430a-b174-386a519bf2d3"
      },
      "source": [
        "if x:\n",
        "   print('I am present.')"
      ],
      "execution_count": null,
      "outputs": [
        {
          "output_type": "stream",
          "text": [
            "I am present.\n"
          ],
          "name": "stdout"
        }
      ]
    },
    {
      "cell_type": "code",
      "metadata": {
        "id": "jAoMbM396vD2",
        "colab_type": "code",
        "colab": {
          "base_uri": "https://localhost:8080/",
          "height": 33
        },
        "outputId": "9f47318e-ca98-49f1-f0a4-076fa0d1f947"
      },
      "source": [
        "x=False\n",
        "if x:\n",
        "  print('I was present.')\n",
        "else:\n",
        "  print(\"I was not present.\")"
      ],
      "execution_count": null,
      "outputs": [
        {
          "output_type": "stream",
          "text": [
            "I was not present.\n"
          ],
          "name": "stdout"
        }
      ]
    },
    {
      "cell_type": "markdown",
      "metadata": {
        "id": "K-h1eotu7w-6",
        "colab_type": "text"
      },
      "source": [
        "**Multiple Branches**"
      ]
    },
    {
      "cell_type": "code",
      "metadata": {
        "id": "vprfA35U6_Uj",
        "colab_type": "code",
        "colab": {
          "base_uri": "https://localhost:8080/",
          "height": 33
        },
        "outputId": "7307ad4e-ce68-45d9-cbcf-d7140644b4ff"
      },
      "source": [
        "x=5\n",
        "if x==2:\n",
        "  print('Two')\n",
        "elif x==5:\n",
        "  print('Five')\n",
        "else:\n",
        "  print('Something Else')"
      ],
      "execution_count": null,
      "outputs": [
        {
          "output_type": "stream",
          "text": [
            "Five\n"
          ],
          "name": "stdout"
        }
      ]
    },
    {
      "cell_type": "code",
      "metadata": {
        "id": "KIDOuBPcACZB",
        "colab_type": "code",
        "colab": {
          "base_uri": "https://localhost:8080/",
          "height": 50
        },
        "outputId": "dc722a7e-86cc-4f18-92c0-bb3b4b7fb3b0"
      },
      "source": [
        "M=input()\n",
        "Marks=int(M)\n",
        "if Marks>=80:\n",
        "  print(\"A\")\n",
        "elif Marks>=60:\n",
        "  print(\"B\")\n",
        "elif Marks>=40:\n",
        "  print(\"C\")\n",
        "else:\n",
        "  print(\"F\")"
      ],
      "execution_count": null,
      "outputs": [
        {
          "output_type": "stream",
          "text": [
            "90\n",
            "A\n"
          ],
          "name": "stdout"
        }
      ]
    },
    {
      "cell_type": "code",
      "metadata": {
        "id": "p3dxC-INEask",
        "colab_type": "code",
        "colab": {
          "base_uri": "https://localhost:8080/",
          "height": 84
        },
        "outputId": "0ce25182-bbe8-4d90-b7d8-59e5dd578d93"
      },
      "source": [
        "M=input()\n",
        "Marks=int(M)\n",
        "if Marks>=80:\n",
        "  print(\"A\")\n",
        "if Marks>=60:\n",
        "  print(\"B\")\n",
        "if Marks>=40:\n",
        "  print(\"C\")\n",
        "else:\n",
        "  print(\"F\")"
      ],
      "execution_count": null,
      "outputs": [
        {
          "output_type": "stream",
          "text": [
            "90\n",
            "A\n",
            "B\n",
            "C\n"
          ],
          "name": "stdout"
        }
      ]
    },
    {
      "cell_type": "markdown",
      "metadata": {
        "id": "op4ieosQ8hYm",
        "colab_type": "text"
      },
      "source": [
        "**Nested if elif else statements**"
      ]
    },
    {
      "cell_type": "code",
      "metadata": {
        "id": "Xh53kjFj8G72",
        "colab_type": "code",
        "colab": {
          "base_uri": "https://localhost:8080/",
          "height": 34
        },
        "outputId": "55e99489-090b-4c61-e54b-cbbba3d17d36"
      },
      "source": [
        "x=15\n",
        "if x%2==0:\n",
        "  if x%5==0:\n",
        "    print(\"x is even and x is divisible by 5.\")\n",
        "  else:\n",
        "    print(\"x is even but x is not divisible by 5.\")\n",
        "else:\n",
        "  print('x is not even.')"
      ],
      "execution_count": null,
      "outputs": [
        {
          "output_type": "stream",
          "text": [
            "x is not even.\n"
          ],
          "name": "stdout"
        }
      ]
    },
    {
      "cell_type": "markdown",
      "metadata": {
        "id": "HbhqRvTd9xHR",
        "colab_type": "text"
      },
      "source": [
        "**Some Other Examples:**"
      ]
    },
    {
      "cell_type": "code",
      "metadata": {
        "id": "PQzBhig19m3C",
        "colab_type": "code",
        "colab": {
          "base_uri": "https://localhost:8080/",
          "height": 34
        },
        "outputId": "09f3d69e-900e-40c1-d103-dcefb9e94f29"
      },
      "source": [
        "x=5\n",
        "if x%2==0 or x%5==0:\n",
        "  print(\"x is even and x is divisible by 5.\")\n",
        "else:\n",
        "  print(\"x maybe even or divisible by 5 or maybe neither one is correct and x is not altogether even and divisible by 5.\")\n"
      ],
      "execution_count": null,
      "outputs": [
        {
          "output_type": "stream",
          "text": [
            "x is even and x is divisible by 5.\n"
          ],
          "name": "stdout"
        }
      ]
    },
    {
      "cell_type": "code",
      "metadata": {
        "id": "HmyMG5Qy-hc4",
        "colab_type": "code",
        "colab": {
          "base_uri": "https://localhost:8080/",
          "height": 52
        },
        "outputId": "8968559f-9c8a-478e-ea60-d6f84f62ae22"
      },
      "source": [
        "L=['1','2','3']\n",
        "x=input()\n",
        "if x in L:\n",
        "  print(\"1 is in the list.\")\n",
        "else:\n",
        "  print(\"1 is not present in the list.\")"
      ],
      "execution_count": null,
      "outputs": [
        {
          "output_type": "stream",
          "text": [
            "1\n",
            "1 is in the list.\n"
          ],
          "name": "stdout"
        }
      ]
    },
    {
      "cell_type": "code",
      "metadata": {
        "id": "R3GHthib-y2b",
        "colab_type": "code",
        "colab": {
          "base_uri": "https://localhost:8080/",
          "height": 34
        },
        "outputId": "c8ee44f6-68d5-4161-b909-307c6736b4c2"
      },
      "source": [
        "A='I am a student.'\n",
        "if \"a student\" in A:\n",
        "  print(\"True\")\n",
        "else:\n",
        "  print(\"False\")"
      ],
      "execution_count": null,
      "outputs": [
        {
          "output_type": "stream",
          "text": [
            "False\n"
          ],
          "name": "stdout"
        }
      ]
    },
    {
      "cell_type": "code",
      "metadata": {
        "id": "F-Fr8mM9_EvP",
        "colab_type": "code",
        "colab": {
          "base_uri": "https://localhost:8080/",
          "height": 34
        },
        "outputId": "9de293d7-10bf-4424-f213-e644b98183b1"
      },
      "source": [
        "A='I am a student.'\n",
        "if \"A student\" in A:\n",
        "  print(\"True\")\n",
        "else:\n",
        "  print(\"False\")"
      ],
      "execution_count": null,
      "outputs": [
        {
          "output_type": "stream",
          "text": [
            "False\n"
          ],
          "name": "stdout"
        }
      ]
    }
  ]
}