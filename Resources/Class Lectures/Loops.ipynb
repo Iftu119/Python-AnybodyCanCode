{
  "nbformat": 4,
  "nbformat_minor": 0,
  "metadata": {
    "colab": {
      "name": "Loops.ipynb",
      "provenance": [],
      "collapsed_sections": []
    },
    "kernelspec": {
      "name": "python3",
      "display_name": "Python 3"
    }
  },
  "cells": [
    {
      "cell_type": "code",
      "metadata": {
        "id": "iWLY0kzm8lv5",
        "colab_type": "code",
        "colab": {}
      },
      "source": [
        ""
      ],
      "execution_count": null,
      "outputs": []
    },
    {
      "cell_type": "markdown",
      "metadata": {
        "id": "fc-_699P9iYN",
        "colab_type": "text"
      },
      "source": [
        "# for Loops\n",
        "\n",
        "A for loop acts as an iterator in Python; it goes through items that are in a sequence or any other iterable item.\n",
        "\n",
        "    for item in object:\n",
        "        statements to do stuffs"
      ]
    },
    {
      "cell_type": "markdown",
      "metadata": {
        "id": "uGDyKsnN_Pom",
        "colab_type": "text"
      },
      "source": [
        "**Example 1**"
      ]
    },
    {
      "cell_type": "markdown",
      "metadata": {
        "id": "TJpIM-1I2QDG",
        "colab_type": "text"
      },
      "source": [
        "**range()**\n",
        "\n",
        "range() function returns a sequence of numbers,starting from 0 by defaul and increments by 1 and stops before a specified number."
      ]
    },
    {
      "cell_type": "code",
      "metadata": {
        "id": "8l9loWY-cgxl",
        "colab_type": "code",
        "colab": {
          "base_uri": "https://localhost:8080/",
          "height": 34
        },
        "outputId": "02814215-b9a7-4695-9aa7-258040cf41dc"
      },
      "source": [
        "range(30)"
      ],
      "execution_count": null,
      "outputs": [
        {
          "output_type": "execute_result",
          "data": {
            "text/plain": [
              "range(0, 30)"
            ]
          },
          "metadata": {
            "tags": []
          },
          "execution_count": 1
        }
      ]
    },
    {
      "cell_type": "code",
      "metadata": {
        "id": "p-Cz9x8N9lzV",
        "colab_type": "code",
        "colab": {
          "base_uri": "https://localhost:8080/",
          "height": 546
        },
        "outputId": "2d3b2eba-71e4-42fb-c1b5-333ca6ba236e"
      },
      "source": [
        "list(range( 30 ))"
      ],
      "execution_count": null,
      "outputs": [
        {
          "output_type": "execute_result",
          "data": {
            "text/plain": [
              "[0,\n",
              " 1,\n",
              " 2,\n",
              " 3,\n",
              " 4,\n",
              " 5,\n",
              " 6,\n",
              " 7,\n",
              " 8,\n",
              " 9,\n",
              " 10,\n",
              " 11,\n",
              " 12,\n",
              " 13,\n",
              " 14,\n",
              " 15,\n",
              " 16,\n",
              " 17,\n",
              " 18,\n",
              " 19,\n",
              " 20,\n",
              " 21,\n",
              " 22,\n",
              " 23,\n",
              " 24,\n",
              " 25,\n",
              " 26,\n",
              " 27,\n",
              " 28,\n",
              " 29]"
            ]
          },
          "metadata": {
            "tags": []
          },
          "execution_count": 3
        }
      ]
    },
    {
      "cell_type": "code",
      "metadata": {
        "id": "pv3WBEBKjM93",
        "colab_type": "code",
        "colab": {
          "base_uri": "https://localhost:8080/",
          "height": 33
        },
        "outputId": "bef226b4-2643-4f13-be87-87e7255897e9"
      },
      "source": [
        "list(range(1,20))"
      ],
      "execution_count": null,
      "outputs": [
        {
          "output_type": "execute_result",
          "data": {
            "text/plain": [
              "[1, 2, 3, 4, 5, 6, 7, 8, 9, 10, 11, 12, 13, 14, 15, 16, 17, 18, 19]"
            ]
          },
          "metadata": {
            "tags": []
          },
          "execution_count": 41
        }
      ]
    },
    {
      "cell_type": "code",
      "metadata": {
        "id": "hQPvPb1njR13",
        "colab_type": "code",
        "colab": {
          "base_uri": "https://localhost:8080/",
          "height": 33
        },
        "outputId": "d2894251-76c9-4f48-fef1-d00b1325685f"
      },
      "source": [
        "list(range(1,20,2))"
      ],
      "execution_count": null,
      "outputs": [
        {
          "output_type": "execute_result",
          "data": {
            "text/plain": [
              "[1, 3, 5, 7, 9, 11, 13, 15, 17, 19]"
            ]
          },
          "metadata": {
            "tags": []
          },
          "execution_count": 42
        }
      ]
    },
    {
      "cell_type": "code",
      "metadata": {
        "id": "TD9WJw2VjVa3",
        "colab_type": "code",
        "colab": {
          "base_uri": "https://localhost:8080/",
          "height": 33
        },
        "outputId": "38844cb7-b394-412e-c53f-caa3c5294fc4"
      },
      "source": [
        "list(range(10,1,-2))"
      ],
      "execution_count": null,
      "outputs": [
        {
          "output_type": "execute_result",
          "data": {
            "text/plain": [
              "[10, 8, 6, 4, 2]"
            ]
          },
          "metadata": {
            "tags": []
          },
          "execution_count": 43
        }
      ]
    },
    {
      "cell_type": "code",
      "metadata": {
        "id": "Wdkj-E8f-oSo",
        "colab_type": "code",
        "colab": {
          "base_uri": "https://localhost:8080/",
          "height": 102
        },
        "outputId": "a6e7baed-3b38-4c25-8b1f-29d1444c260f"
      },
      "source": [
        "for i in range(5):\n",
        "  print(i)"
      ],
      "execution_count": null,
      "outputs": [
        {
          "output_type": "stream",
          "text": [
            "0\n",
            "1\n",
            "2\n",
            "3\n",
            "4\n"
          ],
          "name": "stdout"
        }
      ]
    },
    {
      "cell_type": "code",
      "metadata": {
        "id": "Ipn58CzhAaiy",
        "colab_type": "code",
        "colab": {
          "base_uri": "https://localhost:8080/",
          "height": 184
        },
        "outputId": "781c4c94-0fa6-42ce-fd58-67620dd9d48d"
      },
      "source": [
        "for i in range(10):\n",
        "  i=i+2\n",
        "  print(i)"
      ],
      "execution_count": null,
      "outputs": [
        {
          "output_type": "stream",
          "text": [
            "2\n",
            "3\n",
            "4\n",
            "5\n",
            "6\n",
            "7\n",
            "8\n",
            "9\n",
            "10\n",
            "11\n"
          ],
          "name": "stdout"
        }
      ]
    },
    {
      "cell_type": "code",
      "metadata": {
        "id": "KcDwcCLicwDe",
        "colab_type": "code",
        "colab": {}
      },
      "source": [
        "s=0\n",
        "for i in range(5):\n",
        "  n=int(input(\"Enter Number:\"))\n",
        "  s=s+n\n",
        "print(\"Sum: \",s)"
      ],
      "execution_count": null,
      "outputs": []
    },
    {
      "cell_type": "code",
      "metadata": {
        "id": "Yg2EaFNagy0H",
        "colab_type": "code",
        "colab": {
          "base_uri": "https://localhost:8080/",
          "height": 34
        },
        "outputId": "3c47d968-65fd-4bc7-98ce-61481ff279a1"
      },
      "source": [
        "for i in range(5):\n",
        "  for j in range(2):\n",
        "    print(1, end=' ')"
      ],
      "execution_count": null,
      "outputs": [
        {
          "output_type": "stream",
          "text": [
            "1 1 1 1 1 1 1 1 1 1 "
          ],
          "name": "stdout"
        }
      ]
    },
    {
      "cell_type": "markdown",
      "metadata": {
        "id": "TN-wWTkX_UBA",
        "colab_type": "text"
      },
      "source": [
        "**Example 2**"
      ]
    },
    {
      "cell_type": "code",
      "metadata": {
        "id": "dSV73mhA-wz_",
        "colab_type": "code",
        "colab": {}
      },
      "source": [
        "L=[0,1,2,3,4,5,6,7,8,9]\n"
      ],
      "execution_count": null,
      "outputs": []
    },
    {
      "cell_type": "code",
      "metadata": {
        "id": "fl-aXxXY_dl8",
        "colab_type": "code",
        "colab": {
          "base_uri": "https://localhost:8080/",
          "height": 33
        },
        "outputId": "07105f85-429c-40bb-e5c0-bad5b5caa94f"
      },
      "source": [
        "for i in L:\n",
        "  print(i, end=' ')"
      ],
      "execution_count": null,
      "outputs": [
        {
          "output_type": "stream",
          "text": [
            "0 1 2 3 4 5 6 7 8 9 "
          ],
          "name": "stdout"
        }
      ]
    },
    {
      "cell_type": "code",
      "metadata": {
        "id": "08GMJ29MtmK7",
        "colab_type": "code",
        "colab": {}
      },
      "source": [
        ""
      ],
      "execution_count": null,
      "outputs": []
    },
    {
      "cell_type": "code",
      "metadata": {
        "id": "8n7tSM6yAjhk",
        "colab_type": "code",
        "colab": {
          "base_uri": "https://localhost:8080/",
          "height": 184
        },
        "outputId": "5a4ba729-b6f5-4958-a44e-e68aef1a8d3f"
      },
      "source": [
        "for i in L:\n",
        "  i=i+5\n",
        "  print(i)"
      ],
      "execution_count": null,
      "outputs": [
        {
          "output_type": "stream",
          "text": [
            "5\n",
            "6\n",
            "7\n",
            "8\n",
            "9\n",
            "10\n",
            "11\n",
            "12\n",
            "13\n",
            "14\n"
          ],
          "name": "stdout"
        }
      ]
    },
    {
      "cell_type": "markdown",
      "metadata": {
        "id": "k99vnp81_jas",
        "colab_type": "text"
      },
      "source": [
        "**Example 3**"
      ]
    },
    {
      "cell_type": "code",
      "metadata": {
        "id": "1f5qddP-_gFD",
        "colab_type": "code",
        "colab": {}
      },
      "source": [
        "L2=[0,1,2,\"3\",\"Student\",'We']"
      ],
      "execution_count": null,
      "outputs": []
    },
    {
      "cell_type": "code",
      "metadata": {
        "id": "fzXTvJL2_ybU",
        "colab_type": "code",
        "colab": {
          "base_uri": "https://localhost:8080/",
          "height": 117
        },
        "outputId": "74d3c38f-c932-4d57-f3fc-78c108317680"
      },
      "source": [
        "for i in L2:\n",
        "  print(i)"
      ],
      "execution_count": null,
      "outputs": [
        {
          "output_type": "stream",
          "text": [
            "0\n",
            "1\n",
            "2\n",
            "3\n",
            "Student\n",
            "We\n"
          ],
          "name": "stdout"
        }
      ]
    },
    {
      "cell_type": "code",
      "metadata": {
        "id": "xaLE_Z3W_1xL",
        "colab_type": "code",
        "colab": {}
      },
      "source": [
        "for i in L2:\n",
        "  i=i+2\n",
        "  print(i)"
      ],
      "execution_count": null,
      "outputs": []
    },
    {
      "cell_type": "code",
      "metadata": {
        "id": "b5M0ag70BJti",
        "colab_type": "code",
        "colab": {}
      },
      "source": [
        "L3=[\"0\",'1','10','Student']"
      ],
      "execution_count": null,
      "outputs": []
    },
    {
      "cell_type": "code",
      "metadata": {
        "id": "YDp-FtnCAvwq",
        "colab_type": "code",
        "colab": {
          "base_uri": "https://localhost:8080/",
          "height": 84
        },
        "outputId": "902e8ded-9c70-4537-8c90-151edfa59508"
      },
      "source": [
        "for i in L3:\n",
        "  i=i+\" 2\"\n",
        "  print(i)"
      ],
      "execution_count": null,
      "outputs": [
        {
          "output_type": "stream",
          "text": [
            "0 2\n",
            "1 2\n",
            "10 2\n",
            "Student 2\n"
          ],
          "name": "stdout"
        }
      ]
    },
    {
      "cell_type": "markdown",
      "metadata": {
        "id": "DgDxwoalBmA1",
        "colab_type": "text"
      },
      "source": [
        "**Example 4**"
      ]
    },
    {
      "cell_type": "code",
      "metadata": {
        "id": "snvSh8NeBihu",
        "colab_type": "code",
        "colab": {}
      },
      "source": [
        "s=\"Notebook\""
      ],
      "execution_count": null,
      "outputs": []
    },
    {
      "cell_type": "code",
      "metadata": {
        "id": "kkpgj_TlA175",
        "colab_type": "code",
        "colab": {
          "base_uri": "https://localhost:8080/",
          "height": 150
        },
        "outputId": "5c40c107-7edf-468a-a9fc-d37cedf2076e"
      },
      "source": [
        "for i in s:\n",
        "  print(i)"
      ],
      "execution_count": null,
      "outputs": [
        {
          "output_type": "stream",
          "text": [
            "N\n",
            "o\n",
            "t\n",
            "e\n",
            "b\n",
            "o\n",
            "o\n",
            "k\n"
          ],
          "name": "stdout"
        }
      ]
    },
    {
      "cell_type": "code",
      "metadata": {
        "id": "I6gaKw1yCxeV",
        "colab_type": "code",
        "colab": {
          "base_uri": "https://localhost:8080/",
          "height": 150
        },
        "outputId": "df5f5348-6340-4392-aa36-3665ce914b71"
      },
      "source": [
        "for i in s:\n",
        "  i=i+\"2\"\n",
        "  print(i)"
      ],
      "execution_count": null,
      "outputs": [
        {
          "output_type": "stream",
          "text": [
            "N2\n",
            "o2\n",
            "t2\n",
            "e2\n",
            "b2\n",
            "o2\n",
            "o2\n",
            "k2\n"
          ],
          "name": "stdout"
        }
      ]
    },
    {
      "cell_type": "markdown",
      "metadata": {
        "id": "XznMUiJ3jqQX",
        "colab_type": "text"
      },
      "source": [
        "**Example 5**"
      ]
    },
    {
      "cell_type": "code",
      "metadata": {
        "id": "IDlwSfKqC2Xb",
        "colab_type": "code",
        "colab": {}
      },
      "source": [
        "L4=[1,2,8,9,23,45,40,70]"
      ],
      "execution_count": null,
      "outputs": []
    },
    {
      "cell_type": "code",
      "metadata": {
        "id": "k6Xcg3ibkAYi",
        "colab_type": "code",
        "colab": {
          "base_uri": "https://localhost:8080/",
          "height": 150
        },
        "outputId": "f361fdd7-2862-4ad8-be42-5ad779fb95f3"
      },
      "source": [
        "for i in L4:\n",
        "  if i%2==0:\n",
        "    print(i,\" Even\")\n",
        "  else:\n",
        "    print(i,\" Odd\")"
      ],
      "execution_count": null,
      "outputs": [
        {
          "output_type": "stream",
          "text": [
            "1  Odd\n",
            "2  Even\n",
            "8  Even\n",
            "9  Odd\n",
            "23  Odd\n",
            "45  Odd\n",
            "40  Even\n",
            "70  Even\n"
          ],
          "name": "stdout"
        }
      ]
    },
    {
      "cell_type": "code",
      "metadata": {
        "id": "Wm3RAEockMTE",
        "colab_type": "code",
        "colab": {
          "base_uri": "https://localhost:8080/",
          "height": 167
        },
        "outputId": "f16b5331-754c-4a3f-aebc-5117ef08bfe0"
      },
      "source": [
        "for i in L4:\n",
        "  if i%2==0:\n",
        "    print(i,\" Even\")\n",
        "  else:\n",
        "    print(i,\" Odd\")\n",
        "else:\n",
        "  print(\"List is finished\")"
      ],
      "execution_count": null,
      "outputs": [
        {
          "output_type": "stream",
          "text": [
            "1  Odd\n",
            "2  Even\n",
            "8  Even\n",
            "9  Odd\n",
            "23  Odd\n",
            "45  Odd\n",
            "40  Even\n",
            "70  Even\n",
            "List is finished\n"
          ],
          "name": "stdout"
        }
      ]
    },
    {
      "cell_type": "markdown",
      "metadata": {
        "id": "9ET8f9SzkgAG",
        "colab_type": "text"
      },
      "source": [
        "**Example 6**"
      ]
    },
    {
      "cell_type": "code",
      "metadata": {
        "id": "C3uipMk1kbFi",
        "colab_type": "code",
        "colab": {}
      },
      "source": [
        "L6=[[1,2],[67,65,60],[4]]"
      ],
      "execution_count": null,
      "outputs": []
    },
    {
      "cell_type": "code",
      "metadata": {
        "id": "zYdKoP7okzTR",
        "colab_type": "code",
        "colab": {}
      },
      "source": [
        "for i in L6:\n",
        "  print(i)"
      ],
      "execution_count": null,
      "outputs": []
    },
    {
      "cell_type": "code",
      "metadata": {
        "id": "5fkLQBxgk2SC",
        "colab_type": "code",
        "colab": {
          "base_uri": "https://localhost:8080/",
          "height": 119
        },
        "outputId": "42eece5a-89b1-4f28-be78-f042bf168d6f"
      },
      "source": [
        "for i in L6:\n",
        "  for j in i:\n",
        "    print(j)"
      ],
      "execution_count": null,
      "outputs": [
        {
          "output_type": "stream",
          "text": [
            "1\n",
            "2\n",
            "67\n",
            "65\n",
            "60\n",
            "4\n"
          ],
          "name": "stdout"
        }
      ]
    },
    {
      "cell_type": "code",
      "metadata": {
        "id": "ePm4ugfUlC6b",
        "colab_type": "code",
        "colab": {}
      },
      "source": [
        "L7=[[1,2],[3,4],[67,90,99]]"
      ],
      "execution_count": null,
      "outputs": []
    },
    {
      "cell_type": "code",
      "metadata": {
        "id": "L-nzJ7f4k7eX",
        "colab_type": "code",
        "colab": {
          "base_uri": "https://localhost:8080/",
          "height": 212
        },
        "outputId": "66feb03c-cdb4-4b72-f5fc-5d7ad6d59e35"
      },
      "source": [
        "for (i,j) in L7:\n",
        "  print(i,j)"
      ],
      "execution_count": null,
      "outputs": [
        {
          "output_type": "stream",
          "text": [
            "1 2\n",
            "3 4\n"
          ],
          "name": "stdout"
        },
        {
          "output_type": "error",
          "ename": "ValueError",
          "evalue": "ignored",
          "traceback": [
            "\u001b[0;31m---------------------------------------------------------------------------\u001b[0m",
            "\u001b[0;31mValueError\u001b[0m                                Traceback (most recent call last)",
            "\u001b[0;32m<ipython-input-5-699fba24bfb2>\u001b[0m in \u001b[0;36m<module>\u001b[0;34m()\u001b[0m\n\u001b[0;32m----> 1\u001b[0;31m \u001b[0;32mfor\u001b[0m \u001b[0;34m(\u001b[0m\u001b[0mi\u001b[0m\u001b[0;34m,\u001b[0m\u001b[0mj\u001b[0m\u001b[0;34m)\u001b[0m \u001b[0;32min\u001b[0m \u001b[0mL7\u001b[0m\u001b[0;34m:\u001b[0m\u001b[0;34m\u001b[0m\u001b[0;34m\u001b[0m\u001b[0m\n\u001b[0m\u001b[1;32m      2\u001b[0m   \u001b[0mprint\u001b[0m\u001b[0;34m(\u001b[0m\u001b[0mi\u001b[0m\u001b[0;34m,\u001b[0m\u001b[0mj\u001b[0m\u001b[0;34m)\u001b[0m\u001b[0;34m\u001b[0m\u001b[0;34m\u001b[0m\u001b[0m\n",
            "\u001b[0;31mValueError\u001b[0m: too many values to unpack (expected 2)"
          ]
        }
      ]
    },
    {
      "cell_type": "markdown",
      "metadata": {
        "id": "RxxftciblM-s",
        "colab_type": "text"
      },
      "source": [
        "**Example 7**"
      ]
    },
    {
      "cell_type": "code",
      "metadata": {
        "id": "kwvk950llBGT",
        "colab_type": "code",
        "colab": {}
      },
      "source": [
        "s={1,2,9}"
      ],
      "execution_count": null,
      "outputs": []
    },
    {
      "cell_type": "code",
      "metadata": {
        "id": "jh7bIP_ClRfb",
        "colab_type": "code",
        "colab": {}
      },
      "source": [
        "for i in s:\n",
        "  print(i)"
      ],
      "execution_count": null,
      "outputs": []
    },
    {
      "cell_type": "code",
      "metadata": {
        "id": "DHKsdCMYcm4a",
        "colab_type": "code",
        "colab": {}
      },
      "source": [
        ""
      ],
      "execution_count": null,
      "outputs": []
    },
    {
      "cell_type": "markdown",
      "metadata": {
        "id": "URnqa7bkldLH",
        "colab_type": "text"
      },
      "source": [
        "# while Loops\n",
        "\n",
        "The while statement in Python is one of most general ways to perform iteration. A while statement will repeatedly execute a single statement or group of statements as long as the condition is true. \n",
        "\n",
        "    while test:\n",
        "        code statements\n",
        "    else:\n",
        "        final code statements"
      ]
    },
    {
      "cell_type": "markdown",
      "metadata": {
        "id": "z7cHexrPnBpX",
        "colab_type": "text"
      },
      "source": [
        "**Example 8**"
      ]
    },
    {
      "cell_type": "code",
      "metadata": {
        "id": "NGy-lxwLnz-Q",
        "colab_type": "code",
        "colab": {}
      },
      "source": [
        "x=0"
      ],
      "execution_count": null,
      "outputs": []
    },
    {
      "cell_type": "code",
      "metadata": {
        "id": "3QYxb03_na6T",
        "colab_type": "code",
        "colab": {}
      },
      "source": [
        "while x<10:\n",
        "  print(x)"
      ],
      "execution_count": null,
      "outputs": []
    },
    {
      "cell_type": "markdown",
      "metadata": {
        "id": "dLJC9HnkoNbi",
        "colab_type": "text"
      },
      "source": [
        "**Example 9**"
      ]
    },
    {
      "cell_type": "code",
      "metadata": {
        "id": "6N4sQs1Jnt5C",
        "colab_type": "code",
        "colab": {}
      },
      "source": [
        "y=0"
      ],
      "execution_count": null,
      "outputs": []
    },
    {
      "cell_type": "code",
      "metadata": {
        "id": "xaxvBPeTolDU",
        "colab_type": "code",
        "colab": {}
      },
      "source": [
        "while y<10:\n",
        "  print(\"y less than ten\")\n",
        "  y=y+1\n",
        "else:\n",
        "  print(\"y is greater than 10\")"
      ],
      "execution_count": null,
      "outputs": []
    },
    {
      "cell_type": "code",
      "metadata": {
        "id": "VrN1w4CwpG1I",
        "colab_type": "code",
        "colab": {}
      },
      "source": [
        "L=[1,2,3,4,8]\n",
        "i=0"
      ],
      "execution_count": null,
      "outputs": []
    },
    {
      "cell_type": "code",
      "metadata": {
        "id": "WoXNAQpTpXWN",
        "colab_type": "code",
        "colab": {}
      },
      "source": [
        "length=len(L)"
      ],
      "execution_count": null,
      "outputs": []
    },
    {
      "cell_type": "code",
      "metadata": {
        "id": "6YMltKqSq0Q3",
        "colab_type": "code",
        "colab": {}
      },
      "source": [
        "while i<length:\n",
        "  print(L[i])\n",
        "  i=i+1\n",
        "else:\n",
        "  print(\"End of List\")"
      ],
      "execution_count": null,
      "outputs": []
    },
    {
      "cell_type": "markdown",
      "metadata": {
        "id": "muU8kexZrPWh",
        "colab_type": "text"
      },
      "source": [
        "**Example 10**"
      ]
    },
    {
      "cell_type": "code",
      "metadata": {
        "id": "Liw2knwErO_C",
        "colab_type": "code",
        "colab": {}
      },
      "source": [
        "s=\"Notebook\"\n",
        "i=0"
      ],
      "execution_count": null,
      "outputs": []
    },
    {
      "cell_type": "code",
      "metadata": {
        "id": "uG21N72jrAbY",
        "colab_type": "code",
        "colab": {}
      },
      "source": [
        "l=len(s)"
      ],
      "execution_count": null,
      "outputs": []
    },
    {
      "cell_type": "code",
      "metadata": {
        "id": "56EnjdqorVCG",
        "colab_type": "code",
        "colab": {}
      },
      "source": [
        "while i<l:\n",
        "  print(s[i])\n",
        "  i=i+1\n",
        "else:\n",
        "  print(\"End of string\") "
      ],
      "execution_count": null,
      "outputs": []
    },
    {
      "cell_type": "markdown",
      "metadata": {
        "id": "HPXT7B_isc5M",
        "colab_type": "text"
      },
      "source": [
        "# Break,Continue Statements\n",
        "\n",
        "We can use break, continue statements in our loops to add additional functionality for various cases."
      ]
    },
    {
      "cell_type": "code",
      "metadata": {
        "id": "Kom4-spjrgMD",
        "colab_type": "code",
        "colab": {}
      },
      "source": [
        "a=[1,2,3,10,90]"
      ],
      "execution_count": null,
      "outputs": []
    },
    {
      "cell_type": "code",
      "metadata": {
        "id": "Gwnu9Ffmsv57",
        "colab_type": "code",
        "colab": {
          "base_uri": "https://localhost:8080/",
          "height": 85
        },
        "outputId": "b52419ad-0d0d-4f8e-d04e-6996a70b2fcc"
      },
      "source": [
        "for i in a:\n",
        "  if i==10:\n",
        "    print(\"I got ten.\")\n",
        "    break\n",
        "  else:\n",
        "    print(i)"
      ],
      "execution_count": null,
      "outputs": [
        {
          "output_type": "stream",
          "text": [
            "1\n",
            "2\n",
            "3\n",
            "I got ten.\n"
          ],
          "name": "stdout"
        }
      ]
    },
    {
      "cell_type": "code",
      "metadata": {
        "id": "DDT7Mbk2t66l",
        "colab_type": "code",
        "colab": {
          "base_uri": "https://localhost:8080/",
          "height": 85
        },
        "outputId": "7373e276-26cc-4426-d776-6058125becb5"
      },
      "source": [
        "j=0\n",
        "while j<len(a):\n",
        "  if a[j]==10:\n",
        "    print(\"I got 10.\")\n",
        "    break\n",
        "  else:\n",
        "    print(a[j])\n",
        "    j=j+1"
      ],
      "execution_count": null,
      "outputs": [
        {
          "output_type": "stream",
          "text": [
            "1\n",
            "2\n",
            "3\n",
            "I got 10.\n"
          ],
          "name": "stdout"
        }
      ]
    },
    {
      "cell_type": "code",
      "metadata": {
        "id": "AnQFWshkuGJh",
        "colab_type": "code",
        "colab": {
          "base_uri": "https://localhost:8080/",
          "height": 34
        },
        "outputId": "80d36086-52c9-4ddc-8ca5-919bad02cab9"
      },
      "source": [
        "for i in a:\n",
        "  if i==10:\n",
        "    print(\"I got ten.\")\n",
        "    break\n",
        "  else:\n",
        "    continue\n",
        "    print(i)"
      ],
      "execution_count": null,
      "outputs": [
        {
          "output_type": "stream",
          "text": [
            "I got ten.\n"
          ],
          "name": "stdout"
        }
      ]
    },
    {
      "cell_type": "code",
      "metadata": {
        "id": "VOWYUxTXukmy",
        "colab_type": "code",
        "colab": {
          "base_uri": "https://localhost:8080/",
          "height": 34
        },
        "outputId": "eb7477ab-3671-4bcc-994c-d88e948e7203"
      },
      "source": [
        "j=0\n",
        "while j<len(a):\n",
        "  if a[j]==10:\n",
        "    print(\"I got 10.\")\n",
        "    break\n",
        "  else:\n",
        "    j=j+1\n",
        "    continue\n",
        "    print(a[j])"
      ],
      "execution_count": null,
      "outputs": [
        {
          "output_type": "stream",
          "text": [
            "I got 10.\n"
          ],
          "name": "stdout"
        }
      ]
    },
    {
      "cell_type": "code",
      "metadata": {
        "id": "H3AQMZgAvBXz",
        "colab_type": "code",
        "colab": {}
      },
      "source": [
        ""
      ],
      "execution_count": null,
      "outputs": []
    }
  ]
}