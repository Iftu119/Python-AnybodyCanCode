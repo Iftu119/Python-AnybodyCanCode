{
 "cells": [
  {
   "cell_type": "code",
   "execution_count": 1,
   "metadata": {
    "colab": {
     "base_uri": "https://localhost:8080/",
     "height": 34
    },
    "colab_type": "code",
    "executionInfo": {
     "elapsed": 1223,
     "status": "ok",
     "timestamp": 1593066459023,
     "user": {
      "displayName": "Faiza Feroz",
      "photoUrl": "",
      "userId": "14588334127097493576"
     },
     "user_tz": -360
    },
    "id": "rFCNaHIjl_BF",
    "outputId": "5e4d6f57-7ae5-4f6a-8362-52f96b83aacc"
   },
   "outputs": [
    {
     "name": "stdout",
     "output_type": "stream",
     "text": [
      "Hello World\n"
     ]
    }
   ],
   "source": [
    "print(\"Hello World\")\n"
   ]
  },
  {
   "cell_type": "markdown",
   "metadata": {
    "colab_type": "text",
    "id": "1PF9dftxQXVK"
   },
   "source": [
    "# **Let's talk about Numbers**\n",
    "\n",
    "Genarelly number is an arithmetical value which is expressed by a word,symbol, or figure.\n",
    "\n",
    "Python has various \"types\" of numbers (numeric literals). We'll mainly focus on integers and floating point numbers.\n",
    "\n",
    "**Integer Number:**\n",
    "An integer is a number that can be written without a fractional component.\n",
    "**Floating Point Number:**\n",
    "A floating point number is a number that contain floating decimal points.\n",
    "\n"
   ]
  },
  {
   "cell_type": "code",
   "execution_count": 2,
   "metadata": {
    "colab": {},
    "colab_type": "code",
    "id": "6yfJTLgLQUHb"
   },
   "outputs": [],
   "source": [
    "a=10\n",
    "b=10.2"
   ]
  },
  {
   "cell_type": "code",
   "execution_count": 3,
   "metadata": {
    "colab": {
     "base_uri": "https://localhost:8080/",
     "height": 34
    },
    "colab_type": "code",
    "executionInfo": {
     "elapsed": 2432,
     "status": "ok",
     "timestamp": 1593066653878,
     "user": {
      "displayName": "Rubaiya Reza Sohana",
      "photoUrl": "",
      "userId": "02501013413421180171"
     },
     "user_tz": -360
    },
    "id": "8nTiHn92WjFa",
    "outputId": "d8bca309-8fd7-424a-9114-ff8c94446d23"
   },
   "outputs": [
    {
     "data": {
      "text/plain": [
       "10"
      ]
     },
     "execution_count": 3,
     "metadata": {},
     "output_type": "execute_result"
    }
   ],
   "source": [
    "a"
   ]
  },
  {
   "cell_type": "code",
   "execution_count": 4,
   "metadata": {
    "colab": {
     "base_uri": "https://localhost:8080/",
     "height": 34
    },
    "colab_type": "code",
    "executionInfo": {
     "elapsed": 2976,
     "status": "ok",
     "timestamp": 1593066660420,
     "user": {
      "displayName": "Rubaiya Reza Sohana",
      "photoUrl": "",
      "userId": "02501013413421180171"
     },
     "user_tz": -360
    },
    "id": "7qivgPCcWmXR",
    "outputId": "1755579b-19d2-4f41-8f33-e5d62d7b8bd2"
   },
   "outputs": [
    {
     "data": {
      "text/plain": [
       "10.2"
      ]
     },
     "execution_count": 4,
     "metadata": {},
     "output_type": "execute_result"
    }
   ],
   "source": [
    "b"
   ]
  },
  {
   "cell_type": "code",
   "execution_count": 5,
   "metadata": {
    "colab": {
     "base_uri": "https://localhost:8080/",
     "height": 34
    },
    "colab_type": "code",
    "executionInfo": {
     "elapsed": 2291,
     "status": "ok",
     "timestamp": 1593066682095,
     "user": {
      "displayName": "Rubaiya Reza Sohana",
      "photoUrl": "",
      "userId": "02501013413421180171"
     },
     "user_tz": -360
    },
    "id": "vf9CzTbfWpCq",
    "outputId": "4089ef56-66c2-453c-868d-2eaca3ed5859"
   },
   "outputs": [
    {
     "name": "stdout",
     "output_type": "stream",
     "text": [
      "Frist Number 10\n"
     ]
    }
   ],
   "source": [
    "print(\"Frist Number\",a)"
   ]
  },
  {
   "cell_type": "code",
   "execution_count": 6,
   "metadata": {
    "colab": {
     "base_uri": "https://localhost:8080/",
     "height": 34
    },
    "colab_type": "code",
    "executionInfo": {
     "elapsed": 1816,
     "status": "ok",
     "timestamp": 1593066690433,
     "user": {
      "displayName": "Rubaiya Reza Sohana",
      "photoUrl": "",
      "userId": "02501013413421180171"
     },
     "user_tz": -360
    },
    "id": "K9QUGw8vW1JP",
    "outputId": "c158c99f-700b-4d95-942e-7fdc85252cc0"
   },
   "outputs": [
    {
     "name": "stdout",
     "output_type": "stream",
     "text": [
      "Second Number 10.2\n"
     ]
    }
   ],
   "source": [
    "\n",
    "print(\"Second Number\",b)"
   ]
  },
  {
   "cell_type": "code",
   "execution_count": 7,
   "metadata": {
    "colab": {
     "base_uri": "https://localhost:8080/",
     "height": 34
    },
    "colab_type": "code",
    "executionInfo": {
     "elapsed": 1290,
     "status": "ok",
     "timestamp": 1593066716000,
     "user": {
      "displayName": "Rubaiya Reza Sohana",
      "photoUrl": "",
      "userId": "02501013413421180171"
     },
     "user_tz": -360
    },
    "id": "YjcyIRzWWMwY",
    "outputId": "5579336a-8a62-4b41-fce4-848a723fc7b3"
   },
   "outputs": [
    {
     "data": {
      "text/plain": [
       "int"
      ]
     },
     "execution_count": 7,
     "metadata": {},
     "output_type": "execute_result"
    }
   ],
   "source": [
    "\n",
    "type(a)"
   ]
  },
  {
   "cell_type": "code",
   "execution_count": 8,
   "metadata": {
    "colab": {},
    "colab_type": "code",
    "id": "lJtilZ0rWaJd"
   },
   "outputs": [
    {
     "data": {
      "text/plain": [
       "float"
      ]
     },
     "execution_count": 8,
     "metadata": {},
     "output_type": "execute_result"
    }
   ],
   "source": [
    "type(b)"
   ]
  },
  {
   "cell_type": "code",
   "execution_count": 9,
   "metadata": {
    "colab": {},
    "colab_type": "code",
    "id": "HTNsJ2YLWelt"
   },
   "outputs": [],
   "source": [
    "a=1000"
   ]
  },
  {
   "cell_type": "code",
   "execution_count": 10,
   "metadata": {
    "colab": {
     "base_uri": "https://localhost:8080/",
     "height": 34
    },
    "colab_type": "code",
    "executionInfo": {
     "elapsed": 1444,
     "status": "ok",
     "timestamp": 1593066734786,
     "user": {
      "displayName": "Rubaiya Reza Sohana",
      "photoUrl": "",
      "userId": "02501013413421180171"
     },
     "user_tz": -360
    },
    "id": "cT9zOFVnYQqy",
    "outputId": "d2de56f4-3d8f-438b-91d1-b9b8300ed185"
   },
   "outputs": [
    {
     "name": "stdout",
     "output_type": "stream",
     "text": [
      "1000\n"
     ]
    }
   ],
   "source": [
    "print(a)"
   ]
  },
  {
   "cell_type": "markdown",
   "metadata": {
    "colab_type": "text",
    "id": "O3OkY-0FVTAC"
   },
   "source": [
    "**Let's talk about some arithmetic Operations**"
   ]
  },
  {
   "cell_type": "code",
   "execution_count": 11,
   "metadata": {
    "colab": {},
    "colab_type": "code",
    "id": "2oFR525IWYNg"
   },
   "outputs": [],
   "source": [
    "a=100\n",
    "b=5"
   ]
  },
  {
   "cell_type": "markdown",
   "metadata": {
    "colab_type": "text",
    "id": "w9K7MEoeblGb"
   },
   "source": [
    "\n",
    "**Addition**"
   ]
  },
  {
   "cell_type": "code",
   "execution_count": 12,
   "metadata": {
    "colab": {
     "base_uri": "https://localhost:8080/",
     "height": 34
    },
    "colab_type": "code",
    "executionInfo": {
     "elapsed": 1178,
     "status": "ok",
     "timestamp": 1593066797783,
     "user": {
      "displayName": "Rubaiya Reza Sohana",
      "photoUrl": "",
      "userId": "02501013413421180171"
     },
     "user_tz": -360
    },
    "id": "VEM9NZrEYd3Y",
    "outputId": "ca5a9798-1898-4b2b-9044-92fe3bccc22c"
   },
   "outputs": [
    {
     "data": {
      "text/plain": [
       "105"
      ]
     },
     "execution_count": 12,
     "metadata": {},
     "output_type": "execute_result"
    }
   ],
   "source": [
    "a+b"
   ]
  },
  {
   "cell_type": "code",
   "execution_count": 13,
   "metadata": {
    "colab": {},
    "colab_type": "code",
    "id": "VMw1wjR8YiKY"
   },
   "outputs": [],
   "source": [
    "\n",
    "\n",
    "c=a+b"
   ]
  },
  {
   "cell_type": "code",
   "execution_count": 14,
   "metadata": {
    "colab": {
     "base_uri": "https://localhost:8080/",
     "height": 34
    },
    "colab_type": "code",
    "executionInfo": {
     "elapsed": 1546,
     "status": "ok",
     "timestamp": 1593066818647,
     "user": {
      "displayName": "Rubaiya Reza Sohana",
      "photoUrl": "",
      "userId": "02501013413421180171"
     },
     "user_tz": -360
    },
    "id": "6Oj5tuqb_zos",
    "outputId": "aa60600d-5660-49b8-adc3-eccd6124585a"
   },
   "outputs": [
    {
     "data": {
      "text/plain": [
       "105"
      ]
     },
     "execution_count": 14,
     "metadata": {},
     "output_type": "execute_result"
    }
   ],
   "source": [
    "c"
   ]
  },
  {
   "cell_type": "code",
   "execution_count": 15,
   "metadata": {
    "colab": {
     "base_uri": "https://localhost:8080/",
     "height": 34
    },
    "colab_type": "code",
    "executionInfo": {
     "elapsed": 1216,
     "status": "ok",
     "timestamp": 1593066825236,
     "user": {
      "displayName": "Rubaiya Reza Sohana",
      "photoUrl": "",
      "userId": "02501013413421180171"
     },
     "user_tz": -360
    },
    "id": "bnwolFGtYxIU",
    "outputId": "568729b4-928b-43ed-c013-0dacd9a01595"
   },
   "outputs": [
    {
     "name": "stdout",
     "output_type": "stream",
     "text": [
      "105\n"
     ]
    }
   ],
   "source": [
    "print(c)"
   ]
  },
  {
   "cell_type": "markdown",
   "metadata": {
    "colab_type": "text",
    "id": "s8e9-ty2ZElZ"
   },
   "source": [
    "**Subtraction**"
   ]
  },
  {
   "cell_type": "code",
   "execution_count": 16,
   "metadata": {
    "colab": {
     "base_uri": "https://localhost:8080/",
     "height": 34
    },
    "colab_type": "code",
    "executionInfo": {
     "elapsed": 1766,
     "status": "ok",
     "timestamp": 1593066833719,
     "user": {
      "displayName": "Rubaiya Reza Sohana",
      "photoUrl": "",
      "userId": "02501013413421180171"
     },
     "user_tz": -360
    },
    "id": "1eGx0JB-Y0Rp",
    "outputId": "826744d4-5bf2-4081-b511-2bb22a8a6aec"
   },
   "outputs": [
    {
     "data": {
      "text/plain": [
       "95"
      ]
     },
     "execution_count": 16,
     "metadata": {},
     "output_type": "execute_result"
    }
   ],
   "source": [
    "a-b"
   ]
  },
  {
   "cell_type": "code",
   "execution_count": 17,
   "metadata": {
    "colab": {},
    "colab_type": "code",
    "id": "Y2c_F-5s_9D3"
   },
   "outputs": [],
   "source": [
    "d=a-b"
   ]
  },
  {
   "cell_type": "code",
   "execution_count": 18,
   "metadata": {
    "colab": {
     "base_uri": "https://localhost:8080/",
     "height": 34
    },
    "colab_type": "code",
    "executionInfo": {
     "elapsed": 1368,
     "status": "ok",
     "timestamp": 1593066839811,
     "user": {
      "displayName": "Rubaiya Reza Sohana",
      "photoUrl": "",
      "userId": "02501013413421180171"
     },
     "user_tz": -360
    },
    "id": "9FL85l1IAAWp",
    "outputId": "4be31ed1-94a7-4706-ee5a-8e03b0f77f64"
   },
   "outputs": [
    {
     "name": "stdout",
     "output_type": "stream",
     "text": [
      "95\n"
     ]
    }
   ],
   "source": [
    "print(d)"
   ]
  },
  {
   "cell_type": "markdown",
   "metadata": {
    "colab_type": "text",
    "id": "cylP2tScbsoh"
   },
   "source": [
    "\n",
    "**Multiplication**"
   ]
  },
  {
   "cell_type": "code",
   "execution_count": 19,
   "metadata": {
    "colab": {},
    "colab_type": "code",
    "id": "IRhT7elzY8Yl"
   },
   "outputs": [],
   "source": [
    "m=a*b"
   ]
  },
  {
   "cell_type": "code",
   "execution_count": 20,
   "metadata": {
    "colab": {
     "base_uri": "https://localhost:8080/",
     "height": 34
    },
    "colab_type": "code",
    "executionInfo": {
     "elapsed": 780,
     "status": "ok",
     "timestamp": 1593066850943,
     "user": {
      "displayName": "Rubaiya Reza Sohana",
      "photoUrl": "",
      "userId": "02501013413421180171"
     },
     "user_tz": -360
    },
    "id": "E5CzhJdIb0Y4",
    "outputId": "8e5cbdf0-6bf9-4ddb-e0be-a1a0b7e40d9a"
   },
   "outputs": [
    {
     "name": "stdout",
     "output_type": "stream",
     "text": [
      "500\n"
     ]
    }
   ],
   "source": [
    "\n",
    "print(m)"
   ]
  },
  {
   "cell_type": "markdown",
   "metadata": {
    "colab_type": "text",
    "id": "fw0-k2Hyb4l3"
   },
   "source": [
    "**Division**"
   ]
  },
  {
   "cell_type": "code",
   "execution_count": 21,
   "metadata": {
    "colab": {},
    "colab_type": "code",
    "id": "aIIjwrZ_cRjM"
   },
   "outputs": [],
   "source": [
    "a=20\n",
    "b=8\n"
   ]
  },
  {
   "cell_type": "code",
   "execution_count": 22,
   "metadata": {
    "colab": {
     "base_uri": "https://localhost:8080/",
     "height": 34
    },
    "colab_type": "code",
    "executionInfo": {
     "elapsed": 1297,
     "status": "ok",
     "timestamp": 1593066880751,
     "user": {
      "displayName": "Rubaiya Reza Sohana",
      "photoUrl": "",
      "userId": "02501013413421180171"
     },
     "user_tz": -360
    },
    "id": "7yUngM-scURi",
    "outputId": "ca7ca374-cd4c-46fd-d9d7-cd2c0e88d6c8"
   },
   "outputs": [
    {
     "data": {
      "text/plain": [
       "2.5"
      ]
     },
     "execution_count": 22,
     "metadata": {},
     "output_type": "execute_result"
    }
   ],
   "source": [
    "a/b"
   ]
  },
  {
   "cell_type": "markdown",
   "metadata": {
    "colab_type": "text",
    "id": "vA6Cz3pzcfkV"
   },
   "source": [
    "\n",
    "Floor Division"
   ]
  },
  {
   "cell_type": "code",
   "execution_count": 23,
   "metadata": {
    "colab": {
     "base_uri": "https://localhost:8080/",
     "height": 34
    },
    "colab_type": "code",
    "executionInfo": {
     "elapsed": 1428,
     "status": "ok",
     "timestamp": 1593066894074,
     "user": {
      "displayName": "Rubaiya Reza Sohana",
      "photoUrl": "",
      "userId": "02501013413421180171"
     },
     "user_tz": -360
    },
    "id": "yUDzo5KycVqE",
    "outputId": "85645c3c-e58c-4b11-c3b0-eaded9c6333e"
   },
   "outputs": [
    {
     "data": {
      "text/plain": [
       "2"
      ]
     },
     "execution_count": 23,
     "metadata": {},
     "output_type": "execute_result"
    }
   ],
   "source": [
    "a//b"
   ]
  },
  {
   "cell_type": "markdown",
   "metadata": {
    "colab_type": "text",
    "id": "E2ETQjggcs1u"
   },
   "source": [
    "Power"
   ]
  },
  {
   "cell_type": "code",
   "execution_count": 24,
   "metadata": {
    "colab": {
     "base_uri": "https://localhost:8080/",
     "height": 34
    },
    "colab_type": "code",
    "executionInfo": {
     "elapsed": 1949,
     "status": "ok",
     "timestamp": 1593066914656,
     "user": {
      "displayName": "Rubaiya Reza Sohana",
      "photoUrl": "",
      "userId": "02501013413421180171"
     },
     "user_tz": -360
    },
    "id": "PVzNaDyhcYb5",
    "outputId": "9884db6d-46b5-429a-a6fd-74f14dc01779"
   },
   "outputs": [
    {
     "data": {
      "text/plain": [
       "16"
      ]
     },
     "execution_count": 24,
     "metadata": {},
     "output_type": "execute_result"
    }
   ],
   "source": [
    "4**2\n"
   ]
  },
  {
   "cell_type": "markdown",
   "metadata": {
    "colab_type": "text",
    "id": "8GS9KT8tc7GI"
   },
   "source": [
    "Root\n"
   ]
  },
  {
   "cell_type": "code",
   "execution_count": 25,
   "metadata": {
    "colab": {
     "base_uri": "https://localhost:8080/",
     "height": 34
    },
    "colab_type": "code",
    "executionInfo": {
     "elapsed": 1412,
     "status": "ok",
     "timestamp": 1593066926721,
     "user": {
      "displayName": "Rubaiya Reza Sohana",
      "photoUrl": "",
      "userId": "02501013413421180171"
     },
     "user_tz": -360
    },
    "id": "bDroEiDSc4i4",
    "outputId": "f1889798-b7bd-41fd-e02d-e3ed6a9c7986"
   },
   "outputs": [
    {
     "data": {
      "text/plain": [
       "2.0"
      ]
     },
     "execution_count": 25,
     "metadata": {},
     "output_type": "execute_result"
    }
   ],
   "source": [
    "4**.5"
   ]
  },
  {
   "cell_type": "markdown",
   "metadata": {
    "colab_type": "text",
    "id": "ka2HELMqdDV7"
   },
   "source": [
    "**Modulo**"
   ]
  },
  {
   "cell_type": "code",
   "execution_count": 26,
   "metadata": {
    "colab": {
     "base_uri": "https://localhost:8080/",
     "height": 34
    },
    "colab_type": "code",
    "executionInfo": {
     "elapsed": 1288,
     "status": "ok",
     "timestamp": 1593066937661,
     "user": {
      "displayName": "Rubaiya Reza Sohana",
      "photoUrl": "",
      "userId": "02501013413421180171"
     },
     "user_tz": -360
    },
    "id": "gBIIIzmydCqd",
    "outputId": "d61fc1e9-4a36-4dc1-f1b4-9dde5e3624e8"
   },
   "outputs": [
    {
     "data": {
      "text/plain": [
       "4"
      ]
     },
     "execution_count": 26,
     "metadata": {},
     "output_type": "execute_result"
    }
   ],
   "source": [
    "a%b"
   ]
  },
  {
   "cell_type": "code",
   "execution_count": 27,
   "metadata": {
    "colab": {
     "base_uri": "https://localhost:8080/",
     "height": 34
    },
    "colab_type": "code",
    "executionInfo": {
     "elapsed": 1205,
     "status": "ok",
     "timestamp": 1593066953516,
     "user": {
      "displayName": "Rubaiya Reza Sohana",
      "photoUrl": "",
      "userId": "02501013413421180171"
     },
     "user_tz": -360
    },
    "id": "43puzZqyc-WI",
    "outputId": "9ceb5a2c-2e84-4d06-fcdd-9f8f29fb2160"
   },
   "outputs": [
    {
     "data": {
      "text/plain": [
       "0.056"
      ]
     },
     "execution_count": 27,
     "metadata": {},
     "output_type": "execute_result"
    }
   ],
   "source": [
    "#Using parenthesis\n",
    "(a+b)/m"
   ]
  },
  {
   "cell_type": "code",
   "execution_count": 28,
   "metadata": {
    "colab": {},
    "colab_type": "code",
    "id": "REK2NR3cddYg"
   },
   "outputs": [],
   "source": [
    "Car_Speed= 20\n",
    "Hour=2\n",
    "Distance=Car_Speed*Hour"
   ]
  },
  {
   "cell_type": "code",
   "execution_count": 29,
   "metadata": {
    "colab": {
     "base_uri": "https://localhost:8080/",
     "height": 34
    },
    "colab_type": "code",
    "executionInfo": {
     "elapsed": 1583,
     "status": "ok",
     "timestamp": 1593067231024,
     "user": {
      "displayName": "Rubaiya Reza Sohana",
      "photoUrl": "",
      "userId": "02501013413421180171"
     },
     "user_tz": -360
    },
    "id": "KdjTWrcfedbi",
    "outputId": "84c1f7b9-ae14-4bc5-df21-73e675f6c494"
   },
   "outputs": [
    {
     "data": {
      "text/plain": [
       "40"
      ]
     },
     "execution_count": 29,
     "metadata": {},
     "output_type": "execute_result"
    }
   ],
   "source": [
    "Distance"
   ]
  },
  {
   "cell_type": "code",
   "execution_count": 30,
   "metadata": {
    "colab": {
     "base_uri": "https://localhost:8080/",
     "height": 34
    },
    "colab_type": "code",
    "executionInfo": {
     "elapsed": 1516,
     "status": "ok",
     "timestamp": 1593067005200,
     "user": {
      "displayName": "Rubaiya Reza Sohana",
      "photoUrl": "",
      "userId": "02501013413421180171"
     },
     "user_tz": -360
    },
    "id": "avcrgm8glHbr",
    "outputId": "36a29cef-3239-410c-d498-24311c02fea9"
   },
   "outputs": [
    {
     "data": {
      "text/plain": [
       "20"
      ]
     },
     "execution_count": 30,
     "metadata": {},
     "output_type": "execute_result"
    }
   ],
   "source": [
    "a"
   ]
  },
  {
   "cell_type": "code",
   "execution_count": 31,
   "metadata": {
    "colab": {
     "base_uri": "https://localhost:8080/",
     "height": 34
    },
    "colab_type": "code",
    "executionInfo": {
     "elapsed": 2055,
     "status": "ok",
     "timestamp": 1593067014268,
     "user": {
      "displayName": "Rubaiya Reza Sohana",
      "photoUrl": "",
      "userId": "02501013413421180171"
     },
     "user_tz": -360
    },
    "id": "qL9NyZ2QoAg6",
    "outputId": "b12c98f8-b58c-4c67-a8e3-4e7ae84b3f8a"
   },
   "outputs": [
    {
     "data": {
      "text/plain": [
       "40"
      ]
     },
     "execution_count": 31,
     "metadata": {},
     "output_type": "execute_result"
    }
   ],
   "source": [
    "a+a"
   ]
  },
  {
   "cell_type": "code",
   "execution_count": 32,
   "metadata": {
    "colab": {},
    "colab_type": "code",
    "id": "9KN2Swb4oXms"
   },
   "outputs": [],
   "source": [
    "a+=20"
   ]
  },
  {
   "cell_type": "code",
   "execution_count": 33,
   "metadata": {
    "colab": {
     "base_uri": "https://localhost:8080/",
     "height": 34
    },
    "colab_type": "code",
    "executionInfo": {
     "elapsed": 1694,
     "status": "ok",
     "timestamp": 1593067031996,
     "user": {
      "displayName": "Rubaiya Reza Sohana",
      "photoUrl": "",
      "userId": "02501013413421180171"
     },
     "user_tz": -360
    },
    "id": "3fbLbhVooZMO",
    "outputId": "3e2f9c26-9dbc-4441-e5ec-d070445dc649"
   },
   "outputs": [
    {
     "data": {
      "text/plain": [
       "40"
      ]
     },
     "execution_count": 33,
     "metadata": {},
     "output_type": "execute_result"
    }
   ],
   "source": [
    "a"
   ]
  },
  {
   "cell_type": "code",
   "execution_count": 34,
   "metadata": {
    "colab": {},
    "colab_type": "code",
    "id": "KY2mUnDoA-5X"
   },
   "outputs": [],
   "source": [
    "a=a+20"
   ]
  },
  {
   "cell_type": "code",
   "execution_count": 35,
   "metadata": {
    "colab": {
     "base_uri": "https://localhost:8080/",
     "height": 34
    },
    "colab_type": "code",
    "executionInfo": {
     "elapsed": 1440,
     "status": "ok",
     "timestamp": 1593067044720,
     "user": {
      "displayName": "Rubaiya Reza Sohana",
      "photoUrl": "",
      "userId": "02501013413421180171"
     },
     "user_tz": -360
    },
    "id": "VC5fRggKBBQ2",
    "outputId": "f64f3b3e-de72-4412-deec-082d488aa1b0"
   },
   "outputs": [
    {
     "data": {
      "text/plain": [
       "60"
      ]
     },
     "execution_count": 35,
     "metadata": {},
     "output_type": "execute_result"
    }
   ],
   "source": [
    "a"
   ]
  },
  {
   "cell_type": "code",
   "execution_count": 36,
   "metadata": {
    "colab": {},
    "colab_type": "code",
    "id": "S53cTMazoaLe"
   },
   "outputs": [
    {
     "data": {
      "text/plain": [
       "120"
      ]
     },
     "execution_count": 36,
     "metadata": {},
     "output_type": "execute_result"
    }
   ],
   "source": [
    "a*=2\n",
    "a"
   ]
  },
  {
   "cell_type": "code",
   "execution_count": 37,
   "metadata": {
    "colab": {},
    "colab_type": "code",
    "id": "cFmWh73QBKrt"
   },
   "outputs": [],
   "source": [
    "a=a*2"
   ]
  },
  {
   "cell_type": "code",
   "execution_count": 38,
   "metadata": {
    "colab": {
     "base_uri": "https://localhost:8080/",
     "height": 34
    },
    "colab_type": "code",
    "executionInfo": {
     "elapsed": 733,
     "status": "ok",
     "timestamp": 1593067064006,
     "user": {
      "displayName": "Rubaiya Reza Sohana",
      "photoUrl": "",
      "userId": "02501013413421180171"
     },
     "user_tz": -360
    },
    "id": "a_2uUp3iobqB",
    "outputId": "ad714b03-6407-4d69-938c-636ca6108055"
   },
   "outputs": [
    {
     "data": {
      "text/plain": [
       "240"
      ]
     },
     "execution_count": 38,
     "metadata": {},
     "output_type": "execute_result"
    }
   ],
   "source": [
    "a"
   ]
  },
  {
   "cell_type": "markdown",
   "metadata": {
    "colab_type": "text",
    "id": "mBJQ7pnOp1Ne"
   },
   "source": [
    "# **String**\n",
    "\n",
    "A string in Python is a sequence of characters.Strings are immutable. This means that once defined, they cannot be changed.\n",
    "\n",
    "We will learn about the following:\n",
    "\n",
    "1) Creating Strings\n",
    "2) Printing Strings\n",
    "3) String Indexing and Slicing\n",
    "4) String Properties\n",
    "5) String Methods\n",
    "6) Print Formatting\n",
    "\n",
    "\n",
    "\n"
   ]
  },
  {
   "cell_type": "code",
   "execution_count": 39,
   "metadata": {
    "colab": {
     "base_uri": "https://localhost:8080/",
     "height": 34
    },
    "colab_type": "code",
    "executionInfo": {
     "elapsed": 1567,
     "status": "ok",
     "timestamp": 1593067465301,
     "user": {
      "displayName": "Faiza Feroz",
      "photoUrl": "",
      "userId": "14588334127097493576"
     },
     "user_tz": -360
    },
    "id": "GqgKIlmvocV2",
    "outputId": "64e36e7e-8c26-4d48-8385-f5aadf1a5055"
   },
   "outputs": [
    {
     "name": "stdout",
     "output_type": "stream",
     "text": [
      "Hello\n"
     ]
    }
   ],
   "source": [
    "print(\"Hello\")\n"
   ]
  },
  {
   "cell_type": "code",
   "execution_count": 40,
   "metadata": {
    "colab": {
     "base_uri": "https://localhost:8080/",
     "height": 34
    },
    "colab_type": "code",
    "executionInfo": {
     "elapsed": 1976,
     "status": "ok",
     "timestamp": 1593067495210,
     "user": {
      "displayName": "Faiza Feroz",
      "photoUrl": "",
      "userId": "14588334127097493576"
     },
     "user_tz": -360
    },
    "id": "FO_Z8dBuuBWJ",
    "outputId": "7b356efe-d639-453c-862c-27b2d4aa997b"
   },
   "outputs": [
    {
     "data": {
      "text/plain": [
       "'hello'"
      ]
     },
     "execution_count": 40,
     "metadata": {},
     "output_type": "execute_result"
    }
   ],
   "source": [
    "\n",
    "'hello'"
   ]
  },
  {
   "cell_type": "code",
   "execution_count": 41,
   "metadata": {
    "colab": {},
    "colab_type": "code",
    "id": "KpvF2uustwOA"
   },
   "outputs": [
    {
     "data": {
      "text/plain": [
       "'I am a student'"
      ]
     },
     "execution_count": 41,
     "metadata": {},
     "output_type": "execute_result"
    }
   ],
   "source": [
    "\"I am a student\"\n"
   ]
  },
  {
   "cell_type": "code",
   "execution_count": 42,
   "metadata": {
    "colab": {},
    "colab_type": "code",
    "id": "M890-Ppht31A"
   },
   "outputs": [
    {
     "data": {
      "text/plain": [
       "'I am a student'"
      ]
     },
     "execution_count": 42,
     "metadata": {},
     "output_type": "execute_result"
    }
   ],
   "source": [
    "'I am a student'"
   ]
  },
  {
   "cell_type": "code",
   "execution_count": 43,
   "metadata": {
    "colab": {
     "base_uri": "https://localhost:8080/",
     "height": 34
    },
    "colab_type": "code",
    "executionInfo": {
     "elapsed": 7073,
     "status": "ok",
     "timestamp": 1593067550422,
     "user": {
      "displayName": "Faiza Feroz",
      "photoUrl": "",
      "userId": "14588334127097493576"
     },
     "user_tz": -360
    },
    "id": "wCWiKsMruF0L",
    "outputId": "1b6e1965-26f9-4b8c-abc6-4f01c5d10aa1"
   },
   "outputs": [
    {
     "name": "stdout",
     "output_type": "stream",
     "text": [
      "It's a toy\n"
     ]
    }
   ],
   "source": [
    "\n",
    "print(\"It's a toy\")"
   ]
  },
  {
   "cell_type": "code",
   "execution_count": 44,
   "metadata": {
    "colab": {
     "base_uri": "https://localhost:8080/",
     "height": 34
    },
    "colab_type": "code",
    "executionInfo": {
     "elapsed": 1258,
     "status": "ok",
     "timestamp": 1593073465062,
     "user": {
      "displayName": "Rubaiya Reza Sohana",
      "photoUrl": "",
      "userId": "02501013413421180171"
     },
     "user_tz": -360
    },
    "id": "FTaEGGTPuQ8P",
    "outputId": "b0f2fad9-d4cc-4e12-aa0b-91f3eb5f9e7a"
   },
   "outputs": [
    {
     "data": {
      "text/plain": [
       "\"It's a toy\""
      ]
     },
     "execution_count": 44,
     "metadata": {},
     "output_type": "execute_result"
    }
   ],
   "source": [
    "\"It's a toy\""
   ]
  },
  {
   "cell_type": "code",
   "execution_count": 45,
   "metadata": {
    "colab": {
     "base_uri": "https://localhost:8080/",
     "height": 34
    },
    "colab_type": "code",
    "executionInfo": {
     "elapsed": 1367,
     "status": "ok",
     "timestamp": 1593074350233,
     "user": {
      "displayName": "Rubaiya Reza Sohana",
      "photoUrl": "",
      "userId": "02501013413421180171"
     },
     "user_tz": -360
    },
    "id": "1iWyGPamuYaB",
    "outputId": "9427e9d1-6802-46d2-8d41-e60ff8010469"
   },
   "outputs": [
    {
     "data": {
      "text/plain": [
       "'I am reading \"Revolution \"2020'"
      ]
     },
     "execution_count": 45,
     "metadata": {},
     "output_type": "execute_result"
    }
   ],
   "source": [
    "\"I am reading \\\"Revolution \\\"2020\""
   ]
  },
  {
   "cell_type": "code",
   "execution_count": 46,
   "metadata": {
    "colab": {
     "base_uri": "https://localhost:8080/",
     "height": 34
    },
    "colab_type": "code",
    "executionInfo": {
     "elapsed": 1631,
     "status": "ok",
     "timestamp": 1593073476747,
     "user": {
      "displayName": "Rubaiya Reza Sohana",
      "photoUrl": "",
      "userId": "02501013413421180171"
     },
     "user_tz": -360
    },
    "id": "pdjwhmNLuVkZ",
    "outputId": "7d51e899-9e11-4530-acac-d2e42ff860a5"
   },
   "outputs": [
    {
     "name": "stdout",
     "output_type": "stream",
     "text": [
      "I am reading \"Revolution 2020.I am enjoying the book.\n"
     ]
    }
   ],
   "source": [
    "print('I am reading \\\"Revolution 2020.I am enjoying the book.')"
   ]
  },
  {
   "cell_type": "code",
   "execution_count": 47,
   "metadata": {
    "colab": {
     "base_uri": "https://localhost:8080/",
     "height": 34
    },
    "colab_type": "code",
    "executionInfo": {
     "elapsed": 2948,
     "status": "ok",
     "timestamp": 1593067644070,
     "user": {
      "displayName": "Faiza Feroz",
      "photoUrl": "",
      "userId": "14588334127097493576"
     },
     "user_tz": -360
    },
    "id": "r4Ji6PNOvRwP",
    "outputId": "07452b05-6d5f-4e8d-9d7a-6ef38eaa0659"
   },
   "outputs": [
    {
     "name": "stdout",
     "output_type": "stream",
     "text": [
      "Notebook\n"
     ]
    }
   ],
   "source": [
    "s=\"Notebook\"\n",
    "print(s)"
   ]
  },
  {
   "cell_type": "markdown",
   "metadata": {
    "colab_type": "text",
    "id": "0bG9O_BiwdMF"
   },
   "source": [
    "\n",
    "\n"
   ]
  },
  {
   "cell_type": "markdown",
   "metadata": {
    "colab_type": "text",
    "id": "uvwaQqF8whIr"
   },
   "source": [
    "**Printing Strings**"
   ]
  },
  {
   "cell_type": "code",
   "execution_count": 48,
   "metadata": {
    "colab": {
     "base_uri": "https://localhost:8080/",
     "height": 34
    },
    "colab_type": "code",
    "executionInfo": {
     "elapsed": 2336,
     "status": "ok",
     "timestamp": 1593067654508,
     "user": {
      "displayName": "Faiza Feroz",
      "photoUrl": "",
      "userId": "14588334127097493576"
     },
     "user_tz": -360
    },
    "id": "J2jhXerXwI6g",
    "outputId": "3e187ea7-60ed-47f0-ba91-d654e2c03265"
   },
   "outputs": [
    {
     "name": "stdout",
     "output_type": "stream",
     "text": [
      "Hello Everyone\n"
     ]
    }
   ],
   "source": [
    "print(\"Hello Everyone\")"
   ]
  },
  {
   "cell_type": "code",
   "execution_count": 49,
   "metadata": {
    "colab": {
     "base_uri": "https://localhost:8080/",
     "height": 34
    },
    "colab_type": "code",
    "executionInfo": {
     "elapsed": 1514,
     "status": "ok",
     "timestamp": 1593067658779,
     "user": {
      "displayName": "Faiza Feroz",
      "photoUrl": "",
      "userId": "14588334127097493576"
     },
     "user_tz": -360
    },
    "id": "595OaN6rwpSq",
    "outputId": "7d859220-c09e-4607-a9d3-dd46bc916993"
   },
   "outputs": [
    {
     "name": "stdout",
     "output_type": "stream",
     "text": [
      "Notebook\n"
     ]
    }
   ],
   "source": [
    " print(s)"
   ]
  },
  {
   "cell_type": "code",
   "execution_count": 50,
   "metadata": {
    "colab": {
     "base_uri": "https://localhost:8080/",
     "height": 34
    },
    "colab_type": "code",
    "executionInfo": {
     "elapsed": 1205,
     "status": "ok",
     "timestamp": 1593067661302,
     "user": {
      "displayName": "Faiza Feroz",
      "photoUrl": "",
      "userId": "14588334127097493576"
     },
     "user_tz": -360
    },
    "id": "pcst1Sh19hAX",
    "outputId": "106c532e-c987-4493-bc96-5e8336b7c7e0"
   },
   "outputs": [
    {
     "name": "stdout",
     "output_type": "stream",
     "text": [
      "My name is Sohana.I am interested in music.\n"
     ]
    }
   ],
   "source": [
    "print(\"My name is Sohana.I am interested in music.\")"
   ]
  },
  {
   "cell_type": "code",
   "execution_count": 51,
   "metadata": {
    "colab": {
     "base_uri": "https://localhost:8080/",
     "height": 50
    },
    "colab_type": "code",
    "executionInfo": {
     "elapsed": 1692,
     "status": "ok",
     "timestamp": 1593067664970,
     "user": {
      "displayName": "Faiza Feroz",
      "photoUrl": "",
      "userId": "14588334127097493576"
     },
     "user_tz": -360
    },
    "id": "3E5IhbGI9yCu",
    "outputId": "0a27d8ff-a163-4f3d-8c50-f516d3930825"
   },
   "outputs": [
    {
     "name": "stdout",
     "output_type": "stream",
     "text": [
      "My name is Sohana.\n",
      "I am interested in music.\n"
     ]
    }
   ],
   "source": [
    "print(\"My name is Sohana.\\nI am interested in music.\")"
   ]
  },
  {
   "cell_type": "markdown",
   "metadata": {
    "colab_type": "text",
    "id": "fJ2TWN3G-ECX"
   },
   "source": [
    "**Strind Indexing and Slicing**"
   ]
  },
  {
   "cell_type": "code",
   "execution_count": 52,
   "metadata": {
    "colab": {},
    "colab_type": "code",
    "id": "TRpbuB4l97nA"
   },
   "outputs": [],
   "source": [
    "First_String=\"I am Fine.\""
   ]
  },
  {
   "cell_type": "code",
   "execution_count": 53,
   "metadata": {
    "colab": {
     "base_uri": "https://localhost:8080/",
     "height": 34
    },
    "colab_type": "code",
    "executionInfo": {
     "elapsed": 1129,
     "status": "ok",
     "timestamp": 1593067783392,
     "user": {
      "displayName": "Faiza Feroz",
      "photoUrl": "",
      "userId": "14588334127097493576"
     },
     "user_tz": -360
    },
    "id": "bxKF45F_-Zfz",
    "outputId": "58c25e26-6975-4130-cf3c-d60300472db5"
   },
   "outputs": [
    {
     "data": {
      "text/plain": [
       "'I'"
      ]
     },
     "execution_count": 53,
     "metadata": {},
     "output_type": "execute_result"
    }
   ],
   "source": [
    "\n",
    "First_String[0]"
   ]
  },
  {
   "cell_type": "code",
   "execution_count": 54,
   "metadata": {
    "colab": {
     "base_uri": "https://localhost:8080/",
     "height": 162
    },
    "colab_type": "code",
    "executionInfo": {
     "elapsed": 1442,
     "status": "error",
     "timestamp": 1593067810284,
     "user": {
      "displayName": "Faiza Feroz",
      "photoUrl": "",
      "userId": "14588334127097493576"
     },
     "user_tz": -360
    },
    "id": "_d5XZXmm-dPc",
    "outputId": "bd70155b-d7a9-4036-98d8-70088475bdfb"
   },
   "outputs": [
    {
     "ename": "IndexError",
     "evalue": "string index out of range",
     "output_type": "error",
     "traceback": [
      "\u001b[1;31m---------------------------------------------------------------------------\u001b[0m",
      "\u001b[1;31mIndexError\u001b[0m                                Traceback (most recent call last)",
      "\u001b[1;32m<ipython-input-54-0fc74f4bb3da>\u001b[0m in \u001b[0;36m<module>\u001b[1;34m\u001b[0m\n\u001b[1;32m----> 1\u001b[1;33m \u001b[0mFirst_String\u001b[0m\u001b[1;33m[\u001b[0m\u001b[1;36m10\u001b[0m\u001b[1;33m]\u001b[0m\u001b[1;33m\u001b[0m\u001b[1;33m\u001b[0m\u001b[0m\n\u001b[0m",
      "\u001b[1;31mIndexError\u001b[0m: string index out of range"
     ]
    }
   ],
   "source": [
    "First_String[10]"
   ]
  },
  {
   "cell_type": "code",
   "execution_count": 55,
   "metadata": {
    "colab": {
     "base_uri": "https://localhost:8080/",
     "height": 34
    },
    "colab_type": "code",
    "executionInfo": {
     "elapsed": 1355,
     "status": "ok",
     "timestamp": 1593067877978,
     "user": {
      "displayName": "Faiza Feroz",
      "photoUrl": "",
      "userId": "14588334127097493576"
     },
     "user_tz": -360
    },
    "id": "BpgPHqPk-mTU",
    "outputId": "a23fb1f5-0abf-484e-f2c7-a3783ee914cf"
   },
   "outputs": [
    {
     "data": {
      "text/plain": [
       "'n'"
      ]
     },
     "execution_count": 55,
     "metadata": {},
     "output_type": "execute_result"
    }
   ],
   "source": [
    "First_String[-3]"
   ]
  },
  {
   "cell_type": "code",
   "execution_count": 56,
   "metadata": {
    "colab": {
     "base_uri": "https://localhost:8080/",
     "height": 34
    },
    "colab_type": "code",
    "executionInfo": {
     "elapsed": 1278,
     "status": "ok",
     "timestamp": 1593067929092,
     "user": {
      "displayName": "Faiza Feroz",
      "photoUrl": "",
      "userId": "14588334127097493576"
     },
     "user_tz": -360
    },
    "id": "4f2U0LRQ-qCS",
    "outputId": "3d180090-a15e-4f9a-a148-b06202e1d269"
   },
   "outputs": [
    {
     "data": {
      "text/plain": [
       "'I am Fine.'"
      ]
     },
     "execution_count": 56,
     "metadata": {},
     "output_type": "execute_result"
    }
   ],
   "source": [
    "First_String[0:]"
   ]
  },
  {
   "cell_type": "code",
   "execution_count": 57,
   "metadata": {
    "colab": {
     "base_uri": "https://localhost:8080/",
     "height": 34
    },
    "colab_type": "code",
    "executionInfo": {
     "elapsed": 1233,
     "status": "ok",
     "timestamp": 1593067939602,
     "user": {
      "displayName": "Faiza Feroz",
      "photoUrl": "",
      "userId": "14588334127097493576"
     },
     "user_tz": -360
    },
    "id": "DovHyApy-z45",
    "outputId": "4afcc280-911f-40a9-ad1b-b79ec082c5b6"
   },
   "outputs": [
    {
     "data": {
      "text/plain": [
       "'am '"
      ]
     },
     "execution_count": 57,
     "metadata": {},
     "output_type": "execute_result"
    }
   ],
   "source": [
    "First_String[2:5]"
   ]
  },
  {
   "cell_type": "code",
   "execution_count": 58,
   "metadata": {
    "colab": {
     "base_uri": "https://localhost:8080/",
     "height": 34
    },
    "colab_type": "code",
    "executionInfo": {
     "elapsed": 1308,
     "status": "ok",
     "timestamp": 1593067975158,
     "user": {
      "displayName": "Faiza Feroz",
      "photoUrl": "",
      "userId": "14588334127097493576"
     },
     "user_tz": -360
    },
    "id": "QH4q9ceP-336",
    "outputId": "c9817f2f-974e-48f2-f36c-06fcf6804594"
   },
   "outputs": [
    {
     "data": {
      "text/plain": [
       "'I am Fin'"
      ]
     },
     "execution_count": 58,
     "metadata": {},
     "output_type": "execute_result"
    }
   ],
   "source": [
    "First_String[:8]"
   ]
  },
  {
   "cell_type": "code",
   "execution_count": 59,
   "metadata": {
    "colab": {
     "base_uri": "https://localhost:8080/",
     "height": 34
    },
    "colab_type": "code",
    "executionInfo": {
     "elapsed": 952,
     "status": "ok",
     "timestamp": 1593068002329,
     "user": {
      "displayName": "Faiza Feroz",
      "photoUrl": "",
      "userId": "14588334127097493576"
     },
     "user_tz": -360
    },
    "id": "bYwNS02b_DWX",
    "outputId": "e64e359b-1941-4a68-d069-dd11e751c37a"
   },
   "outputs": [
    {
     "data": {
      "text/plain": [
       "'I am Fine'"
      ]
     },
     "execution_count": 59,
     "metadata": {},
     "output_type": "execute_result"
    }
   ],
   "source": [
    "First_String[:-1]"
   ]
  },
  {
   "cell_type": "code",
   "execution_count": 60,
   "metadata": {
    "colab": {
     "base_uri": "https://localhost:8080/",
     "height": 34
    },
    "colab_type": "code",
    "executionInfo": {
     "elapsed": 1256,
     "status": "ok",
     "timestamp": 1593068019288,
     "user": {
      "displayName": "Faiza Feroz",
      "photoUrl": "",
      "userId": "14588334127097493576"
     },
     "user_tz": -360
    },
    "id": "5HHCNYId_OJK",
    "outputId": "8df8fd2d-7b33-412e-f35a-d5c1de51e518"
   },
   "outputs": [
    {
     "data": {
      "text/plain": [
       "'Ia ie'"
      ]
     },
     "execution_count": 60,
     "metadata": {},
     "output_type": "execute_result"
    }
   ],
   "source": [
    "First_String[::2]"
   ]
  },
  {
   "cell_type": "code",
   "execution_count": 61,
   "metadata": {
    "colab": {
     "base_uri": "https://localhost:8080/",
     "height": 34
    },
    "colab_type": "code",
    "executionInfo": {
     "elapsed": 1371,
     "status": "ok",
     "timestamp": 1593068107423,
     "user": {
      "displayName": "Faiza Feroz",
      "photoUrl": "",
      "userId": "14588334127097493576"
     },
     "user_tz": -360
    },
    "id": "dYB8qFFu_bKS",
    "outputId": "9031ff51-52e5-4f88-8dcf-a914711520b4"
   },
   "outputs": [
    {
     "data": {
      "text/plain": [
       "'I am Fine.'"
      ]
     },
     "execution_count": 61,
     "metadata": {},
     "output_type": "execute_result"
    }
   ],
   "source": [
    "First_String[::1]"
   ]
  },
  {
   "cell_type": "code",
   "execution_count": 62,
   "metadata": {
    "colab": {
     "base_uri": "https://localhost:8080/",
     "height": 34
    },
    "colab_type": "code",
    "executionInfo": {
     "elapsed": 1269,
     "status": "ok",
     "timestamp": 1593068131801,
     "user": {
      "displayName": "Faiza Feroz",
      "photoUrl": "",
      "userId": "14588334127097493576"
     },
     "user_tz": -360
    },
    "id": "liX84jyS_hOT",
    "outputId": "4d135ff7-c5c3-494e-b1ac-6b6f04b58cfe"
   },
   "outputs": [
    {
     "data": {
      "text/plain": [
       "'.eniF ma I'"
      ]
     },
     "execution_count": 62,
     "metadata": {},
     "output_type": "execute_result"
    }
   ],
   "source": [
    "First_String[::-1]"
   ]
  },
  {
   "cell_type": "code",
   "execution_count": 63,
   "metadata": {
    "colab": {
     "base_uri": "https://localhost:8080/",
     "height": 34
    },
    "colab_type": "code",
    "executionInfo": {
     "elapsed": 2150,
     "status": "ok",
     "timestamp": 1593068304052,
     "user": {
      "displayName": "Faiza Feroz",
      "photoUrl": "",
      "userId": "14588334127097493576"
     },
     "user_tz": -360
    },
    "id": "N3U9wm53_lu6",
    "outputId": "223fd570-bf8e-4ff0-b73d-6e336c013276"
   },
   "outputs": [
    {
     "data": {
      "text/plain": [
       "' mFn'"
      ]
     },
     "execution_count": 63,
     "metadata": {},
     "output_type": "execute_result"
    }
   ],
   "source": [
    "First_String[1:8:2]"
   ]
  },
  {
   "cell_type": "markdown",
   "metadata": {
    "colab_type": "text",
    "id": "BfrVss-tABvV"
   },
   "source": [
    "**String Methods**"
   ]
  },
  {
   "cell_type": "code",
   "execution_count": 64,
   "metadata": {
    "colab": {
     "base_uri": "https://localhost:8080/",
     "height": 34
    },
    "colab_type": "code",
    "executionInfo": {
     "elapsed": 1174,
     "status": "ok",
     "timestamp": 1593068433233,
     "user": {
      "displayName": "Faiza Feroz",
      "photoUrl": "",
      "userId": "14588334127097493576"
     },
     "user_tz": -360
    },
    "id": "3kqwgRFp_yXD",
    "outputId": "1bd51e3a-17ea-4b14-cdcf-2614eb4fa726"
   },
   "outputs": [
    {
     "data": {
      "text/plain": [
       "10"
      ]
     },
     "execution_count": 64,
     "metadata": {},
     "output_type": "execute_result"
    }
   ],
   "source": [
    "len(First_String)"
   ]
  },
  {
   "cell_type": "code",
   "execution_count": 65,
   "metadata": {
    "colab": {
     "base_uri": "https://localhost:8080/",
     "height": 34
    },
    "colab_type": "code",
    "executionInfo": {
     "elapsed": 2245,
     "status": "ok",
     "timestamp": 1593068503832,
     "user": {
      "displayName": "Faiza Feroz",
      "photoUrl": "",
      "userId": "14588334127097493576"
     },
     "user_tz": -360
    },
    "id": "VqqAeD0sAOQn",
    "outputId": "e36a6852-b6d4-437b-a4ca-68526c9a052c"
   },
   "outputs": [
    {
     "data": {
      "text/plain": [
       "'I AM FINE.'"
      ]
     },
     "execution_count": 65,
     "metadata": {},
     "output_type": "execute_result"
    }
   ],
   "source": [
    "First_String.upper()"
   ]
  },
  {
   "cell_type": "code",
   "execution_count": 66,
   "metadata": {
    "colab": {
     "base_uri": "https://localhost:8080/",
     "height": 34
    },
    "colab_type": "code",
    "executionInfo": {
     "elapsed": 1472,
     "status": "ok",
     "timestamp": 1593068554263,
     "user": {
      "displayName": "Faiza Feroz",
      "photoUrl": "",
      "userId": "14588334127097493576"
     },
     "user_tz": -360
    },
    "id": "CrOU1-QaASWV",
    "outputId": "aaed24ae-3575-4933-8ab7-b7cd36c18220"
   },
   "outputs": [
    {
     "data": {
      "text/plain": [
       "'i am fine.'"
      ]
     },
     "execution_count": 66,
     "metadata": {},
     "output_type": "execute_result"
    }
   ],
   "source": [
    "First_String.lower()"
   ]
  },
  {
   "cell_type": "code",
   "execution_count": 67,
   "metadata": {
    "colab": {
     "base_uri": "https://localhost:8080/",
     "height": 34
    },
    "colab_type": "code",
    "executionInfo": {
     "elapsed": 1206,
     "status": "ok",
     "timestamp": 1593068563192,
     "user": {
      "displayName": "Faiza Feroz",
      "photoUrl": "",
      "userId": "14588334127097493576"
     },
     "user_tz": -360
    },
    "id": "oQla-jJ8AZNZ",
    "outputId": "70507613-3438-4687-cbba-01c794add324"
   },
   "outputs": [
    {
     "data": {
      "text/plain": [
       "'I Am Fine.'"
      ]
     },
     "execution_count": 67,
     "metadata": {},
     "output_type": "execute_result"
    }
   ],
   "source": [
    "First_String.title()"
   ]
  },
  {
   "cell_type": "code",
   "execution_count": 68,
   "metadata": {
    "colab": {
     "base_uri": "https://localhost:8080/",
     "height": 34
    },
    "colab_type": "code",
    "executionInfo": {
     "elapsed": 1232,
     "status": "ok",
     "timestamp": 1593068584053,
     "user": {
      "displayName": "Faiza Feroz",
      "photoUrl": "",
      "userId": "14588334127097493576"
     },
     "user_tz": -360
    },
    "id": "KGFDB9TZ1ZYP",
    "outputId": "6e01a099-fc46-4ed2-829c-67075071ace7"
   },
   "outputs": [
    {
     "data": {
      "text/plain": [
       "2"
      ]
     },
     "execution_count": 68,
     "metadata": {},
     "output_type": "execute_result"
    }
   ],
   "source": [
    "First_String.find('a')"
   ]
  },
  {
   "cell_type": "code",
   "execution_count": 69,
   "metadata": {
    "colab": {
     "base_uri": "https://localhost:8080/",
     "height": 34
    },
    "colab_type": "code",
    "executionInfo": {
     "elapsed": 1227,
     "status": "ok",
     "timestamp": 1593068642705,
     "user": {
      "displayName": "Faiza Feroz",
      "photoUrl": "",
      "userId": "14588334127097493576"
     },
     "user_tz": -360
    },
    "id": "2UsbxzqV2DY-",
    "outputId": "0916b602-fbd1-4e54-c8aa-ea8688e36e95"
   },
   "outputs": [
    {
     "data": {
      "text/plain": [
       "'I am FIIne.'"
      ]
     },
     "execution_count": 69,
     "metadata": {},
     "output_type": "execute_result"
    }
   ],
   "source": [
    "First_String.replace('i','II')"
   ]
  },
  {
   "cell_type": "code",
   "execution_count": 70,
   "metadata": {
    "colab": {
     "base_uri": "https://localhost:8080/",
     "height": 34
    },
    "colab_type": "code",
    "executionInfo": {
     "elapsed": 2176,
     "status": "ok",
     "timestamp": 1593068675479,
     "user": {
      "displayName": "Faiza Feroz",
      "photoUrl": "",
      "userId": "14588334127097493576"
     },
     "user_tz": -360
    },
    "id": "Md7gsxr7Afte",
    "outputId": "ef615a9f-d11b-4c41-feec-d7aac5f82e99"
   },
   "outputs": [
    {
     "data": {
      "text/plain": [
       "['I', 'am', 'Fine.']"
      ]
     },
     "execution_count": 70,
     "metadata": {},
     "output_type": "execute_result"
    }
   ],
   "source": [
    "First_String.split()"
   ]
  },
  {
   "cell_type": "markdown",
   "metadata": {
    "colab_type": "text",
    "id": "BA30ZhHaA4Jz"
   },
   "source": [
    "**String Properties**"
   ]
  },
  {
   "cell_type": "code",
   "execution_count": 71,
   "metadata": {
    "colab": {
     "base_uri": "https://localhost:8080/",
     "height": 34
    },
    "colab_type": "code",
    "executionInfo": {
     "elapsed": 1258,
     "status": "ok",
     "timestamp": 1593068919986,
     "user": {
      "displayName": "Faiza Feroz",
      "photoUrl": "",
      "userId": "14588334127097493576"
     },
     "user_tz": -360
    },
    "id": "SCKmiidrA0cF",
    "outputId": "a6c846da-c627-4dea-a301-7ea8149756ff"
   },
   "outputs": [
    {
     "data": {
      "text/plain": [
       "'Notebook'"
      ]
     },
     "execution_count": 71,
     "metadata": {},
     "output_type": "execute_result"
    }
   ],
   "source": [
    "s"
   ]
  },
  {
   "cell_type": "code",
   "execution_count": 72,
   "metadata": {
    "colab": {
     "base_uri": "https://localhost:8080/",
     "height": 34
    },
    "colab_type": "code",
    "executionInfo": {
     "elapsed": 1308,
     "status": "ok",
     "timestamp": 1593068942478,
     "user": {
      "displayName": "Faiza Feroz",
      "photoUrl": "",
      "userId": "14588334127097493576"
     },
     "user_tz": -360
    },
    "id": "ZI2NtOOxBTfp",
    "outputId": "5c1f5ce8-0546-4ec9-cee0-143663a3c0a0"
   },
   "outputs": [
    {
     "data": {
      "text/plain": [
       "'N'"
      ]
     },
     "execution_count": 72,
     "metadata": {},
     "output_type": "execute_result"
    }
   ],
   "source": [
    "s[0]"
   ]
  },
  {
   "cell_type": "code",
   "execution_count": 73,
   "metadata": {
    "colab": {
     "base_uri": "https://localhost:8080/",
     "height": 162
    },
    "colab_type": "code",
    "executionInfo": {
     "elapsed": 1402,
     "status": "error",
     "timestamp": 1593068957284,
     "user": {
      "displayName": "Faiza Feroz",
      "photoUrl": "",
      "userId": "14588334127097493576"
     },
     "user_tz": -360
    },
    "id": "2iLlOL8oBUtg",
    "outputId": "5f53b54c-1e23-48ea-903a-6bb592d8e9ac"
   },
   "outputs": [
    {
     "ename": "TypeError",
     "evalue": "'str' object does not support item assignment",
     "output_type": "error",
     "traceback": [
      "\u001b[1;31m---------------------------------------------------------------------------\u001b[0m",
      "\u001b[1;31mTypeError\u001b[0m                                 Traceback (most recent call last)",
      "\u001b[1;32m<ipython-input-73-c378809e76e2>\u001b[0m in \u001b[0;36m<module>\u001b[1;34m\u001b[0m\n\u001b[1;32m----> 1\u001b[1;33m \u001b[0ms\u001b[0m\u001b[1;33m[\u001b[0m\u001b[1;36m0\u001b[0m\u001b[1;33m]\u001b[0m\u001b[1;33m=\u001b[0m\u001b[1;34m'M'\u001b[0m\u001b[1;33m\u001b[0m\u001b[1;33m\u001b[0m\u001b[0m\n\u001b[0m",
      "\u001b[1;31mTypeError\u001b[0m: 'str' object does not support item assignment"
     ]
    }
   ],
   "source": [
    "s[0]='M'"
   ]
  },
  {
   "cell_type": "code",
   "execution_count": 74,
   "metadata": {
    "colab": {
     "base_uri": "https://localhost:8080/",
     "height": 34
    },
    "colab_type": "code",
    "executionInfo": {
     "elapsed": 1265,
     "status": "ok",
     "timestamp": 1593069005407,
     "user": {
      "displayName": "Faiza Feroz",
      "photoUrl": "",
      "userId": "14588334127097493576"
     },
     "user_tz": -360
    },
    "id": "CgJPfPdsBapN",
    "outputId": "1beefd5f-0a5e-4659-ee54-988fb97221ba"
   },
   "outputs": [
    {
     "data": {
      "text/plain": [
       "'NotebookNotebookNotebookNotebookNotebookNotebookNotebookNotebookNotebookNotebook'"
      ]
     },
     "execution_count": 74,
     "metadata": {},
     "output_type": "execute_result"
    }
   ],
   "source": [
    "s*10"
   ]
  },
  {
   "cell_type": "code",
   "execution_count": 75,
   "metadata": {
    "colab": {
     "base_uri": "https://localhost:8080/",
     "height": 34
    },
    "colab_type": "code",
    "executionInfo": {
     "elapsed": 1365,
     "status": "ok",
     "timestamp": 1593069041263,
     "user": {
      "displayName": "Faiza Feroz",
      "photoUrl": "",
      "userId": "14588334127097493576"
     },
     "user_tz": -360
    },
    "id": "xAKY0jhYBpcz",
    "outputId": "a06533e2-6893-4075-b9a5-9228ece58fd9"
   },
   "outputs": [
    {
     "data": {
      "text/plain": [
       "'tttttttttt'"
      ]
     },
     "execution_count": 75,
     "metadata": {},
     "output_type": "execute_result"
    }
   ],
   "source": [
    "s[2]*10"
   ]
  },
  {
   "cell_type": "code",
   "execution_count": 76,
   "metadata": {
    "colab": {
     "base_uri": "https://localhost:8080/",
     "height": 34
    },
    "colab_type": "code",
    "executionInfo": {
     "elapsed": 1448,
     "status": "ok",
     "timestamp": 1593069079580,
     "user": {
      "displayName": "Faiza Feroz",
      "photoUrl": "",
      "userId": "14588334127097493576"
     },
     "user_tz": -360
    },
    "id": "viDZZrrdBskf",
    "outputId": "92744d77-f2df-48c1-a962-c873682be3b5"
   },
   "outputs": [
    {
     "data": {
      "text/plain": [
       "'I have a Notebook'"
      ]
     },
     "execution_count": 76,
     "metadata": {},
     "output_type": "execute_result"
    }
   ],
   "source": [
    "\"I have a \"+s"
   ]
  },
  {
   "cell_type": "code",
   "execution_count": 77,
   "metadata": {
    "colab": {
     "base_uri": "https://localhost:8080/",
     "height": 34
    },
    "colab_type": "code",
    "executionInfo": {
     "elapsed": 1078,
     "status": "ok",
     "timestamp": 1593069133344,
     "user": {
      "displayName": "Faiza Feroz",
      "photoUrl": "",
      "userId": "14588334127097493576"
     },
     "user_tz": -360
    },
    "id": "jJAPRCIoB0Rm",
    "outputId": "19638619-6a1b-4d21-9cd3-116f2cb4e324"
   },
   "outputs": [
    {
     "data": {
      "text/plain": [
       "'Rubaiya Reza--Sohana'"
      ]
     },
     "execution_count": 77,
     "metadata": {},
     "output_type": "execute_result"
    }
   ],
   "source": [
    "First_Name=\"Rubaiya Reza\"\n",
    "Last_Name=\"Sohana\"\n",
    "\"--\".join([First_Name,Last_Name])"
   ]
  },
  {
   "cell_type": "code",
   "execution_count": 78,
   "metadata": {
    "colab": {
     "base_uri": "https://localhost:8080/",
     "height": 34
    },
    "colab_type": "code",
    "executionInfo": {
     "elapsed": 1320,
     "status": "ok",
     "timestamp": 1593069181848,
     "user": {
      "displayName": "Faiza Feroz",
      "photoUrl": "",
      "userId": "14588334127097493576"
     },
     "user_tz": -360
    },
    "id": "CGglvp--CLv8",
    "outputId": "23f3f281-f84d-4238-a713-96ac3adbf3fa"
   },
   "outputs": [
    {
     "data": {
      "text/plain": [
       "'Rubaiya Reza--//Sohana'"
      ]
     },
     "execution_count": 78,
     "metadata": {},
     "output_type": "execute_result"
    }
   ],
   "source": [
    "First_Name+\"--//\"+Last_Name"
   ]
  },
  {
   "cell_type": "markdown",
   "metadata": {
    "colab_type": "text",
    "id": "c4krHc6BD3Fj"
   },
   "source": [
    "**Print Formating**"
   ]
  },
  {
   "cell_type": "code",
   "execution_count": 79,
   "metadata": {
    "colab": {
     "base_uri": "https://localhost:8080/",
     "height": 34
    },
    "colab_type": "code",
    "executionInfo": {
     "elapsed": 1198,
     "status": "ok",
     "timestamp": 1593069293207,
     "user": {
      "displayName": "Faiza Feroz",
      "photoUrl": "",
      "userId": "14588334127097493576"
     },
     "user_tz": -360
    },
    "id": "EKjBW5SLDnrh",
    "outputId": "d6ca73f4-846d-4996-dd85-bd0961de0be9"
   },
   "outputs": [
    {
     "name": "stdout",
     "output_type": "stream",
     "text": [
      "My name is Rubaiya Reza Sohana\n"
     ]
    }
   ],
   "source": [
    "print(\"My name is {} {}\".format(First_Name,Last_Name))"
   ]
  },
  {
   "cell_type": "code",
   "execution_count": 80,
   "metadata": {
    "colab": {
     "base_uri": "https://localhost:8080/",
     "height": 34
    },
    "colab_type": "code",
    "executionInfo": {
     "elapsed": 1204,
     "status": "ok",
     "timestamp": 1593069330724,
     "user": {
      "displayName": "Faiza Feroz",
      "photoUrl": "",
      "userId": "14588334127097493576"
     },
     "user_tz": -360
    },
    "id": "mjXOSp7-EXfX",
    "outputId": "8b59b51b-7db9-4aae-e2f1-34c25fd7923b"
   },
   "outputs": [
    {
     "name": "stdout",
     "output_type": "stream",
     "text": [
      "My name is Rubaiya Reza Sohana\n"
     ]
    }
   ],
   "source": [
    "print(\"My name is \"+First_Name+\" \"+Last_Name)"
   ]
  },
  {
   "cell_type": "code",
   "execution_count": 81,
   "metadata": {
    "colab": {
     "base_uri": "https://localhost:8080/",
     "height": 34
    },
    "colab_type": "code",
    "executionInfo": {
     "elapsed": 1232,
     "status": "ok",
     "timestamp": 1593069382506,
     "user": {
      "displayName": "Faiza Feroz",
      "photoUrl": "",
      "userId": "14588334127097493576"
     },
     "user_tz": -360
    },
    "id": "D5wmz-lsEmnO",
    "outputId": "621c93bc-323b-4d15-a2e6-c061fa8a8978"
   },
   "outputs": [
    {
     "data": {
      "text/plain": [
       "240"
      ]
     },
     "execution_count": 81,
     "metadata": {},
     "output_type": "execute_result"
    }
   ],
   "source": [
    "a"
   ]
  },
  {
   "cell_type": "code",
   "execution_count": 82,
   "metadata": {
    "colab": {
     "base_uri": "https://localhost:8080/",
     "height": 34
    },
    "colab_type": "code",
    "executionInfo": {
     "elapsed": 1211,
     "status": "ok",
     "timestamp": 1593069391017,
     "user": {
      "displayName": "Faiza Feroz",
      "photoUrl": "",
      "userId": "14588334127097493576"
     },
     "user_tz": -360
    },
    "id": "8_znupUxEqJ2",
    "outputId": "b2995614-5d9e-4bec-d0d0-1c4ed25ad0e8"
   },
   "outputs": [
    {
     "data": {
      "text/plain": [
       "8"
      ]
     },
     "execution_count": 82,
     "metadata": {},
     "output_type": "execute_result"
    }
   ],
   "source": [
    "b"
   ]
  },
  {
   "cell_type": "code",
   "execution_count": 83,
   "metadata": {
    "colab": {},
    "colab_type": "code",
    "executionInfo": {
     "elapsed": 3518,
     "status": "ok",
     "timestamp": 1593110148663,
     "user": {
      "displayName": "Rubaiya Reza Sohana",
      "photoUrl": "",
      "userId": "02501013413421180171"
     },
     "user_tz": -360
    },
    "id": "-UbDvEGyErk-"
   },
   "outputs": [],
   "source": [
    "c=12.66687"
   ]
  },
  {
   "cell_type": "code",
   "execution_count": 84,
   "metadata": {
    "colab": {
     "base_uri": "https://localhost:8080/",
     "height": 34
    },
    "colab_type": "code",
    "executionInfo": {
     "elapsed": 3472,
     "status": "ok",
     "timestamp": 1593110148665,
     "user": {
      "displayName": "Rubaiya Reza Sohana",
      "photoUrl": "",
      "userId": "02501013413421180171"
     },
     "user_tz": -360
    },
    "id": "DwZcjic7EuXG",
    "outputId": "719a400f-878f-4136-b476-ac1a3c76dfef"
   },
   "outputs": [
    {
     "name": "stdout",
     "output_type": "stream",
     "text": [
      "The value of C is 12.67\n"
     ]
    }
   ],
   "source": [
    "print(\"The value of C is {:.2f}\".format(c))"
   ]
  },
  {
   "cell_type": "code",
   "execution_count": 85,
   "metadata": {
    "colab": {
     "base_uri": "https://localhost:8080/",
     "height": 34
    },
    "colab_type": "code",
    "executionInfo": {
     "elapsed": 3436,
     "status": "ok",
     "timestamp": 1593110148667,
     "user": {
      "displayName": "Rubaiya Reza Sohana",
      "photoUrl": "",
      "userId": "02501013413421180171"
     },
     "user_tz": -360
    },
    "id": "2NP9Jf4ZE6VO",
    "outputId": "72a37abf-790a-48d3-e1c9-1f0b85e8670c"
   },
   "outputs": [
    {
     "name": "stdout",
     "output_type": "stream",
     "text": [
      "The value of a is    12.6669\n"
     ]
    }
   ],
   "source": [
    "print(\"The value of a is {:10.4f}\".format(c))"
   ]
  }
 ],
 "metadata": {
  "colab": {
   "collapsed_sections": [],
   "name": "Class_01(Numbers,Strings).ipynb",
   "provenance": []
  },
  "kernelspec": {
   "display_name": "Python 3",
   "language": "python",
   "name": "python3"
  },
  "language_info": {
   "codemirror_mode": {
    "name": "ipython",
    "version": 3
   },
   "file_extension": ".py",
   "mimetype": "text/x-python",
   "name": "python",
   "nbconvert_exporter": "python",
   "pygments_lexer": "ipython3",
   "version": "3.7.6"
  }
 },
 "nbformat": 4,
 "nbformat_minor": 1
}
