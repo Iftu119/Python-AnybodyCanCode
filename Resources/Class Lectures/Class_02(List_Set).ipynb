{
  "nbformat": 4,
  "nbformat_minor": 0,
  "metadata": {
    "colab": {
      "name": "Class_02(List&Set).ipynb",
      "provenance": [],
      "collapsed_sections": []
    },
    "kernelspec": {
      "name": "python3",
      "display_name": "Python 3"
    }
  },
  "cells": [
    {
      "cell_type": "markdown",
      "metadata": {
        "id": "rjHQpxE4CURq",
        "colab_type": "text"
      },
      "source": [
        ""
      ]
    },
    {
      "cell_type": "markdown",
      "metadata": {
        "id": "d_kJoTM-Y1U-",
        "colab_type": "text"
      },
      "source": [
        "# Type casting"
      ]
    },
    {
      "cell_type": "code",
      "metadata": {
        "id": "sSHts1AGCHTQ",
        "colab_type": "code",
        "colab": {
          "base_uri": "https://localhost:8080/",
          "height": 35
        },
        "outputId": "fc31f70a-9b70-439c-c07a-0c9f1b558856"
      },
      "source": [
        "n=input(\"Enter the number:\")"
      ],
      "execution_count": null,
      "outputs": [
        {
          "output_type": "stream",
          "text": [
            "Enter the number:23\n"
          ],
          "name": "stdout"
        }
      ]
    },
    {
      "cell_type": "code",
      "metadata": {
        "id": "tvgfLygZZE3F",
        "colab_type": "code",
        "colab": {
          "base_uri": "https://localhost:8080/",
          "height": 35
        },
        "outputId": "aeb48cb9-d91f-44d8-bda3-c599dc8f241a"
      },
      "source": [
        "type(n)"
      ],
      "execution_count": null,
      "outputs": [
        {
          "output_type": "execute_result",
          "data": {
            "text/plain": [
              "str"
            ]
          },
          "metadata": {
            "tags": []
          },
          "execution_count": 3
        }
      ]
    },
    {
      "cell_type": "code",
      "metadata": {
        "id": "nfA8u6kIZHHP",
        "colab_type": "code",
        "colab": {}
      },
      "source": [
        "f=float(n)"
      ],
      "execution_count": null,
      "outputs": []
    },
    {
      "cell_type": "code",
      "metadata": {
        "id": "0jUsteF_ZMSy",
        "colab_type": "code",
        "colab": {
          "base_uri": "https://localhost:8080/",
          "height": 35
        },
        "outputId": "f53b002f-feef-4479-a35f-42a05d1bfbf4"
      },
      "source": [
        "print(f)"
      ],
      "execution_count": null,
      "outputs": [
        {
          "output_type": "stream",
          "text": [
            "23.0\n"
          ],
          "name": "stdout"
        }
      ]
    },
    {
      "cell_type": "code",
      "metadata": {
        "id": "sUYFVMh9ZOYa",
        "colab_type": "code",
        "colab": {
          "base_uri": "https://localhost:8080/",
          "height": 35
        },
        "outputId": "27696e1f-943d-4357-a189-27df65802157"
      },
      "source": [
        "type(f)"
      ],
      "execution_count": null,
      "outputs": [
        {
          "output_type": "execute_result",
          "data": {
            "text/plain": [
              "float"
            ]
          },
          "metadata": {
            "tags": []
          },
          "execution_count": 6
        }
      ]
    },
    {
      "cell_type": "code",
      "metadata": {
        "id": "4e0mbsjUZQ_l",
        "colab_type": "code",
        "colab": {
          "base_uri": "https://localhost:8080/",
          "height": 35
        },
        "outputId": "40dac786-655a-4b82-d43d-cd20195aba52"
      },
      "source": [
        "String=input()"
      ],
      "execution_count": null,
      "outputs": [
        {
          "output_type": "stream",
          "text": [
            "I am Sohana\n"
          ],
          "name": "stdout"
        }
      ]
    },
    {
      "cell_type": "code",
      "metadata": {
        "id": "5fBa-kOaZY5v",
        "colab_type": "code",
        "colab": {
          "base_uri": "https://localhost:8080/",
          "height": 35
        },
        "outputId": "bf8717d5-39e6-4d68-bc8c-4358f80ccf3a"
      },
      "source": [
        "print(String)"
      ],
      "execution_count": null,
      "outputs": [
        {
          "output_type": "stream",
          "text": [
            "I am Sohana\n"
          ],
          "name": "stdout"
        }
      ]
    },
    {
      "cell_type": "code",
      "metadata": {
        "id": "5RkLc7YBZcKV",
        "colab_type": "code",
        "colab": {}
      },
      "source": [
        "p=String.split()"
      ],
      "execution_count": null,
      "outputs": []
    },
    {
      "cell_type": "code",
      "metadata": {
        "id": "aQRMwULTZqya",
        "colab_type": "code",
        "colab": {
          "base_uri": "https://localhost:8080/",
          "height": 35
        },
        "outputId": "2fcced09-9897-44c3-f941-172ffbde53ed"
      },
      "source": [
        "print(p)"
      ],
      "execution_count": null,
      "outputs": [
        {
          "output_type": "stream",
          "text": [
            "['I', 'am', 'Sohana']\n"
          ],
          "name": "stdout"
        }
      ]
    },
    {
      "cell_type": "code",
      "metadata": {
        "id": "LSV3AV7DZs7n",
        "colab_type": "code",
        "colab": {
          "base_uri": "https://localhost:8080/",
          "height": 35
        },
        "outputId": "c9985176-effa-4baa-f97b-5faed05f2c3c"
      },
      "source": [
        "type(p)"
      ],
      "execution_count": null,
      "outputs": [
        {
          "output_type": "execute_result",
          "data": {
            "text/plain": [
              "list"
            ]
          },
          "metadata": {
            "tags": []
          },
          "execution_count": 11
        }
      ]
    },
    {
      "cell_type": "markdown",
      "metadata": {
        "id": "8GiejRjTEL5Z",
        "colab_type": "text"
      },
      "source": [
        "# List\n",
        "List is a collection which is ordered and changeable.\n",
        "\n",
        "Lists can be thought of the most general version of a sequence in Python. Unlike strings, they are mutable, meaning the elements inside a list can be changed.Allows duplicate members.\n",
        "\n",
        "Lists are constructed with brackets [] and commas separating every element in the list."
      ]
    },
    {
      "cell_type": "code",
      "metadata": {
        "id": "sfVsToP_FBMP",
        "colab_type": "code",
        "colab": {}
      },
      "source": [
        "L1=[1,2,2.5,'a','b','Sohana','Faiza','I am a student']"
      ],
      "execution_count": null,
      "outputs": []
    },
    {
      "cell_type": "code",
      "metadata": {
        "id": "51olly1VFLvE",
        "colab_type": "code",
        "colab": {}
      },
      "source": [
        "L1"
      ],
      "execution_count": null,
      "outputs": []
    },
    {
      "cell_type": "code",
      "metadata": {
        "id": "8uZ32xCcFa92",
        "colab_type": "code",
        "colab": {}
      },
      "source": [
        "print(\"The First List is:\",L1)"
      ],
      "execution_count": null,
      "outputs": []
    },
    {
      "cell_type": "markdown",
      "metadata": {
        "id": "v6kOjhqtF-iQ",
        "colab_type": "text"
      },
      "source": [
        "In this section we will learn about:\n",
        "\n",
        "1.Creating lists\n",
        "\n",
        "2.Indexing and Slicing Lists\n",
        "\n",
        "3.Basic List Methods\n",
        "\n",
        "4.Joining Lists\n",
        "\n",
        "5.Nesting Lists\n",
        "\n",
        "\n",
        "\n",
        "\n",
        "\n",
        "\n",
        "\n",
        "\n"
      ]
    },
    {
      "cell_type": "markdown",
      "metadata": {
        "id": "y64IDtpxH0Ws",
        "colab_type": "text"
      },
      "source": [
        "**Creating** **lists**"
      ]
    },
    {
      "cell_type": "code",
      "metadata": {
        "id": "H_aoWPiiFiHO",
        "colab_type": "code",
        "colab": {}
      },
      "source": [
        "L1=[1,2,2.5,'a','b','Sohana','Faiza','I am a student']\n",
        "print(L1)"
      ],
      "execution_count": null,
      "outputs": []
    },
    {
      "cell_type": "markdown",
      "metadata": {
        "id": "5VY8PjLTJNdK",
        "colab_type": "text"
      },
      "source": [
        "**Indexing and Slicing**"
      ]
    },
    {
      "cell_type": "code",
      "metadata": {
        "id": "DzszytlQJI7f",
        "colab_type": "code",
        "colab": {}
      },
      "source": [
        "L2=[1,2,3,'One','Two','Three','One Two Three']"
      ],
      "execution_count": null,
      "outputs": []
    },
    {
      "cell_type": "code",
      "metadata": {
        "id": "IwrKGUBiJoD7",
        "colab_type": "code",
        "colab": {}
      },
      "source": [
        "L2[0]"
      ],
      "execution_count": null,
      "outputs": []
    },
    {
      "cell_type": "code",
      "metadata": {
        "id": "aWfhtHQsduSz",
        "colab_type": "code",
        "colab": {}
      },
      "source": [
        "L2.index('One')"
      ],
      "execution_count": null,
      "outputs": []
    },
    {
      "cell_type": "code",
      "metadata": {
        "id": "wEYg3JDxTbQw",
        "colab_type": "code",
        "colab": {}
      },
      "source": [
        "L2[100]"
      ],
      "execution_count": null,
      "outputs": []
    },
    {
      "cell_type": "code",
      "metadata": {
        "id": "TMOALDruJqa0",
        "colab_type": "code",
        "colab": {}
      },
      "source": [
        "L2[1:]"
      ],
      "execution_count": null,
      "outputs": []
    },
    {
      "cell_type": "code",
      "metadata": {
        "id": "OoglKmN3LRHQ",
        "colab_type": "code",
        "colab": {}
      },
      "source": [
        "L2[:5]"
      ],
      "execution_count": null,
      "outputs": []
    },
    {
      "cell_type": "code",
      "metadata": {
        "id": "cfaRApolLUHw",
        "colab_type": "code",
        "colab": {}
      },
      "source": [
        "L2[-1]"
      ],
      "execution_count": null,
      "outputs": []
    },
    {
      "cell_type": "code",
      "metadata": {
        "id": "T2E1SqXpLfnZ",
        "colab_type": "code",
        "colab": {}
      },
      "source": [
        "L2[-3:-1]"
      ],
      "execution_count": null,
      "outputs": []
    },
    {
      "cell_type": "code",
      "metadata": {
        "id": "SOglCc6BLjJT",
        "colab_type": "code",
        "colab": {}
      },
      "source": [
        "L2+['Three']"
      ],
      "execution_count": null,
      "outputs": []
    },
    {
      "cell_type": "code",
      "metadata": {
        "id": "4A4tRJYhL29Q",
        "colab_type": "code",
        "colab": {}
      },
      "source": [
        "L2"
      ],
      "execution_count": null,
      "outputs": []
    },
    {
      "cell_type": "code",
      "metadata": {
        "id": "rENwCvKnL4BR",
        "colab_type": "code",
        "colab": {}
      },
      "source": [
        "L2=L2+['Three']"
      ],
      "execution_count": null,
      "outputs": []
    },
    {
      "cell_type": "code",
      "metadata": {
        "id": "F1hVi8kcMC4L",
        "colab_type": "code",
        "colab": {}
      },
      "source": [
        "L2"
      ],
      "execution_count": null,
      "outputs": []
    },
    {
      "cell_type": "code",
      "metadata": {
        "id": "8XmmvvqWMDy6",
        "colab_type": "code",
        "colab": {}
      },
      "source": [
        "L2*2"
      ],
      "execution_count": null,
      "outputs": []
    },
    {
      "cell_type": "code",
      "metadata": {
        "id": "x-xGXdGjMS1o",
        "colab_type": "code",
        "colab": {}
      },
      "source": [
        "L2"
      ],
      "execution_count": null,
      "outputs": []
    },
    {
      "cell_type": "code",
      "metadata": {
        "id": "WJQBinP0MUwV",
        "colab_type": "code",
        "colab": {}
      },
      "source": [
        "L2=L2*2"
      ],
      "execution_count": null,
      "outputs": []
    },
    {
      "cell_type": "code",
      "metadata": {
        "id": "ZkyaxEu6MX67",
        "colab_type": "code",
        "colab": {}
      },
      "source": [
        "L2"
      ],
      "execution_count": null,
      "outputs": []
    },
    {
      "cell_type": "code",
      "metadata": {
        "id": "6TbpO7kwMZcY",
        "colab_type": "code",
        "colab": {}
      },
      "source": [
        "L3=L2"
      ],
      "execution_count": null,
      "outputs": []
    },
    {
      "cell_type": "code",
      "metadata": {
        "id": "cYs7o3ugMe2I",
        "colab_type": "code",
        "colab": {}
      },
      "source": [
        "L3"
      ],
      "execution_count": null,
      "outputs": []
    },
    {
      "cell_type": "code",
      "metadata": {
        "id": "nQOaRN4yMf6D",
        "colab_type": "code",
        "colab": {}
      },
      "source": [
        "L3[0]=0\n",
        "L3"
      ],
      "execution_count": null,
      "outputs": []
    },
    {
      "cell_type": "markdown",
      "metadata": {
        "id": "wo_ZQLQ8Rp0N",
        "colab_type": "text"
      },
      "source": [
        "**Basic List Methods**"
      ]
    },
    {
      "cell_type": "code",
      "metadata": {
        "id": "asCvkJo-NLdc",
        "colab_type": "code",
        "colab": {}
      },
      "source": [
        "L4=[1,2,3,5,'a','b','c']"
      ],
      "execution_count": null,
      "outputs": []
    },
    {
      "cell_type": "code",
      "metadata": {
        "id": "gTGP-md5S7-a",
        "colab_type": "code",
        "colab": {}
      },
      "source": [
        "len(L4)"
      ],
      "execution_count": null,
      "outputs": []
    },
    {
      "cell_type": "code",
      "metadata": {
        "id": "ANNzjNu9S9_7",
        "colab_type": "code",
        "colab": {}
      },
      "source": [
        "L5=L4.copy()"
      ],
      "execution_count": null,
      "outputs": []
    },
    {
      "cell_type": "code",
      "metadata": {
        "id": "ojOjC95wTIzo",
        "colab_type": "code",
        "colab": {}
      },
      "source": [
        "L5"
      ],
      "execution_count": null,
      "outputs": []
    },
    {
      "cell_type": "code",
      "metadata": {
        "id": "q42sTeUhTJeU",
        "colab_type": "code",
        "colab": {}
      },
      "source": [
        "L4.append(\"d\")"
      ],
      "execution_count": null,
      "outputs": []
    },
    {
      "cell_type": "code",
      "metadata": {
        "id": "IB1kNh0yTiE3",
        "colab_type": "code",
        "colab": {}
      },
      "source": [
        "L4"
      ],
      "execution_count": null,
      "outputs": []
    },
    {
      "cell_type": "code",
      "metadata": {
        "id": "VOp2XmCvTjBV",
        "colab_type": "code",
        "colab": {}
      },
      "source": [
        "L4.pop(4)"
      ],
      "execution_count": null,
      "outputs": []
    },
    {
      "cell_type": "code",
      "metadata": {
        "id": "b3UokyZLT0gu",
        "colab_type": "code",
        "colab": {}
      },
      "source": [
        "L5.pop()"
      ],
      "execution_count": null,
      "outputs": []
    },
    {
      "cell_type": "code",
      "metadata": {
        "id": "-tcFRBgOT2hz",
        "colab_type": "code",
        "colab": {}
      },
      "source": [
        "L5"
      ],
      "execution_count": null,
      "outputs": []
    },
    {
      "cell_type": "code",
      "metadata": {
        "id": "IviqsyLFaOuh",
        "colab_type": "code",
        "colab": {}
      },
      "source": [
        "L4.remove(1)"
      ],
      "execution_count": null,
      "outputs": []
    },
    {
      "cell_type": "code",
      "metadata": {
        "id": "yML9po7mT4SK",
        "colab_type": "code",
        "colab": {}
      },
      "source": [
        "L4"
      ],
      "execution_count": null,
      "outputs": []
    },
    {
      "cell_type": "code",
      "metadata": {
        "id": "8G1qb6nzMTOP",
        "colab_type": "code",
        "colab": {}
      },
      "source": [
        "del L4[1:4]\n",
        "L4"
      ],
      "execution_count": null,
      "outputs": []
    },
    {
      "cell_type": "code",
      "metadata": {
        "id": "0JhyEiKHT6L0",
        "colab_type": "code",
        "colab": {}
      },
      "source": [
        "L4.insert(4,'a')"
      ],
      "execution_count": null,
      "outputs": []
    },
    {
      "cell_type": "code",
      "metadata": {
        "id": "8MJjQ6aTUQjT",
        "colab_type": "code",
        "colab": {}
      },
      "source": [
        "L4"
      ],
      "execution_count": null,
      "outputs": []
    },
    {
      "cell_type": "code",
      "metadata": {
        "id": "NKLOEEALURIL",
        "colab_type": "code",
        "colab": {}
      },
      "source": [
        "L5.insert(7,'c')"
      ],
      "execution_count": null,
      "outputs": []
    },
    {
      "cell_type": "code",
      "metadata": {
        "id": "cOR1bukMUVur",
        "colab_type": "code",
        "colab": {}
      },
      "source": [
        "L4.reverse()"
      ],
      "execution_count": null,
      "outputs": []
    },
    {
      "cell_type": "code",
      "metadata": {
        "id": "iaC4e9n2UZgD",
        "colab_type": "code",
        "colab": {}
      },
      "source": [
        "L4"
      ],
      "execution_count": null,
      "outputs": []
    },
    {
      "cell_type": "code",
      "metadata": {
        "id": "uGG9fN7rUabl",
        "colab_type": "code",
        "colab": {}
      },
      "source": [
        "L6=[1,2,3,2,3,0]"
      ],
      "execution_count": null,
      "outputs": []
    },
    {
      "cell_type": "code",
      "metadata": {
        "id": "gZB3T-0iUeEC",
        "colab_type": "code",
        "colab": {}
      },
      "source": [
        "L6.sort()"
      ],
      "execution_count": null,
      "outputs": []
    },
    {
      "cell_type": "code",
      "metadata": {
        "id": "RFpyxKo7UpVj",
        "colab_type": "code",
        "colab": {}
      },
      "source": [
        "L6"
      ],
      "execution_count": null,
      "outputs": []
    },
    {
      "cell_type": "code",
      "metadata": {
        "id": "tcrK6OcBUrJs",
        "colab_type": "code",
        "colab": {}
      },
      "source": [
        "L5.sort()"
      ],
      "execution_count": null,
      "outputs": []
    },
    {
      "cell_type": "code",
      "metadata": {
        "id": "Mf9FkodPUubV",
        "colab_type": "code",
        "colab": {}
      },
      "source": [
        "L7=['a','c','b']"
      ],
      "execution_count": null,
      "outputs": []
    },
    {
      "cell_type": "code",
      "metadata": {
        "id": "WQeYJCavU1a4",
        "colab_type": "code",
        "colab": {}
      },
      "source": [
        "L7.sort()"
      ],
      "execution_count": null,
      "outputs": []
    },
    {
      "cell_type": "code",
      "metadata": {
        "id": "-7Y4xSMGU5uL",
        "colab_type": "code",
        "colab": {}
      },
      "source": [
        "L7"
      ],
      "execution_count": null,
      "outputs": []
    },
    {
      "cell_type": "code",
      "metadata": {
        "id": "f2AlCrlYU7si",
        "colab_type": "code",
        "colab": {}
      },
      "source": [
        "L7.sort(reverse=True)"
      ],
      "execution_count": null,
      "outputs": []
    },
    {
      "cell_type": "code",
      "metadata": {
        "id": "e6T0UiD7V___",
        "colab_type": "code",
        "colab": {}
      },
      "source": [
        "L7"
      ],
      "execution_count": null,
      "outputs": []
    },
    {
      "cell_type": "code",
      "metadata": {
        "id": "fUS7gwQZWBK2",
        "colab_type": "code",
        "colab": {}
      },
      "source": [
        "L7.clear()"
      ],
      "execution_count": null,
      "outputs": []
    },
    {
      "cell_type": "code",
      "metadata": {
        "id": "SrmPyA4fWEZp",
        "colab_type": "code",
        "colab": {}
      },
      "source": [
        "L7"
      ],
      "execution_count": null,
      "outputs": []
    },
    {
      "cell_type": "code",
      "metadata": {
        "id": "0kC6YE94d_v_",
        "colab_type": "code",
        "colab": {}
      },
      "source": [
        "L8=[1,2,3,5]"
      ],
      "execution_count": null,
      "outputs": []
    },
    {
      "cell_type": "code",
      "metadata": {
        "id": "4IgdBNO3eDHP",
        "colab_type": "code",
        "colab": {}
      },
      "source": [
        "print(\"SUM:\",sum(L8))\n",
        "print(\"MIN:\",min(L8))\n",
        "print(\"MAX:\",max(L8))"
      ],
      "execution_count": null,
      "outputs": []
    },
    {
      "cell_type": "code",
      "metadata": {
        "id": "9StKJLAgeWA3",
        "colab_type": "code",
        "colab": {}
      },
      "source": [
        "L9=['ab','bb','ac','aa','cc']"
      ],
      "execution_count": null,
      "outputs": []
    },
    {
      "cell_type": "code",
      "metadata": {
        "id": "OwsjajXmeycV",
        "colab_type": "code",
        "colab": {}
      },
      "source": [
        "print(\"MIN:\",min(L9))\n",
        "print(\"MAX:\",max(L9))"
      ],
      "execution_count": null,
      "outputs": []
    },
    {
      "cell_type": "code",
      "metadata": {
        "id": "WzucE0I2e6Ea",
        "colab_type": "code",
        "colab": {}
      },
      "source": [
        "print(\"SUM:\",sum(L9))"
      ],
      "execution_count": null,
      "outputs": []
    },
    {
      "cell_type": "code",
      "metadata": {
        "id": "XJ5uk1Y4e_8C",
        "colab_type": "code",
        "colab": {}
      },
      "source": [
        "print(sorted(L9))"
      ],
      "execution_count": null,
      "outputs": []
    },
    {
      "cell_type": "code",
      "metadata": {
        "id": "4L92zsIOfE1W",
        "colab_type": "code",
        "colab": {}
      },
      "source": [
        "print(L9)"
      ],
      "execution_count": null,
      "outputs": []
    },
    {
      "cell_type": "markdown",
      "metadata": {
        "id": "zPr0ru_qa7FB",
        "colab_type": "text"
      },
      "source": [
        "Joining Lists"
      ]
    },
    {
      "cell_type": "code",
      "metadata": {
        "id": "ZOU8g44Aa6kg",
        "colab_type": "code",
        "colab": {}
      },
      "source": [
        "L1=L6+L7"
      ],
      "execution_count": null,
      "outputs": []
    },
    {
      "cell_type": "code",
      "metadata": {
        "id": "zSZNGdSFWGA7",
        "colab_type": "code",
        "colab": {}
      },
      "source": [
        "print(L1)"
      ],
      "execution_count": null,
      "outputs": []
    },
    {
      "cell_type": "code",
      "metadata": {
        "id": "nViPT4cGbE5L",
        "colab_type": "code",
        "colab": {}
      },
      "source": [
        "L6.extend(L7)"
      ],
      "execution_count": null,
      "outputs": []
    },
    {
      "cell_type": "code",
      "metadata": {
        "id": "1V9SDPXEbPxE",
        "colab_type": "code",
        "colab": {}
      },
      "source": [
        "print(L6)"
      ],
      "execution_count": null,
      "outputs": []
    },
    {
      "cell_type": "markdown",
      "metadata": {
        "id": "1hw7zyrPbTCn",
        "colab_type": "text"
      },
      "source": [
        "**Nested List**"
      ]
    },
    {
      "cell_type": "code",
      "metadata": {
        "id": "JgZ9nklAbWjx",
        "colab_type": "code",
        "colab": {}
      },
      "source": [
        "l1=[1,2,3]\n",
        "l2=['a','b','c']\n",
        "l3=['I am a student']"
      ],
      "execution_count": null,
      "outputs": []
    },
    {
      "cell_type": "code",
      "metadata": {
        "id": "DC94qtNIbh04",
        "colab_type": "code",
        "colab": {}
      },
      "source": [
        "l=[l1,l2,l3]"
      ],
      "execution_count": null,
      "outputs": []
    },
    {
      "cell_type": "code",
      "metadata": {
        "id": "pu9GWCSPbkkM",
        "colab_type": "code",
        "colab": {
          "base_uri": "https://localhost:8080/",
          "height": 35
        },
        "outputId": "da6d59a1-33e1-4b5c-f3a6-42d5596ea1f1"
      },
      "source": [
        "l"
      ],
      "execution_count": null,
      "outputs": [
        {
          "output_type": "execute_result",
          "data": {
            "text/plain": [
              "[[1, 2, 3], ['a', 'b', 'c'], ['I am a student']]"
            ]
          },
          "metadata": {
            "tags": []
          },
          "execution_count": 5
        }
      ]
    },
    {
      "cell_type": "code",
      "metadata": {
        "id": "4I041HI4bla_",
        "colab_type": "code",
        "colab": {}
      },
      "source": [
        "p=l[0]"
      ],
      "execution_count": null,
      "outputs": []
    },
    {
      "cell_type": "code",
      "metadata": {
        "id": "l-zdPndmhpPd",
        "colab_type": "code",
        "colab": {
          "base_uri": "https://localhost:8080/",
          "height": 35
        },
        "outputId": "d25a568a-170b-4f3a-8cb6-2ea98cb597a3"
      },
      "source": [
        "type(p)"
      ],
      "execution_count": null,
      "outputs": [
        {
          "output_type": "execute_result",
          "data": {
            "text/plain": [
              "list"
            ]
          },
          "metadata": {
            "tags": []
          },
          "execution_count": 7
        }
      ]
    },
    {
      "cell_type": "code",
      "metadata": {
        "id": "TOzcHiO7bnKH",
        "colab_type": "code",
        "colab": {}
      },
      "source": [
        "l[2][0]"
      ],
      "execution_count": null,
      "outputs": []
    },
    {
      "cell_type": "code",
      "metadata": {
        "id": "WFxZmttTbqXP",
        "colab_type": "code",
        "colab": {}
      },
      "source": [
        "l[1][2]"
      ],
      "execution_count": null,
      "outputs": []
    },
    {
      "cell_type": "markdown",
      "metadata": {
        "id": "iRcCL-uSb0A5",
        "colab_type": "text"
      },
      "source": [
        "# Set\n",
        "\n",
        "Sets are an unordered collection of unique elements.\n",
        "\n",
        "In Python sets are written with curly brackets.We can construct them by using the set() function."
      ]
    },
    {
      "cell_type": "code",
      "metadata": {
        "id": "KkvSk4OTbxmf",
        "colab_type": "code",
        "colab": {}
      },
      "source": [
        "x=set()"
      ],
      "execution_count": null,
      "outputs": []
    },
    {
      "cell_type": "markdown",
      "metadata": {
        "id": "dRdvtQBVjEib",
        "colab_type": "text"
      },
      "source": [
        ""
      ]
    },
    {
      "cell_type": "code",
      "metadata": {
        "id": "9x1Y44KljFae",
        "colab_type": "code",
        "colab": {
          "base_uri": "https://localhost:8080/",
          "height": 35
        },
        "outputId": "6e91cb04-49ac-4856-e2a7-3c4b015f706f"
      },
      "source": [
        "type(x)"
      ],
      "execution_count": null,
      "outputs": [
        {
          "output_type": "execute_result",
          "data": {
            "text/plain": [
              "set"
            ]
          },
          "metadata": {
            "tags": []
          },
          "execution_count": 13
        }
      ]
    },
    {
      "cell_type": "code",
      "metadata": {
        "id": "RwaUUNWScpK-",
        "colab_type": "code",
        "colab": {}
      },
      "source": [
        "x.add(1)"
      ],
      "execution_count": null,
      "outputs": []
    },
    {
      "cell_type": "code",
      "metadata": {
        "id": "5F0Jjmb9crEy",
        "colab_type": "code",
        "colab": {
          "base_uri": "https://localhost:8080/",
          "height": 35
        },
        "outputId": "922897e5-c3eb-43e1-feb3-f178a10113de"
      },
      "source": [
        "x"
      ],
      "execution_count": null,
      "outputs": [
        {
          "output_type": "execute_result",
          "data": {
            "text/plain": [
              "{1}"
            ]
          },
          "metadata": {
            "tags": []
          },
          "execution_count": 15
        }
      ]
    },
    {
      "cell_type": "code",
      "metadata": {
        "id": "sbwWZ2ImcrwC",
        "colab_type": "code",
        "colab": {}
      },
      "source": [
        "x2={1,90,2,3,4,1,2,'a','x','aaa','I am fine','s','ab','Sohana',1.222}"
      ],
      "execution_count": null,
      "outputs": []
    },
    {
      "cell_type": "code",
      "metadata": {
        "id": "xRVJAKducxdm",
        "colab_type": "code",
        "colab": {
          "base_uri": "https://localhost:8080/",
          "height": 35
        },
        "outputId": "5614e7fe-04ff-4c30-cc77-802011afbec6"
      },
      "source": [
        "x2"
      ],
      "execution_count": null,
      "outputs": [
        {
          "output_type": "execute_result",
          "data": {
            "text/plain": [
              "{1, 1.222, 2, 3, 4, 90, 'I am fine', 'Sohana', 'a', 'aaa', 'ab', 's', 'x'}"
            ]
          },
          "metadata": {
            "tags": []
          },
          "execution_count": 17
        }
      ]
    },
    {
      "cell_type": "code",
      "metadata": {
        "id": "gdffBF__frgy",
        "colab_type": "code",
        "colab": {
          "base_uri": "https://localhost:8080/",
          "height": 35
        },
        "outputId": "5fce1ae6-a15e-4ec7-efd5-f1f3b01bed4c"
      },
      "source": [
        "len(x2)"
      ],
      "execution_count": null,
      "outputs": [
        {
          "output_type": "execute_result",
          "data": {
            "text/plain": [
              "13"
            ]
          },
          "metadata": {
            "tags": []
          },
          "execution_count": 18
        }
      ]
    },
    {
      "cell_type": "code",
      "metadata": {
        "id": "L5o8Y63Pgkjv",
        "colab_type": "code",
        "colab": {}
      },
      "source": [
        "x2.update({23,66})"
      ],
      "execution_count": null,
      "outputs": []
    },
    {
      "cell_type": "code",
      "metadata": {
        "id": "cV9CJQP5goeI",
        "colab_type": "code",
        "colab": {
          "base_uri": "https://localhost:8080/",
          "height": 284
        },
        "outputId": "caa1eab6-8355-43b3-dc8a-fca160611d5c"
      },
      "source": [
        "x2"
      ],
      "execution_count": null,
      "outputs": [
        {
          "output_type": "execute_result",
          "data": {
            "text/plain": [
              "{1,\n",
              " 1.222,\n",
              " 2,\n",
              " 23,\n",
              " 3,\n",
              " 4,\n",
              " 66,\n",
              " 90,\n",
              " 'I am fine',\n",
              " 'Sohana',\n",
              " 'a',\n",
              " 'aaa',\n",
              " 'ab',\n",
              " 's',\n",
              " 'x'}"
            ]
          },
          "metadata": {
            "tags": []
          },
          "execution_count": 20
        }
      ]
    },
    {
      "cell_type": "code",
      "metadata": {
        "id": "vkehhcuLhhNV",
        "colab_type": "code",
        "colab": {
          "base_uri": "https://localhost:8080/",
          "height": 168
        },
        "outputId": "ce82b351-2f2d-40f9-9ea5-d19d1fbe7884"
      },
      "source": [
        "x2[0]"
      ],
      "execution_count": null,
      "outputs": [
        {
          "output_type": "error",
          "ename": "TypeError",
          "evalue": "ignored",
          "traceback": [
            "\u001b[0;31m---------------------------------------------------------------------------\u001b[0m",
            "\u001b[0;31mTypeError\u001b[0m                                 Traceback (most recent call last)",
            "\u001b[0;32m<ipython-input-21-89a70428fe5f>\u001b[0m in \u001b[0;36m<module>\u001b[0;34m()\u001b[0m\n\u001b[0;32m----> 1\u001b[0;31m \u001b[0mx2\u001b[0m\u001b[0;34m[\u001b[0m\u001b[0;36m0\u001b[0m\u001b[0;34m]\u001b[0m\u001b[0;34m\u001b[0m\u001b[0;34m\u001b[0m\u001b[0m\n\u001b[0m",
            "\u001b[0;31mTypeError\u001b[0m: 'set' object does not support indexing"
          ]
        }
      ]
    },
    {
      "cell_type": "code",
      "metadata": {
        "id": "dB-FebAOcx9m",
        "colab_type": "code",
        "colab": {
          "base_uri": "https://localhost:8080/",
          "height": 35
        },
        "outputId": "dc2d0d4d-afc9-4f9e-8568-a08149df606d"
      },
      "source": [
        "x2.pop()"
      ],
      "execution_count": null,
      "outputs": [
        {
          "output_type": "execute_result",
          "data": {
            "text/plain": [
              "1"
            ]
          },
          "metadata": {
            "tags": []
          },
          "execution_count": 22
        }
      ]
    },
    {
      "cell_type": "code",
      "metadata": {
        "id": "375AYsGEc3d_",
        "colab_type": "code",
        "colab": {
          "base_uri": "https://localhost:8080/",
          "height": 35
        },
        "outputId": "2c1f37bd-6186-41ef-dbc1-fd2cb8164583"
      },
      "source": [
        "x2.pop()"
      ],
      "execution_count": null,
      "outputs": [
        {
          "output_type": "execute_result",
          "data": {
            "text/plain": [
              "2"
            ]
          },
          "metadata": {
            "tags": []
          },
          "execution_count": 23
        }
      ]
    },
    {
      "cell_type": "code",
      "metadata": {
        "id": "K-UvCJJYdNgE",
        "colab_type": "code",
        "colab": {
          "base_uri": "https://localhost:8080/",
          "height": 35
        },
        "outputId": "6a48b614-7791-4933-f8e3-7c14288a09ca"
      },
      "source": [
        "x2"
      ],
      "execution_count": null,
      "outputs": [
        {
          "output_type": "execute_result",
          "data": {
            "text/plain": [
              "{1.222, 23, 3, 4, 66, 90, 'I am fine', 'Sohana', 'a', 'aaa', 'ab', 's', 'x'}"
            ]
          },
          "metadata": {
            "tags": []
          },
          "execution_count": 24
        }
      ]
    },
    {
      "cell_type": "code",
      "metadata": {
        "id": "j0sifJBFdTVZ",
        "colab_type": "code",
        "colab": {
          "base_uri": "https://localhost:8080/",
          "height": 168
        },
        "outputId": "0fe01380-f76f-4a98-8970-faab10bef931"
      },
      "source": [
        "x2.remove(1)"
      ],
      "execution_count": null,
      "outputs": [
        {
          "output_type": "error",
          "ename": "KeyError",
          "evalue": "ignored",
          "traceback": [
            "\u001b[0;31m---------------------------------------------------------------------------\u001b[0m",
            "\u001b[0;31mKeyError\u001b[0m                                  Traceback (most recent call last)",
            "\u001b[0;32m<ipython-input-25-6ded6740e54c>\u001b[0m in \u001b[0;36m<module>\u001b[0;34m()\u001b[0m\n\u001b[0;32m----> 1\u001b[0;31m \u001b[0mx2\u001b[0m\u001b[0;34m.\u001b[0m\u001b[0mremove\u001b[0m\u001b[0;34m(\u001b[0m\u001b[0;36m1\u001b[0m\u001b[0;34m)\u001b[0m\u001b[0;34m\u001b[0m\u001b[0;34m\u001b[0m\u001b[0m\n\u001b[0m",
            "\u001b[0;31mKeyError\u001b[0m: 1"
          ]
        }
      ]
    },
    {
      "cell_type": "code",
      "metadata": {
        "id": "nwltPYhGdV-t",
        "colab_type": "code",
        "colab": {}
      },
      "source": [
        "x2.discard(9)"
      ],
      "execution_count": null,
      "outputs": []
    },
    {
      "cell_type": "code",
      "metadata": {
        "id": "XwYhhCEbddaz",
        "colab_type": "code",
        "colab": {}
      },
      "source": [
        "x2.discard(4)"
      ],
      "execution_count": null,
      "outputs": []
    },
    {
      "cell_type": "code",
      "metadata": {
        "id": "X0YG1PO-faK4",
        "colab_type": "code",
        "colab": {
          "base_uri": "https://localhost:8080/",
          "height": 35
        },
        "outputId": "b7f4e0d0-24e3-467f-a41c-07f6884b8aaa"
      },
      "source": [
        "x2"
      ],
      "execution_count": null,
      "outputs": [
        {
          "output_type": "execute_result",
          "data": {
            "text/plain": [
              "{1.222, 23, 3, 66, 90, 'I am fine', 'Sohana', 'a', 'aaa', 'ab', 's', 'x'}"
            ]
          },
          "metadata": {
            "tags": []
          },
          "execution_count": 28
        }
      ]
    },
    {
      "cell_type": "code",
      "metadata": {
        "id": "h8__hA0IuV4T",
        "colab_type": "code",
        "colab": {}
      },
      "source": [
        "x2.clear()"
      ],
      "execution_count": null,
      "outputs": []
    },
    {
      "cell_type": "code",
      "metadata": {
        "id": "slt4YrjLubD0",
        "colab_type": "code",
        "colab": {
          "base_uri": "https://localhost:8080/",
          "height": 35
        },
        "outputId": "8154d05d-c86e-4ba7-908c-6a1f96230539"
      },
      "source": [
        "x2"
      ],
      "execution_count": null,
      "outputs": [
        {
          "output_type": "execute_result",
          "data": {
            "text/plain": [
              "set()"
            ]
          },
          "metadata": {
            "tags": []
          },
          "execution_count": 30
        }
      ]
    },
    {
      "cell_type": "markdown",
      "metadata": {
        "id": "1DgVt_YEPuAO",
        "colab_type": "text"
      },
      "source": [
        ""
      ]
    },
    {
      "cell_type": "code",
      "metadata": {
        "id": "Y8ZJb5brfazb",
        "colab_type": "code",
        "colab": {
          "base_uri": "https://localhost:8080/",
          "height": 70
        },
        "outputId": "cfc27fa2-6100-465f-e5c9-055b87b0ec20"
      },
      "source": [
        "\n",
        "A = {1,2,3,5,7,'Human',\"It's alright\"}\n",
        "B = {1,2,4,9,'Human'}\n",
        "\n",
        "print(\"UNION:\",A.union(B))\n",
        "print(\"INTERSECTION:\",A.intersection(B))\n",
        "print(\"DIFFERENCE:\",A.difference(B))"
      ],
      "execution_count": null,
      "outputs": [
        {
          "output_type": "stream",
          "text": [
            "UNION: {1, 2, 3, 4, 5, 7, 9, \"It's alright\", 'Human'}\n",
            "INTERSECTION: {'Human', 1, 2}\n",
            "DIFFERENCE: {\"It's alright\", 3, 5, 7}\n"
          ],
          "name": "stdout"
        }
      ]
    },
    {
      "cell_type": "code",
      "metadata": {
        "id": "2q7gfVrjyCL9",
        "colab_type": "code",
        "colab": {}
      },
      "source": [
        "x3={1,2,3,'a','s','c'}"
      ],
      "execution_count": null,
      "outputs": []
    },
    {
      "cell_type": "code",
      "metadata": {
        "id": "isLQDifIl8YH",
        "colab_type": "code",
        "colab": {
          "base_uri": "https://localhost:8080/",
          "height": 35
        },
        "outputId": "d057283b-a34b-49b6-d0c8-944606bd7d28"
      },
      "source": [
        "type(x3)"
      ],
      "execution_count": null,
      "outputs": [
        {
          "output_type": "execute_result",
          "data": {
            "text/plain": [
              "set"
            ]
          },
          "metadata": {
            "tags": []
          },
          "execution_count": 42
        }
      ]
    },
    {
      "cell_type": "code",
      "metadata": {
        "id": "pYeOlx3_gazh",
        "colab_type": "code",
        "colab": {}
      },
      "source": [
        "x3_list=list(x3)"
      ],
      "execution_count": null,
      "outputs": []
    },
    {
      "cell_type": "code",
      "metadata": {
        "id": "YBEnoh0xl-tc",
        "colab_type": "code",
        "colab": {
          "base_uri": "https://localhost:8080/",
          "height": 35
        },
        "outputId": "b20dbf7a-869e-475d-c8b8-77418838a500"
      },
      "source": [
        "type(x3_list)"
      ],
      "execution_count": null,
      "outputs": [
        {
          "output_type": "execute_result",
          "data": {
            "text/plain": [
              "list"
            ]
          },
          "metadata": {
            "tags": []
          },
          "execution_count": 44
        }
      ]
    },
    {
      "cell_type": "code",
      "metadata": {
        "id": "1ZGIK534hDlE",
        "colab_type": "code",
        "colab": {
          "base_uri": "https://localhost:8080/",
          "height": 35
        },
        "outputId": "d2c54b8c-6339-4ec3-e79a-4148d7c4d529"
      },
      "source": [
        "x3_list"
      ],
      "execution_count": null,
      "outputs": [
        {
          "output_type": "execute_result",
          "data": {
            "text/plain": [
              "[1, 2, 3, 'a', 999, 's', 111, 'c']"
            ]
          },
          "metadata": {
            "tags": []
          },
          "execution_count": 45
        }
      ]
    },
    {
      "cell_type": "code",
      "metadata": {
        "id": "4O1T2HzWhGju",
        "colab_type": "code",
        "colab": {
          "base_uri": "https://localhost:8080/",
          "height": 35
        },
        "outputId": "4eb3de1c-9984-4eaa-a954-bb2b4b6c975f"
      },
      "source": [
        "x3_list[2]"
      ],
      "execution_count": null,
      "outputs": [
        {
          "output_type": "execute_result",
          "data": {
            "text/plain": [
              "3"
            ]
          },
          "metadata": {
            "tags": []
          },
          "execution_count": 46
        }
      ]
    },
    {
      "cell_type": "code",
      "metadata": {
        "id": "-AxudVpphKye",
        "colab_type": "code",
        "colab": {}
      },
      "source": [
        "x3.update({999,111})"
      ],
      "execution_count": null,
      "outputs": []
    },
    {
      "cell_type": "code",
      "metadata": {
        "id": "O8Svzqd3h6OS",
        "colab_type": "code",
        "colab": {
          "base_uri": "https://localhost:8080/",
          "height": 35
        },
        "outputId": "b20994f7-d4ef-440b-8bd9-17c2771fb793"
      },
      "source": [
        "x3"
      ],
      "execution_count": null,
      "outputs": [
        {
          "output_type": "execute_result",
          "data": {
            "text/plain": [
              "{1, 111, 2, 3, 999, 'a', 'c', 's'}"
            ]
          },
          "metadata": {
            "tags": []
          },
          "execution_count": 48
        }
      ]
    },
    {
      "cell_type": "code",
      "metadata": {
        "id": "naog-bqEi-Vs",
        "colab_type": "code",
        "colab": {
          "base_uri": "https://localhost:8080/",
          "height": 35
        },
        "outputId": "9a378409-5233-49a3-81eb-43655474def7"
      },
      "source": [
        "x3_list"
      ],
      "execution_count": null,
      "outputs": [
        {
          "output_type": "execute_result",
          "data": {
            "text/plain": [
              "[1, 2, 3, 'a', 999, 's', 111, 'c']"
            ]
          },
          "metadata": {
            "tags": []
          },
          "execution_count": 40
        }
      ]
    },
    {
      "cell_type": "code",
      "metadata": {
        "id": "KHb5GExemETj",
        "colab_type": "code",
        "colab": {}
      },
      "source": [
        "x3.update({\"Hi everyone\"})"
      ],
      "execution_count": null,
      "outputs": []
    },
    {
      "cell_type": "code",
      "metadata": {
        "id": "eJs-wxQMkxiF",
        "colab_type": "code",
        "colab": {}
      },
      "source": [
        "x3_list=list(x3)"
      ],
      "execution_count": null,
      "outputs": []
    },
    {
      "cell_type": "code",
      "metadata": {
        "id": "53Qfc4jjmKTN",
        "colab_type": "code",
        "colab": {
          "base_uri": "https://localhost:8080/",
          "height": 35
        },
        "outputId": "1de26dc3-8b51-46ad-9500-74168077cc20"
      },
      "source": [
        "x3_list"
      ],
      "execution_count": null,
      "outputs": [
        {
          "output_type": "execute_result",
          "data": {
            "text/plain": [
              "[1, 2, 3, 'a', 999, 's', 'Hi everyone', 111, 'c']"
            ]
          },
          "metadata": {
            "tags": []
          },
          "execution_count": 51
        }
      ]
    },
    {
      "cell_type": "code",
      "metadata": {
        "id": "4lZ7USjRnWLs",
        "colab_type": "code",
        "colab": {}
      },
      "source": [
        ""
      ],
      "execution_count": null,
      "outputs": []
    }
  ]
}