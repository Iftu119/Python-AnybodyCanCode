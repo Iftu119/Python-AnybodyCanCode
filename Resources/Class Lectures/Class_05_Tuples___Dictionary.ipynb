{
  "nbformat": 4,
  "nbformat_minor": 0,
  "metadata": {
    "colab": {
      "name": "Class_05:Tuples & Dictionary.ipynb",
      "provenance": [],
      "collapsed_sections": []
    },
    "kernelspec": {
      "name": "python3",
      "display_name": "Python 3"
    }
  },
  "cells": [
    {
      "cell_type": "markdown",
      "metadata": {
        "id": "cWnpgSXvtjpj",
        "colab_type": "text"
      },
      "source": [
        "# Nested Loop"
      ]
    },
    {
      "cell_type": "code",
      "metadata": {
        "id": "Sgk6ZX94H8Ek",
        "colab_type": "code",
        "colab": {
          "base_uri": "https://localhost:8080/",
          "height": 102
        },
        "outputId": "567f159d-de74-43fd-c55d-520bcac96cdb"
      },
      "source": [
        "for i in range(0,5):\n",
        "  print(\"Loop 1:\",i)"
      ],
      "execution_count": null,
      "outputs": [
        {
          "output_type": "stream",
          "text": [
            "Loop 1: 0\n",
            "Loop 1: 1\n",
            "Loop 1: 2\n",
            "Loop 1: 3\n",
            "Loop 1: 4\n"
          ],
          "name": "stdout"
        }
      ]
    },
    {
      "cell_type": "code",
      "metadata": {
        "id": "vlJspuXGI-Sj",
        "colab_type": "code",
        "colab": {
          "base_uri": "https://localhost:8080/",
          "height": 153
        },
        "outputId": "d8702d83-ca45-4ac1-fc86-6904ab335eba"
      },
      "source": [
        "for i in range(0,2):\n",
        "  print(\"\\nOuter loop \",i)\n",
        "  for j in range(0,2):\n",
        "    print(\"Inner loop \", j)\n"
      ],
      "execution_count": null,
      "outputs": [
        {
          "output_type": "stream",
          "text": [
            "\n",
            "Outer loop  0\n",
            "Inner loop  0\n",
            "Inner loop  1\n",
            "\n",
            "Outer loop  1\n",
            "Inner loop  0\n",
            "Inner loop  1\n"
          ],
          "name": "stdout"
        }
      ]
    },
    {
      "cell_type": "code",
      "metadata": {
        "id": "NAqphoLAL7Nt",
        "colab_type": "code",
        "colab": {
          "base_uri": "https://localhost:8080/",
          "height": 67
        },
        "outputId": "a3dda204-c35b-4544-de15-0ca4323be016"
      },
      "source": [
        "for i in range(0,3):\n",
        "  for j in range(0,3):\n",
        "    if(i<=j):\n",
        "      print(i,j, end=' ')\n",
        "  print()"
      ],
      "execution_count": null,
      "outputs": [
        {
          "output_type": "stream",
          "text": [
            "0 0 0 1 0 2 \n",
            "1 1 1 2 \n",
            "2 2 \n"
          ],
          "name": "stdout"
        }
      ]
    },
    {
      "cell_type": "code",
      "metadata": {
        "id": "RNXk_3X3Kr9X",
        "colab_type": "code",
        "colab": {
          "base_uri": "https://localhost:8080/",
          "height": 357
        },
        "outputId": "b7252773-f196-4f4e-b6ab-8ed71b9bdfd4"
      },
      "source": [
        "for i in range(0,2):\n",
        "  print(\"\\nOuter loop \",i)\n",
        "  for j in range(0,2):\n",
        "    print(\"\\nMiddle loop \", j)\n",
        "    for k in range(0,2):\n",
        "      print(\"Inner loop \",k)"
      ],
      "execution_count": null,
      "outputs": [
        {
          "output_type": "stream",
          "text": [
            "\n",
            "Outer loop  0\n",
            "\n",
            "Middle loop  0\n",
            "Inner loop  0\n",
            "Inner loop  1\n",
            "\n",
            "Middle loop  1\n",
            "Inner loop  0\n",
            "Inner loop  1\n",
            "\n",
            "Outer loop  1\n",
            "\n",
            "Middle loop  0\n",
            "Inner loop  0\n",
            "Inner loop  1\n",
            "\n",
            "Middle loop  1\n",
            "Inner loop  0\n",
            "Inner loop  1\n"
          ],
          "name": "stdout"
        }
      ]
    },
    {
      "cell_type": "code",
      "metadata": {
        "id": "GULUBqyoMZNl",
        "colab_type": "code",
        "colab": {
          "base_uri": "https://localhost:8080/",
          "height": 221
        },
        "outputId": "ebcec179-161a-44ce-fd47-70433eaae95f"
      },
      "source": [
        "for i in range(0,3):\n",
        "  for j in range(0,3):\n",
        "    for k in range(0,3):\n",
        "      print(i,j,k, end='   ')\n",
        "    print()\n",
        "  print()"
      ],
      "execution_count": null,
      "outputs": [
        {
          "output_type": "stream",
          "text": [
            "0 0 0   0 0 1   0 0 2   \n",
            "0 1 0   0 1 1   0 1 2   \n",
            "0 2 0   0 2 1   0 2 2   \n",
            "\n",
            "1 0 0   1 0 1   1 0 2   \n",
            "1 1 0   1 1 1   1 1 2   \n",
            "1 2 0   1 2 1   1 2 2   \n",
            "\n",
            "2 0 0   2 0 1   2 0 2   \n",
            "2 1 0   2 1 1   2 1 2   \n",
            "2 2 0   2 2 1   2 2 2   \n",
            "\n"
          ],
          "name": "stdout"
        }
      ]
    },
    {
      "cell_type": "markdown",
      "metadata": {
        "id": "ZuwT0YQHAbv9",
        "colab_type": "text"
      },
      "source": [
        "# Tuples\n",
        "In Python tuples are very similar to lists,unlike lists they are immutable meaning they can not be changed. "
      ]
    },
    {
      "cell_type": "markdown",
      "metadata": {
        "id": "LuDJ7oB-A0wb",
        "colab_type": "text"
      },
      "source": [
        "**Constructing Tuple**"
      ]
    },
    {
      "cell_type": "code",
      "metadata": {
        "id": "WejYu3SnA0LP",
        "colab_type": "code",
        "colab": {}
      },
      "source": [
        "t=(1,2,3,\"One\",\"Two\",\"Three\")"
      ],
      "execution_count": null,
      "outputs": []
    },
    {
      "cell_type": "code",
      "metadata": {
        "id": "Lk6LYNXnBRbI",
        "colab_type": "code",
        "colab": {
          "base_uri": "https://localhost:8080/",
          "height": 34
        },
        "outputId": "0193dad3-26e6-47d7-af92-e1cfd3708b1c"
      },
      "source": [
        "type(t)"
      ],
      "execution_count": null,
      "outputs": [
        {
          "output_type": "execute_result",
          "data": {
            "text/plain": [
              "tuple"
            ]
          },
          "metadata": {
            "tags": []
          },
          "execution_count": 9
        }
      ]
    },
    {
      "cell_type": "code",
      "metadata": {
        "id": "RGT6_8IuBW_2",
        "colab_type": "code",
        "colab": {
          "base_uri": "https://localhost:8080/",
          "height": 34
        },
        "outputId": "08defe7c-b0f0-4933-f360-705163862a5a"
      },
      "source": [
        "print(t)"
      ],
      "execution_count": null,
      "outputs": [
        {
          "output_type": "stream",
          "text": [
            "(1, 2, 3, 'One', 'Two', 'Three')\n"
          ],
          "name": "stdout"
        }
      ]
    },
    {
      "cell_type": "markdown",
      "metadata": {
        "id": "o354D7iRBa_c",
        "colab_type": "text"
      },
      "source": [
        "**Doing Some Operations on Tuple**"
      ]
    },
    {
      "cell_type": "code",
      "metadata": {
        "id": "j3j35mVhBYiJ",
        "colab_type": "code",
        "colab": {}
      },
      "source": [
        "t2=(1,2,3,4,5)"
      ],
      "execution_count": null,
      "outputs": []
    },
    {
      "cell_type": "code",
      "metadata": {
        "id": "evCz_ui8B6xv",
        "colab_type": "code",
        "colab": {
          "base_uri": "https://localhost:8080/",
          "height": 34
        },
        "outputId": "3a2b1717-7782-45e1-d3c7-4be8547d481d"
      },
      "source": [
        "t2[0]"
      ],
      "execution_count": null,
      "outputs": [
        {
          "output_type": "execute_result",
          "data": {
            "text/plain": [
              "1"
            ]
          },
          "metadata": {
            "tags": []
          },
          "execution_count": 12
        }
      ]
    },
    {
      "cell_type": "code",
      "metadata": {
        "id": "xBzhGKNhB9M-",
        "colab_type": "code",
        "colab": {
          "base_uri": "https://localhost:8080/",
          "height": 34
        },
        "outputId": "bec86b9d-0392-4c49-d6e0-faa6e1434aa2"
      },
      "source": [
        "t2[1:4]"
      ],
      "execution_count": null,
      "outputs": [
        {
          "output_type": "execute_result",
          "data": {
            "text/plain": [
              "(2, 3, 4)"
            ]
          },
          "metadata": {
            "tags": []
          },
          "execution_count": 13
        }
      ]
    },
    {
      "cell_type": "code",
      "metadata": {
        "id": "pJSwVqI1CEJ5",
        "colab_type": "code",
        "colab": {
          "base_uri": "https://localhost:8080/",
          "height": 34
        },
        "outputId": "c41ff1ab-e35e-42c8-8e2e-7eed9df9b6ee"
      },
      "source": [
        "t2[1:4:2]"
      ],
      "execution_count": null,
      "outputs": [
        {
          "output_type": "execute_result",
          "data": {
            "text/plain": [
              "(2, 4)"
            ]
          },
          "metadata": {
            "tags": []
          },
          "execution_count": 14
        }
      ]
    },
    {
      "cell_type": "code",
      "metadata": {
        "id": "0-jOH-MJBlco",
        "colab_type": "code",
        "colab": {
          "base_uri": "https://localhost:8080/",
          "height": 34
        },
        "outputId": "dbc56d8c-82c3-4c8d-e219-83d55147424c"
      },
      "source": [
        "t2.index(5)"
      ],
      "execution_count": null,
      "outputs": [
        {
          "output_type": "execute_result",
          "data": {
            "text/plain": [
              "4"
            ]
          },
          "metadata": {
            "tags": []
          },
          "execution_count": 15
        }
      ]
    },
    {
      "cell_type": "code",
      "metadata": {
        "id": "xd3SiR92BpML",
        "colab_type": "code",
        "colab": {
          "base_uri": "https://localhost:8080/",
          "height": 34
        },
        "outputId": "9380d71c-f2a7-450c-cabc-5ac56c07ff1b"
      },
      "source": [
        "t2.count(2)"
      ],
      "execution_count": null,
      "outputs": [
        {
          "output_type": "execute_result",
          "data": {
            "text/plain": [
              "1"
            ]
          },
          "metadata": {
            "tags": []
          },
          "execution_count": 16
        }
      ]
    },
    {
      "cell_type": "code",
      "metadata": {
        "id": "7VaAs8B_BsDc",
        "colab_type": "code",
        "colab": {
          "base_uri": "https://localhost:8080/",
          "height": 34
        },
        "outputId": "f4c42330-9d77-42d0-8b5c-df0e4a590da2"
      },
      "source": [
        "len(t2)"
      ],
      "execution_count": null,
      "outputs": [
        {
          "output_type": "execute_result",
          "data": {
            "text/plain": [
              "5"
            ]
          },
          "metadata": {
            "tags": []
          },
          "execution_count": 17
        }
      ]
    },
    {
      "cell_type": "code",
      "metadata": {
        "id": "e71G6D4sCKoc",
        "colab_type": "code",
        "colab": {
          "base_uri": "https://localhost:8080/",
          "height": 68
        },
        "outputId": "49b09346-f2bf-425c-8567-daf257a8a21d"
      },
      "source": [
        "print(sum(t2))\n",
        "print(min(t2))\n",
        "print(max(t2))"
      ],
      "execution_count": null,
      "outputs": [
        {
          "output_type": "stream",
          "text": [
            "15\n",
            "1\n",
            "5\n"
          ],
          "name": "stdout"
        }
      ]
    },
    {
      "cell_type": "code",
      "metadata": {
        "id": "Nad9T9muvWRi",
        "colab_type": "code",
        "colab": {
          "base_uri": "https://localhost:8080/",
          "height": 34
        },
        "outputId": "971c5de0-5e90-4398-a22e-e5f2c39d84b7"
      },
      "source": [
        "if t2[0]==1:\n",
        "  print(\"Right\")\n",
        "else:\n",
        "  print(\"Wrong\")"
      ],
      "execution_count": null,
      "outputs": [
        {
          "output_type": "stream",
          "text": [
            "Right\n"
          ],
          "name": "stdout"
        }
      ]
    },
    {
      "cell_type": "code",
      "metadata": {
        "id": "t5If7HVduwzI",
        "colab_type": "code",
        "colab": {
          "base_uri": "https://localhost:8080/",
          "height": 119
        },
        "outputId": "c3fa8fc6-6f6c-4fee-a40b-280c1c3c2974"
      },
      "source": [
        "t3=(1,2,3,8,10)\n",
        "i=0\n",
        "while i<len(t3):\n",
        "  print(t3[i])\n",
        "  i=i+1\n",
        "else:\n",
        "  print(\"The End\")"
      ],
      "execution_count": null,
      "outputs": [
        {
          "output_type": "stream",
          "text": [
            "1\n",
            "2\n",
            "3\n",
            "8\n",
            "10\n",
            "The End\n"
          ],
          "name": "stdout"
        }
      ]
    },
    {
      "cell_type": "code",
      "metadata": {
        "id": "oiZmBZmlvEW4",
        "colab_type": "code",
        "colab": {
          "base_uri": "https://localhost:8080/",
          "height": 102
        },
        "outputId": "ba766776-bb91-464b-8939-a95966e4dd95"
      },
      "source": [
        "t4=(\"I am a student\",\"Teacher\",1,2,4)\n",
        "for i in t4:\n",
        "  print(i)"
      ],
      "execution_count": null,
      "outputs": [
        {
          "output_type": "stream",
          "text": [
            "I am a student\n",
            "Teacher\n",
            "1\n",
            "2\n",
            "4\n"
          ],
          "name": "stdout"
        }
      ]
    },
    {
      "cell_type": "code",
      "metadata": {
        "id": "zOmao8cX0uKt",
        "colab_type": "code",
        "colab": {
          "base_uri": "https://localhost:8080/",
          "height": 51
        },
        "outputId": "75e69d25-a588-4c59-9a60-8998e8ae4f3b"
      },
      "source": [
        "print(t4+t4)\n",
        "print(t3*3)"
      ],
      "execution_count": null,
      "outputs": [
        {
          "output_type": "stream",
          "text": [
            "('I am a student', 'Teacher', 1, 2, 4, 'I am a student', 'Teacher', 1, 2, 4)\n",
            "(1, 2, 3, 8, 10, 1, 2, 3, 8, 10, 1, 2, 3, 8, 10)\n"
          ],
          "name": "stdout"
        }
      ]
    },
    {
      "cell_type": "markdown",
      "metadata": {
        "id": "rfLxNVZACt2P",
        "colab_type": "text"
      },
      "source": [
        "Immutability"
      ]
    },
    {
      "cell_type": "code",
      "metadata": {
        "id": "GB7Hql-SCx91",
        "colab_type": "code",
        "colab": {
          "base_uri": "https://localhost:8080/",
          "height": 163
        },
        "outputId": "31c371f7-7bfe-4619-a4cf-3d8bc586d4f2"
      },
      "source": [
        "t2[0]=1"
      ],
      "execution_count": null,
      "outputs": [
        {
          "output_type": "error",
          "ename": "TypeError",
          "evalue": "ignored",
          "traceback": [
            "\u001b[0;31m---------------------------------------------------------------------------\u001b[0m",
            "\u001b[0;31mTypeError\u001b[0m                                 Traceback (most recent call last)",
            "\u001b[0;32m<ipython-input-23-5dfc673da11f>\u001b[0m in \u001b[0;36m<module>\u001b[0;34m()\u001b[0m\n\u001b[0;32m----> 1\u001b[0;31m \u001b[0mt2\u001b[0m\u001b[0;34m[\u001b[0m\u001b[0;36m0\u001b[0m\u001b[0;34m]\u001b[0m\u001b[0;34m=\u001b[0m\u001b[0;36m1\u001b[0m\u001b[0;34m\u001b[0m\u001b[0;34m\u001b[0m\u001b[0m\n\u001b[0m",
            "\u001b[0;31mTypeError\u001b[0m: 'tuple' object does not support item assignment"
          ]
        }
      ]
    },
    {
      "cell_type": "code",
      "metadata": {
        "id": "Mr526X2gC1qV",
        "colab_type": "code",
        "colab": {
          "base_uri": "https://localhost:8080/",
          "height": 163
        },
        "outputId": "2c02b3df-8e62-4de8-899d-dc1bfe486949"
      },
      "source": [
        "t2.append(6)"
      ],
      "execution_count": null,
      "outputs": [
        {
          "output_type": "error",
          "ename": "AttributeError",
          "evalue": "ignored",
          "traceback": [
            "\u001b[0;31m---------------------------------------------------------------------------\u001b[0m",
            "\u001b[0;31mAttributeError\u001b[0m                            Traceback (most recent call last)",
            "\u001b[0;32m<ipython-input-24-5557e6f0f895>\u001b[0m in \u001b[0;36m<module>\u001b[0;34m()\u001b[0m\n\u001b[0;32m----> 1\u001b[0;31m \u001b[0mt2\u001b[0m\u001b[0;34m.\u001b[0m\u001b[0mappend\u001b[0m\u001b[0;34m(\u001b[0m\u001b[0;36m6\u001b[0m\u001b[0;34m)\u001b[0m\u001b[0;34m\u001b[0m\u001b[0;34m\u001b[0m\u001b[0m\n\u001b[0m",
            "\u001b[0;31mAttributeError\u001b[0m: 'tuple' object has no attribute 'append'"
          ]
        }
      ]
    },
    {
      "cell_type": "markdown",
      "metadata": {
        "id": "SjlOrVClupJe",
        "colab_type": "text"
      },
      "source": [
        ""
      ]
    },
    {
      "cell_type": "code",
      "metadata": {
        "id": "ncWipstnuopd",
        "colab_type": "code",
        "colab": {}
      },
      "source": [
        "L=list(t3)"
      ],
      "execution_count": null,
      "outputs": []
    },
    {
      "cell_type": "code",
      "metadata": {
        "id": "FnphZ4pWxdGq",
        "colab_type": "code",
        "colab": {
          "base_uri": "https://localhost:8080/",
          "height": 34
        },
        "outputId": "9cb34632-2f92-4739-e244-ef6c96de3bd2"
      },
      "source": [
        "print(L)"
      ],
      "execution_count": null,
      "outputs": [
        {
          "output_type": "stream",
          "text": [
            "[1, 2, 3, 8, 10]\n"
          ],
          "name": "stdout"
        }
      ]
    },
    {
      "cell_type": "markdown",
      "metadata": {
        "id": "xBag0r0S_05e",
        "colab_type": "text"
      },
      "source": [
        "# Dictionary\n",
        "\n",
        "We are going to talk about mapping in Python.\n",
        "\n",
        "A Python dictionary consists of a key and then an associated value.\n",
        "\n",
        "\n",
        "Key: string, integer, tuple\n",
        "\n",
        "Value: Any data type\n",
        "\n",
        "**Keys have to be unique**\n",
        "\n",
        "**Values can be duplicated**"
      ]
    },
    {
      "cell_type": "markdown",
      "metadata": {
        "id": "BkySOhXPDdPB",
        "colab_type": "text"
      },
      "source": [
        "**Constructing Dictionary**"
      ]
    },
    {
      "cell_type": "code",
      "metadata": {
        "id": "kl_WAaeBDcuh",
        "colab_type": "code",
        "colab": {}
      },
      "source": [
        "\n",
        "D={'key1':\"Value1\",'key2':\"Value2\",'key3':\"Value1\"}"
      ],
      "execution_count": null,
      "outputs": []
    },
    {
      "cell_type": "code",
      "metadata": {
        "id": "SbqIHYU0DJlO",
        "colab_type": "code",
        "colab": {
          "base_uri": "https://localhost:8080/",
          "height": 34
        },
        "outputId": "c21bce02-992e-40c4-c309-e834fca0847d"
      },
      "source": [
        "D"
      ],
      "execution_count": null,
      "outputs": [
        {
          "output_type": "execute_result",
          "data": {
            "text/plain": [
              "{'key1': 'Value1', 'key2': 'Value2', 'key3': 'Value1'}"
            ]
          },
          "metadata": {
            "tags": []
          },
          "execution_count": 3
        }
      ]
    },
    {
      "cell_type": "code",
      "metadata": {
        "id": "mGSdvqIbGT82",
        "colab_type": "code",
        "colab": {}
      },
      "source": [
        "D1={'key1':\"Value1\",'key1':\"Value2\",'key1':\"Value5\",'key2':\"Value9\"}"
      ],
      "execution_count": null,
      "outputs": []
    },
    {
      "cell_type": "code",
      "metadata": {
        "id": "E3RIAh0-GkFT",
        "colab_type": "code",
        "colab": {
          "base_uri": "https://localhost:8080/",
          "height": 34
        },
        "outputId": "cef58b1a-c06b-40c9-d5ac-f7c84f6a2a70"
      },
      "source": [
        "D1"
      ],
      "execution_count": null,
      "outputs": [
        {
          "output_type": "execute_result",
          "data": {
            "text/plain": [
              "{'key1': 'Value5', 'key2': 'Value9'}"
            ]
          },
          "metadata": {
            "tags": []
          },
          "execution_count": 5
        }
      ]
    },
    {
      "cell_type": "code",
      "metadata": {
        "id": "yc7id67oGpnj",
        "colab_type": "code",
        "colab": {
          "base_uri": "https://localhost:8080/",
          "height": 35
        },
        "outputId": "c7e97217-d37c-4fc8-a06d-791a8f3db91f"
      },
      "source": [
        "D1['key1']"
      ],
      "execution_count": null,
      "outputs": [
        {
          "output_type": "execute_result",
          "data": {
            "application/vnd.google.colaboratory.intrinsic": {
              "type": "string"
            },
            "text/plain": [
              "'Value5'"
            ]
          },
          "metadata": {
            "tags": []
          },
          "execution_count": 6
        }
      ]
    },
    {
      "cell_type": "code",
      "metadata": {
        "id": "3bZN6vD3HEQv",
        "colab_type": "code",
        "colab": {}
      },
      "source": [
        "D2={1:7,2:10,3:[1,2,3]}"
      ],
      "execution_count": null,
      "outputs": []
    },
    {
      "cell_type": "code",
      "metadata": {
        "id": "6ZjikKftHPUJ",
        "colab_type": "code",
        "colab": {
          "base_uri": "https://localhost:8080/",
          "height": 34
        },
        "outputId": "b1e6862f-0b8a-4015-e12a-263eb548af24"
      },
      "source": [
        "D2"
      ],
      "execution_count": null,
      "outputs": [
        {
          "output_type": "execute_result",
          "data": {
            "text/plain": [
              "{1: 7, 2: 10, 3: [1, 2, 3]}"
            ]
          },
          "metadata": {
            "tags": []
          },
          "execution_count": 8
        }
      ]
    },
    {
      "cell_type": "code",
      "metadata": {
        "id": "UqMnTv2NHQmw",
        "colab_type": "code",
        "colab": {
          "base_uri": "https://localhost:8080/",
          "height": 34
        },
        "outputId": "526ae6ca-f4aa-41a2-ab01-a6cd91c75695"
      },
      "source": [
        "D2[1]"
      ],
      "execution_count": null,
      "outputs": [
        {
          "output_type": "execute_result",
          "data": {
            "text/plain": [
              "7"
            ]
          },
          "metadata": {
            "tags": []
          },
          "execution_count": 9
        }
      ]
    },
    {
      "cell_type": "code",
      "metadata": {
        "id": "de2zpWVHHZ95",
        "colab_type": "code",
        "colab": {
          "base_uri": "https://localhost:8080/",
          "height": 34
        },
        "outputId": "8c35966a-5505-43c0-ee1b-21b6fae00138"
      },
      "source": [
        "D2[3]"
      ],
      "execution_count": null,
      "outputs": [
        {
          "output_type": "execute_result",
          "data": {
            "text/plain": [
              "[1, 2, 3]"
            ]
          },
          "metadata": {
            "tags": []
          },
          "execution_count": 11
        }
      ]
    },
    {
      "cell_type": "code",
      "metadata": {
        "id": "GKZRB52dHT1l",
        "colab_type": "code",
        "colab": {
          "base_uri": "https://localhost:8080/",
          "height": 34
        },
        "outputId": "82bf0bda-2421-4d72-f2fd-566823832f2c"
      },
      "source": [
        "D2[3][1]"
      ],
      "execution_count": null,
      "outputs": [
        {
          "output_type": "execute_result",
          "data": {
            "text/plain": [
              "2"
            ]
          },
          "metadata": {
            "tags": []
          },
          "execution_count": 12
        }
      ]
    },
    {
      "cell_type": "markdown",
      "metadata": {
        "id": "wCC3XogSbMWe",
        "colab_type": "text"
      },
      "source": [
        "**Starting with an empty Dictionary**"
      ]
    },
    {
      "cell_type": "code",
      "metadata": {
        "id": "ZX5c2STBbL34",
        "colab_type": "code",
        "colab": {
          "base_uri": "https://localhost:8080/",
          "height": 34
        },
        "outputId": "cc9f9ee0-5ec0-4381-d947-b4ae77caf7e7"
      },
      "source": [
        "Dict = {}\n",
        "Dict['number'] = 123\n",
        "Dict['letter'] = \"ABC\"\n",
        "print(Dict)"
      ],
      "execution_count": null,
      "outputs": [
        {
          "output_type": "stream",
          "text": [
            "{'number': 123, 'letter': 'ABC'}\n"
          ],
          "name": "stdout"
        }
      ]
    },
    {
      "cell_type": "markdown",
      "metadata": {
        "id": "wJnTyHE2b6lq",
        "colab_type": "text"
      },
      "source": [
        "**Modifying Values in a Dictionary**"
      ]
    },
    {
      "cell_type": "code",
      "metadata": {
        "id": "lDSicQmVcB98",
        "colab_type": "code",
        "colab": {
          "base_uri": "https://localhost:8080/",
          "height": 34
        },
        "outputId": "91159113-c15b-4757-9e1b-3825804c376c"
      },
      "source": [
        "Dict['number']=456\n",
        "print(Dict)"
      ],
      "execution_count": null,
      "outputs": [
        {
          "output_type": "stream",
          "text": [
            "{'number': 456, 'letter': 'ABC'}\n"
          ],
          "name": "stdout"
        }
      ]
    },
    {
      "cell_type": "markdown",
      "metadata": {
        "id": "QyeTaMzmcsye",
        "colab_type": "text"
      },
      "source": [
        "**Removing a Key-Value pair from Dictionary**"
      ]
    },
    {
      "cell_type": "code",
      "metadata": {
        "id": "rR1Qrx4hc2nY",
        "colab_type": "code",
        "colab": {
          "base_uri": "https://localhost:8080/",
          "height": 34
        },
        "outputId": "ac9fdd50-f338-46be-fbc9-bde8e7852f33"
      },
      "source": [
        "del Dict['number']\n",
        "print(Dict)"
      ],
      "execution_count": null,
      "outputs": [
        {
          "output_type": "stream",
          "text": [
            "{'letter': 'ABC'}\n"
          ],
          "name": "stdout"
        }
      ]
    },
    {
      "cell_type": "markdown",
      "metadata": {
        "id": "C6_TjW7ZHvoM",
        "colab_type": "text"
      },
      "source": [
        "**Doing Some Operations on Dictionary**"
      ]
    },
    {
      "cell_type": "code",
      "metadata": {
        "id": "96-I0ti0HYRJ",
        "colab_type": "code",
        "colab": {}
      },
      "source": [
        "D2[1]=90"
      ],
      "execution_count": null,
      "outputs": []
    },
    {
      "cell_type": "code",
      "metadata": {
        "id": "aC-1LIh7H7ch",
        "colab_type": "code",
        "colab": {
          "base_uri": "https://localhost:8080/",
          "height": 34
        },
        "outputId": "e12f5da6-5280-49a0-ed90-bc93c5093b9c"
      },
      "source": [
        "D2"
      ],
      "execution_count": null,
      "outputs": [
        {
          "output_type": "execute_result",
          "data": {
            "text/plain": [
              "{1: 90, 2: 10, 3: [1, 2, 3]}"
            ]
          },
          "metadata": {
            "tags": []
          },
          "execution_count": 17
        }
      ]
    },
    {
      "cell_type": "code",
      "metadata": {
        "id": "judGJdDfH8Iw",
        "colab_type": "code",
        "colab": {}
      },
      "source": [
        "D2[33]=33"
      ],
      "execution_count": null,
      "outputs": []
    },
    {
      "cell_type": "code",
      "metadata": {
        "id": "OjN4PQpGH-5G",
        "colab_type": "code",
        "colab": {
          "base_uri": "https://localhost:8080/",
          "height": 34
        },
        "outputId": "705d890f-ac5c-478c-bf10-ee416be134e7"
      },
      "source": [
        "D2"
      ],
      "execution_count": null,
      "outputs": [
        {
          "output_type": "execute_result",
          "data": {
            "text/plain": [
              "{1: 90, 2: 10, 3: [1, 2, 3], 33: 33}"
            ]
          },
          "metadata": {
            "tags": []
          },
          "execution_count": 19
        }
      ]
    },
    {
      "cell_type": "code",
      "metadata": {
        "id": "Pcex9W1eICpf",
        "colab_type": "code",
        "colab": {
          "base_uri": "https://localhost:8080/",
          "height": 34
        },
        "outputId": "55ae0d8b-205e-4a64-deb1-1df7e85e9413"
      },
      "source": [
        "D2.keys()"
      ],
      "execution_count": null,
      "outputs": [
        {
          "output_type": "execute_result",
          "data": {
            "text/plain": [
              "dict_keys([1, 2, 3, 33])"
            ]
          },
          "metadata": {
            "tags": []
          },
          "execution_count": 20
        }
      ]
    },
    {
      "cell_type": "code",
      "metadata": {
        "id": "TFbpYRhlIHAe",
        "colab_type": "code",
        "colab": {
          "base_uri": "https://localhost:8080/",
          "height": 34
        },
        "outputId": "00443b5f-fc53-4700-c896-51a75045da6e"
      },
      "source": [
        "D2.values()"
      ],
      "execution_count": null,
      "outputs": [
        {
          "output_type": "execute_result",
          "data": {
            "text/plain": [
              "dict_values([90, 10, [1, 2, 3], 33])"
            ]
          },
          "metadata": {
            "tags": []
          },
          "execution_count": 21
        }
      ]
    },
    {
      "cell_type": "code",
      "metadata": {
        "id": "Jt4JY4c4IKdF",
        "colab_type": "code",
        "colab": {
          "base_uri": "https://localhost:8080/",
          "height": 34
        },
        "outputId": "d8948618-52b9-4ef4-9ddf-007c80873bfa"
      },
      "source": [
        "D2.items()"
      ],
      "execution_count": null,
      "outputs": [
        {
          "output_type": "execute_result",
          "data": {
            "text/plain": [
              "dict_items([(1, 90), (2, 10), (3, [1, 2, 3]), (33, 33)])"
            ]
          },
          "metadata": {
            "tags": []
          },
          "execution_count": 22
        }
      ]
    },
    {
      "cell_type": "markdown",
      "metadata": {
        "id": "0j6SRIo3gE3J",
        "colab_type": "text"
      },
      "source": [
        "**Looping Through a Dictionary**"
      ]
    },
    {
      "cell_type": "code",
      "metadata": {
        "id": "EE5Om1Z1IPAY",
        "colab_type": "code",
        "colab": {}
      },
      "source": [
        "fb = {\n",
        "'name': 'jen',\n",
        "'age': '18',\n",
        "'last seen': 'two mintes ago',\n",
        "}"
      ],
      "execution_count": null,
      "outputs": []
    },
    {
      "cell_type": "code",
      "metadata": {
        "id": "yVsRGQQXggUG",
        "colab_type": "code",
        "colab": {
          "base_uri": "https://localhost:8080/",
          "height": 170
        },
        "outputId": "7b19973e-8758-47ac-d45f-0eaf49235318"
      },
      "source": [
        "for key, value in fb.items():\n",
        "  print(\"\\nKey: \" + key)\n",
        "  print(\"Value: \" + value)"
      ],
      "execution_count": null,
      "outputs": [
        {
          "output_type": "stream",
          "text": [
            "\n",
            "Key: name\n",
            "Value: jen\n",
            "\n",
            "Key: age\n",
            "Value: 18\n",
            "\n",
            "Key: last seen\n",
            "Value: two mintes ago\n"
          ],
          "name": "stdout"
        }
      ]
    },
    {
      "cell_type": "code",
      "metadata": {
        "id": "cloEXkcNg2U-",
        "colab_type": "code",
        "colab": {}
      },
      "source": [
        "student_studyyear = {\n",
        " 'jen': 'standard 5',\n",
        "'sarah': 'standard 2',\n",
        "'edward': 'honours second year',\n",
        "'phil': 'nursery',\n",
        "}"
      ],
      "execution_count": null,
      "outputs": []
    },
    {
      "cell_type": "markdown",
      "metadata": {
        "id": "EmoRmj4uijfw",
        "colab_type": "text"
      },
      "source": [
        "**Basic idea of looping through key or value is**\n",
        "\n",
        "**for key, value in Dictionary.items()**\n",
        "  "
      ]
    },
    {
      "cell_type": "code",
      "metadata": {
        "id": "YcAP4G0zhZ2D",
        "colab_type": "code",
        "colab": {
          "base_uri": "https://localhost:8080/",
          "height": 85
        },
        "outputId": "fadc8eb9-7c0a-4a9b-9a6d-9d7043ec268d"
      },
      "source": [
        "for student, studyyear in student_studyyear.items():                       #here student is in place of key & studyyear is in place of value\n",
        "  print(student.title() + \"'s study year is \" + studyyear.title() + \".\")   #for acessing each key student is used and value studyyear is used"
      ],
      "execution_count": null,
      "outputs": [
        {
          "output_type": "stream",
          "text": [
            "Jen's study year is Standard 5.\n",
            "Sarah's study year is Standard 2.\n",
            "Edward's study year is Honours Second Year.\n",
            "Phil's study year is Nursery.\n"
          ],
          "name": "stdout"
        }
      ]
    },
    {
      "cell_type": "markdown",
      "metadata": {
        "id": "_ZCny1Gpjt7g",
        "colab_type": "text"
      },
      "source": [
        "**Basic idea of looping only keys is**\n",
        "\n",
        "**for keys in Dictionary.keys()**"
      ]
    },
    {
      "cell_type": "code",
      "metadata": {
        "id": "qrp77jAFjqmP",
        "colab_type": "code",
        "colab": {
          "base_uri": "https://localhost:8080/",
          "height": 85
        },
        "outputId": "92b001c6-a346-414d-96bf-68866b029b0b"
      },
      "source": [
        "for student in student_studyyear.keys():\n",
        "  print(student.title())"
      ],
      "execution_count": null,
      "outputs": [
        {
          "output_type": "stream",
          "text": [
            "Jen\n",
            "Sarah\n",
            "Edward\n",
            "Phil\n"
          ],
          "name": "stdout"
        }
      ]
    },
    {
      "cell_type": "code",
      "metadata": {
        "id": "_TXT8UMgkqRn",
        "colab_type": "code",
        "colab": {
          "base_uri": "https://localhost:8080/",
          "height": 119
        },
        "outputId": "ffcf7cbe-d100-4a52-9fd9-0069579c5abd"
      },
      "source": [
        "friends = ['phil', 'sarah']\n",
        "for student in student_studyyear.keys():\n",
        "  print(student.title())\n",
        "  if student in friends:\n",
        "    print(\" Hello my friend \" + student.title() + \"! You are studying at \" + student_studyyear[student].title() + \", right?\")"
      ],
      "execution_count": null,
      "outputs": [
        {
          "output_type": "stream",
          "text": [
            "Jen\n",
            "Sarah\n",
            " Hello my friend Sarah! You are studying at Standard 2, right?\n",
            "Edward\n",
            "Phil\n",
            " Hello my friend Phil! You are studying at Nursery, right?\n"
          ],
          "name": "stdout"
        }
      ]
    },
    {
      "cell_type": "code",
      "metadata": {
        "id": "KYNmRhBul3-o",
        "colab_type": "code",
        "colab": {
          "base_uri": "https://localhost:8080/",
          "height": 85
        },
        "outputId": "e2057293-49a7-4ed6-f738-22bea50cde98"
      },
      "source": [
        "for student in sorted(student_studyyear.keys()):\n",
        "  print(student.title() + \", study attentively!\")"
      ],
      "execution_count": null,
      "outputs": [
        {
          "output_type": "stream",
          "text": [
            "Edward, study attentively!\n",
            "Jen, study attentively!\n",
            "Phil, study attentively!\n",
            "Sarah, study attentively!\n"
          ],
          "name": "stdout"
        }
      ]
    },
    {
      "cell_type": "markdown",
      "metadata": {
        "id": "uAc_ZQ6DmZ--",
        "colab_type": "text"
      },
      "source": [
        "**Basic idea of looping only keys is**\n",
        "\n",
        "**for values in Dictionary.values()**"
      ]
    },
    {
      "cell_type": "code",
      "metadata": {
        "id": "lkNfXbppmqF-",
        "colab_type": "code",
        "colab": {
          "base_uri": "https://localhost:8080/",
          "height": 102
        },
        "outputId": "7a444233-09ae-44a5-d864-61b753570293"
      },
      "source": [
        "print(\"The following study years have been mentioned:\")\n",
        "for studyyear in student_studyyear.values():\n",
        "  print(studyyear.title())"
      ],
      "execution_count": null,
      "outputs": [
        {
          "output_type": "stream",
          "text": [
            "The following study years have been mentioned:\n",
            "Standard 5\n",
            "Standard 2\n",
            "Honours Second Year\n",
            "Nursery\n"
          ],
          "name": "stdout"
        }
      ]
    },
    {
      "cell_type": "markdown",
      "metadata": {
        "id": "-oGDVBrYsWO8",
        "colab_type": "text"
      },
      "source": [
        "**Explore more methods of Dictionary:**\n",
        "\n",
        "clear()\t    Removes all the elements from the dictionary\n",
        "\n",
        "copy()\t    Returns a copy of the dictionary\n",
        "\n",
        "fromkeys()\tReturns a dictionary with the specified keys and value\n",
        "\n",
        "get()\t      Returns the value of the specified key\n",
        "\n",
        "items()   \tReturns a list containing a tuple for each key value pair\n",
        "\n",
        "keys()\t    Returns a list containing the dictionary's keys\n",
        "\n",
        "pop()\t      Removes the element with the specified key\n",
        "\n",
        "popitem()\t  Removes the last inserted key-value pair\n",
        "\n",
        "setdefault() Returns the value of the specified key. If the key does not exist: insert the key, with the specified value\n",
        "\n",
        "update()\tUpdates the dictionary with the specified key-value pairs\n",
        "\n",
        "values()\tReturns a list of all the values in the dictionary"
      ]
    }
  ]
}