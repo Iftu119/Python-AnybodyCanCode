{
  "nbformat": 4,
  "nbformat_minor": 0,
  "metadata": {
    "colab": {
      "name": "Class_06(Functions).ipynb",
      "provenance": [],
      "collapsed_sections": []
    },
    "kernelspec": {
      "name": "python3",
      "display_name": "Python 3"
    }
  },
  "cells": [
    {
      "cell_type": "code",
      "metadata": {
        "id": "SsCC30KIj0y1",
        "colab_type": "code",
        "colab": {}
      },
      "source": [
        ""
      ],
      "execution_count": null,
      "outputs": []
    },
    {
      "cell_type": "markdown",
      "metadata": {
        "id": "anKT6cTTvQfY",
        "colab_type": "text"
      },
      "source": [
        "# Methods\n",
        "\n",
        "We've already seen a few example of methods when learning about Object and Data Structure Types in Python. Methods are essentially functions built into objects.\n",
        "\n",
        "Methods perform specific actions on an object and can also take arguments, just like a function.\n",
        "\n",
        "Methods are in the form:\n",
        "\n",
        "object.method(arg1,arg2,etc..."
      ]
    },
    {
      "cell_type": "code",
      "metadata": {
        "id": "XRuVsfQQwRis",
        "colab_type": "code",
        "colab": {}
      },
      "source": [
        "L=[1,2,3,4,8,9]"
      ],
      "execution_count": null,
      "outputs": []
    },
    {
      "cell_type": "code",
      "metadata": {
        "id": "odCXzqDXwV5q",
        "colab_type": "code",
        "colab": {}
      },
      "source": [
        "L.append(2)"
      ],
      "execution_count": null,
      "outputs": []
    },
    {
      "cell_type": "code",
      "metadata": {
        "id": "RcbxkuOuwXvo",
        "colab_type": "code",
        "colab": {
          "base_uri": "https://localhost:8080/",
          "height": 34
        },
        "outputId": "f817a256-1f19-4de9-f5d4-06010a51d631"
      },
      "source": [
        "L"
      ],
      "execution_count": null,
      "outputs": [
        {
          "output_type": "execute_result",
          "data": {
            "text/plain": [
              "[1, 2, 3, 4, 8, 9, 2]"
            ]
          },
          "metadata": {
            "tags": []
          },
          "execution_count": 10
        }
      ]
    },
    {
      "cell_type": "code",
      "metadata": {
        "id": "am9wtHUzwgLz",
        "colab_type": "code",
        "colab": {
          "base_uri": "https://localhost:8080/",
          "height": 34
        },
        "outputId": "e313d1ec-73f7-44dc-af32-ed848ad4dc47"
      },
      "source": [
        "L.count(2)"
      ],
      "execution_count": null,
      "outputs": [
        {
          "output_type": "execute_result",
          "data": {
            "text/plain": [
              "2"
            ]
          },
          "metadata": {
            "tags": []
          },
          "execution_count": 11
        }
      ]
    },
    {
      "cell_type": "code",
      "metadata": {
        "id": "rV_UCf7ZwiUk",
        "colab_type": "code",
        "colab": {
          "base_uri": "https://localhost:8080/",
          "height": 104
        },
        "outputId": "f1614ed7-1990-476e-9ee8-0e1958a52089"
      },
      "source": [
        "help(L.count)"
      ],
      "execution_count": null,
      "outputs": [
        {
          "output_type": "stream",
          "text": [
            "Help on built-in function count:\n",
            "\n",
            "count(...) method of builtins.list instance\n",
            "    L.count(value) -> integer -- return number of occurrences of value\n",
            "\n"
          ],
          "name": "stdout"
        }
      ]
    },
    {
      "cell_type": "code",
      "metadata": {
        "id": "67zsnkiMKRWZ",
        "colab_type": "code",
        "colab": {
          "base_uri": "https://localhost:8080/",
          "height": 121
        },
        "outputId": "f392755e-d8e3-44c9-9fc9-b8bf2d0ee1ef"
      },
      "source": [
        "help(L.remove)"
      ],
      "execution_count": null,
      "outputs": [
        {
          "output_type": "stream",
          "text": [
            "Help on built-in function remove:\n",
            "\n",
            "remove(...) method of builtins.list instance\n",
            "    L.remove(value) -> None -- remove first occurrence of value.\n",
            "    Raises ValueError if the value is not present.\n",
            "\n"
          ],
          "name": "stdout"
        }
      ]
    },
    {
      "cell_type": "code",
      "metadata": {
        "id": "22s1xtT3fWEM",
        "colab_type": "code",
        "colab": {}
      },
      "source": [
        "L.remove(2)"
      ],
      "execution_count": null,
      "outputs": []
    },
    {
      "cell_type": "code",
      "metadata": {
        "id": "K4AEJxaDfYr8",
        "colab_type": "code",
        "colab": {
          "base_uri": "https://localhost:8080/",
          "height": 34
        },
        "outputId": "1387c883-2020-48fb-e675-6d3f934cc10c"
      },
      "source": [
        "L"
      ],
      "execution_count": null,
      "outputs": [
        {
          "output_type": "execute_result",
          "data": {
            "text/plain": [
              "[1, 3, 4, 8, 9, 2]"
            ]
          },
          "metadata": {
            "tags": []
          },
          "execution_count": 15
        }
      ]
    },
    {
      "cell_type": "code",
      "metadata": {
        "id": "Xs7-V3uAfgxb",
        "colab_type": "code",
        "colab": {
          "base_uri": "https://localhost:8080/",
          "height": 166
        },
        "outputId": "3c5186cc-c588-4a43-eee6-3c189519ebd3"
      },
      "source": [
        "L.remove(10)"
      ],
      "execution_count": null,
      "outputs": [
        {
          "output_type": "error",
          "ename": "ValueError",
          "evalue": "ignored",
          "traceback": [
            "\u001b[0;31m---------------------------------------------------------------------------\u001b[0m",
            "\u001b[0;31mValueError\u001b[0m                                Traceback (most recent call last)",
            "\u001b[0;32m<ipython-input-16-bab462965300>\u001b[0m in \u001b[0;36m<module>\u001b[0;34m()\u001b[0m\n\u001b[0;32m----> 1\u001b[0;31m \u001b[0mL\u001b[0m\u001b[0;34m.\u001b[0m\u001b[0mremove\u001b[0m\u001b[0;34m(\u001b[0m\u001b[0;36m10\u001b[0m\u001b[0;34m)\u001b[0m\u001b[0;34m\u001b[0m\u001b[0;34m\u001b[0m\u001b[0m\n\u001b[0m",
            "\u001b[0;31mValueError\u001b[0m: list.remove(x): x not in list"
          ]
        }
      ]
    },
    {
      "cell_type": "markdown",
      "metadata": {
        "id": "_k8WhmwqxIAC",
        "colab_type": "text"
      },
      "source": [
        "# Functions\n",
        "\n",
        "Functions will be one of our main building blocks when we construct larger and larger amounts of code to solve problems.\n",
        "\n",
        "A function is a useful device that groups together a set of statements so they can be run more than once. They can also let us specify parameters that can serve as inputs to the functions.\n",
        "\n",
        "**Parameter**\n",
        "\n",
        "A parameter is the variable listed inside the parentheses into the function definition.\n",
        "\n",
        "**Argument**\n",
        "\n",
        "An argument is value that are sent to the function when it is called."
      ]
    },
    {
      "cell_type": "markdown",
      "metadata": {
        "id": "GTAXULsL1wSu",
        "colab_type": "text"
      },
      "source": [
        "**Type 01**"
      ]
    },
    {
      "cell_type": "code",
      "metadata": {
        "id": "-Ax91OwqxHkA",
        "colab_type": "code",
        "colab": {}
      },
      "source": [
        "def show(L):\n",
        "  print(L)"
      ],
      "execution_count": null,
      "outputs": []
    },
    {
      "cell_type": "code",
      "metadata": {
        "id": "EEsJh4TCwrsv",
        "colab_type": "code",
        "colab": {
          "base_uri": "https://localhost:8080/",
          "height": 34
        },
        "outputId": "afde1bfc-0cd8-4798-af38-bd8049015dd5"
      },
      "source": [
        "a=100\n",
        "show(a)"
      ],
      "execution_count": null,
      "outputs": [
        {
          "output_type": "stream",
          "text": [
            "100\n"
          ],
          "name": "stdout"
        }
      ]
    },
    {
      "cell_type": "markdown",
      "metadata": {
        "id": "XCeTYXyG12dT",
        "colab_type": "text"
      },
      "source": [
        "Type 02"
      ]
    },
    {
      "cell_type": "code",
      "metadata": {
        "id": "5bBW64NY1EOf",
        "colab_type": "code",
        "colab": {}
      },
      "source": [
        "def say():\n",
        "  print(\"Hello World\\n\")"
      ],
      "execution_count": null,
      "outputs": []
    },
    {
      "cell_type": "code",
      "metadata": {
        "id": "dTv3fmS-1jNv",
        "colab_type": "code",
        "colab": {
          "base_uri": "https://localhost:8080/",
          "height": 52
        },
        "outputId": "b7375d5e-3ce5-4951-a61a-002e72cc5094"
      },
      "source": [
        "say()"
      ],
      "execution_count": null,
      "outputs": [
        {
          "output_type": "stream",
          "text": [
            "Hello World\n",
            "\n"
          ],
          "name": "stdout"
        }
      ]
    },
    {
      "cell_type": "markdown",
      "metadata": {
        "id": "jITIRHw-2Agp",
        "colab_type": "text"
      },
      "source": [
        "**Type 03**"
      ]
    },
    {
      "cell_type": "code",
      "metadata": {
        "id": "-g6fQSVE1k1b",
        "colab_type": "code",
        "colab": {}
      },
      "source": [
        "def sum(n1,n2):\n",
        "  return n1+n2"
      ],
      "execution_count": null,
      "outputs": []
    },
    {
      "cell_type": "code",
      "metadata": {
        "id": "CzFOe_Ia2L-5",
        "colab_type": "code",
        "colab": {
          "base_uri": "https://localhost:8080/",
          "height": 34
        },
        "outputId": "c6a5caa7-e771-4e14-d329-a6084cddeb10"
      },
      "source": [
        "b=300\n",
        "c=120\n",
        "sum(b,c)"
      ],
      "execution_count": null,
      "outputs": [
        {
          "output_type": "execute_result",
          "data": {
            "text/plain": [
              "420"
            ]
          },
          "metadata": {
            "tags": []
          },
          "execution_count": 22
        }
      ]
    },
    {
      "cell_type": "markdown",
      "metadata": {
        "id": "p-HRg6Kq4wPK",
        "colab_type": "text"
      },
      "source": [
        "**Type 04**"
      ]
    },
    {
      "cell_type": "code",
      "metadata": {
        "id": "cFrrr2B02TA7",
        "colab_type": "code",
        "colab": {}
      },
      "source": [
        "def divisor(a):\n",
        "  for i in range(1,a+1):\n",
        "    if(a%i==0):\n",
        "      print(i)\n",
        "  else:\n",
        "    print(\"All divisors are printed\\n\")"
      ],
      "execution_count": null,
      "outputs": []
    },
    {
      "cell_type": "code",
      "metadata": {
        "id": "kqUp3VC55QIJ",
        "colab_type": "code",
        "colab": {
          "base_uri": "https://localhost:8080/",
          "height": 190
        },
        "outputId": "735f651e-ff5a-4d39-d407-710188193f61"
      },
      "source": [
        "q=30\n",
        "divisor(q)"
      ],
      "execution_count": null,
      "outputs": [
        {
          "output_type": "stream",
          "text": [
            "1\n",
            "2\n",
            "3\n",
            "5\n",
            "6\n",
            "10\n",
            "15\n",
            "30\n",
            "All divisors are printed\n",
            "\n"
          ],
          "name": "stdout"
        }
      ]
    },
    {
      "cell_type": "markdown",
      "metadata": {
        "id": "xAtdaRWv8J7i",
        "colab_type": "text"
      },
      "source": [
        "**Type 05**"
      ]
    },
    {
      "cell_type": "code",
      "metadata": {
        "id": "JvgBrpSw5UlO",
        "colab_type": "code",
        "colab": {}
      },
      "source": [
        "def check(s):\n",
        "  p=s.split()\n",
        "  return p[0][0]==p[1][0]"
      ],
      "execution_count": null,
      "outputs": []
    },
    {
      "cell_type": "code",
      "metadata": {
        "id": "za5IWP9s8lsF",
        "colab_type": "code",
        "colab": {}
      },
      "source": [
        "z=\"Cook chicken\""
      ],
      "execution_count": null,
      "outputs": []
    },
    {
      "cell_type": "code",
      "metadata": {
        "id": "dJbJ6B9z89eI",
        "colab_type": "code",
        "colab": {
          "base_uri": "https://localhost:8080/",
          "height": 34
        },
        "outputId": "f4bf3bf6-9800-448a-df1e-01fd06c17b17"
      },
      "source": [
        "check(z)"
      ],
      "execution_count": null,
      "outputs": [
        {
          "output_type": "execute_result",
          "data": {
            "text/plain": [
              "False"
            ]
          },
          "metadata": {
            "tags": []
          },
          "execution_count": 29
        }
      ]
    },
    {
      "cell_type": "code",
      "metadata": {
        "id": "hMcdhkSX8_ol",
        "colab_type": "code",
        "colab": {}
      },
      "source": [
        "def check_01(s):\n",
        "  p=s.split()\n",
        "  return p[0][0].upper()==p[1][0].upper()"
      ],
      "execution_count": null,
      "outputs": []
    },
    {
      "cell_type": "code",
      "metadata": {
        "id": "uea1gGDFaekn",
        "colab_type": "code",
        "colab": {
          "base_uri": "https://localhost:8080/",
          "height": 34
        },
        "outputId": "f96169e1-26b3-4606-f1d4-13be071bda6f"
      },
      "source": [
        "check_01(z)"
      ],
      "execution_count": null,
      "outputs": [
        {
          "output_type": "execute_result",
          "data": {
            "text/plain": [
              "True"
            ]
          },
          "metadata": {
            "tags": []
          },
          "execution_count": 31
        }
      ]
    },
    {
      "cell_type": "markdown",
      "metadata": {
        "id": "rT_FUFL_-lu3",
        "colab_type": "text"
      },
      "source": [
        "**Type 06**"
      ]
    },
    {
      "cell_type": "code",
      "metadata": {
        "id": "5cYKoGhc-klx",
        "colab_type": "code",
        "colab": {}
      },
      "source": [
        "def Three_Times(L):\n",
        "  sum=0\n",
        "  for i in L:\n",
        "    print(i*3)\n",
        "    sum=sum+i\n",
        "  return sum"
      ],
      "execution_count": null,
      "outputs": []
    },
    {
      "cell_type": "code",
      "metadata": {
        "id": "TBVuWuu9_CVB",
        "colab_type": "code",
        "colab": {
          "base_uri": "https://localhost:8080/",
          "height": 104
        },
        "outputId": "d332dfe6-b33f-4c93-f5ec-1ac688b635d9"
      },
      "source": [
        "l=[1,2,3,4]\n",
        "Three_Times(l)"
      ],
      "execution_count": null,
      "outputs": [
        {
          "output_type": "stream",
          "text": [
            "3\n",
            "6\n",
            "9\n",
            "12\n"
          ],
          "name": "stdout"
        },
        {
          "output_type": "execute_result",
          "data": {
            "text/plain": [
              "10"
            ]
          },
          "metadata": {
            "tags": []
          },
          "execution_count": 35
        }
      ]
    },
    {
      "cell_type": "code",
      "metadata": {
        "id": "YG534FpN_KP3",
        "colab_type": "code",
        "colab": {
          "base_uri": "https://localhost:8080/",
          "height": 104
        },
        "outputId": "3acf0af7-70ac-4626-ba5e-66b67c7c5b9c"
      },
      "source": [
        "print(\"SUM: \",Three_Times(l))\n"
      ],
      "execution_count": null,
      "outputs": [
        {
          "output_type": "stream",
          "text": [
            "3\n",
            "6\n",
            "9\n",
            "12\n",
            "SUM:  10\n"
          ],
          "name": "stdout"
        }
      ]
    },
    {
      "cell_type": "markdown",
      "metadata": {
        "id": "7OI0BejnDeOQ",
        "colab_type": "text"
      },
      "source": [
        "**Type 07**"
      ]
    },
    {
      "cell_type": "code",
      "metadata": {
        "id": "b7SVDA4rDdyv",
        "colab_type": "code",
        "colab": {}
      },
      "source": [
        "def sum_of_values(d):\n",
        "  sum=0\n",
        "  for i in d.values():\n",
        "    sum=sum+i\n",
        "  return sum"
      ],
      "execution_count": null,
      "outputs": []
    },
    {
      "cell_type": "code",
      "metadata": {
        "id": "FaMZDQjrD4hL",
        "colab_type": "code",
        "colab": {
          "base_uri": "https://localhost:8080/",
          "height": 34
        },
        "outputId": "68227cc9-b5bb-4be2-e030-8362469feef7"
      },
      "source": [
        "D={1:1,2:2,3:3}\n",
        "sum_of_values(D)"
      ],
      "execution_count": null,
      "outputs": [
        {
          "output_type": "execute_result",
          "data": {
            "text/plain": [
              "6"
            ]
          },
          "metadata": {
            "tags": []
          },
          "execution_count": 38
        }
      ]
    },
    {
      "cell_type": "markdown",
      "metadata": {
        "id": "Pa1QtkWEBu0P",
        "colab_type": "text"
      },
      "source": [
        "**Type 08**"
      ]
    },
    {
      "cell_type": "code",
      "metadata": {
        "id": "x5J0YNgVBzKr",
        "colab_type": "code",
        "colab": {}
      },
      "source": [
        "def print_big(letter):\n",
        "    patterns = {1:'  *  ',2:' * * ',3:'*   *',4:'*****',5:'**** ',6:'   * ',7:' *   ',8:'*   * ',9:'*    '}\n",
        "    alphabet = {'A':[1,2,4,3,3],'B':[5,3,5,3,5],'C':[4,9,9,9,4],'D':[5,3,3,3,5],'E':[4,9,4,9,4]}\n",
        "    for pattern in alphabet[letter.upper()]:\n",
        "        print(patterns[pattern])"
      ],
      "execution_count": null,
      "outputs": []
    },
    {
      "cell_type": "code",
      "metadata": {
        "id": "S4Qf6WuyB4cX",
        "colab_type": "code",
        "colab": {
          "base_uri": "https://localhost:8080/",
          "height": 104
        },
        "outputId": "43182d57-71f4-4531-a3d3-af30c7cce549"
      },
      "source": [
        "print_big('E')"
      ],
      "execution_count": null,
      "outputs": [
        {
          "output_type": "stream",
          "text": [
            "*****\n",
            "*    \n",
            "*****\n",
            "*    \n",
            "*****\n"
          ],
          "name": "stdout"
        }
      ]
    },
    {
      "cell_type": "markdown",
      "metadata": {
        "id": "PU1Y7DtuEoDe",
        "colab_type": "text"
      },
      "source": [
        "**Type 09**"
      ]
    },
    {
      "cell_type": "code",
      "metadata": {
        "id": "Bl6b8xnECACj",
        "colab_type": "code",
        "colab": {}
      },
      "source": [
        "def ave(a,b,c,d):\n",
        "  return (a+b+c+d)/4"
      ],
      "execution_count": null,
      "outputs": []
    },
    {
      "cell_type": "code",
      "metadata": {
        "id": "JcXEaA7AFUa1",
        "colab_type": "code",
        "colab": {
          "base_uri": "https://localhost:8080/",
          "height": 34
        },
        "outputId": "823e09e5-5074-41a4-8879-d4c0d4939206"
      },
      "source": [
        "a=12\n",
        "b=2\n",
        "c=6\n",
        "d=10\n",
        "ave(a,b,c,d)"
      ],
      "execution_count": null,
      "outputs": [
        {
          "output_type": "execute_result",
          "data": {
            "text/plain": [
              "7.5"
            ]
          },
          "metadata": {
            "tags": []
          },
          "execution_count": 43
        }
      ]
    },
    {
      "cell_type": "code",
      "metadata": {
        "id": "2yfmnOEAFdHN",
        "colab_type": "code",
        "colab": {
          "base_uri": "https://localhost:8080/",
          "height": 166
        },
        "outputId": "fb483907-abdc-4117-ff61-72c839a2b28d"
      },
      "source": [
        "ave(a,b,c)"
      ],
      "execution_count": null,
      "outputs": [
        {
          "output_type": "error",
          "ename": "TypeError",
          "evalue": "ignored",
          "traceback": [
            "\u001b[0;31m---------------------------------------------------------------------------\u001b[0m",
            "\u001b[0;31mTypeError\u001b[0m                                 Traceback (most recent call last)",
            "\u001b[0;32m<ipython-input-44-0b092dfa67e2>\u001b[0m in \u001b[0;36m<module>\u001b[0;34m()\u001b[0m\n\u001b[0;32m----> 1\u001b[0;31m \u001b[0mave\u001b[0m\u001b[0;34m(\u001b[0m\u001b[0ma\u001b[0m\u001b[0;34m,\u001b[0m\u001b[0mb\u001b[0m\u001b[0;34m,\u001b[0m\u001b[0mc\u001b[0m\u001b[0;34m)\u001b[0m\u001b[0;34m\u001b[0m\u001b[0;34m\u001b[0m\u001b[0m\n\u001b[0m",
            "\u001b[0;31mTypeError\u001b[0m: ave() missing 1 required positional argument: 'd'"
          ]
        }
      ]
    },
    {
      "cell_type": "code",
      "metadata": {
        "id": "PMgUY3KKFjWr",
        "colab_type": "code",
        "colab": {}
      },
      "source": [
        "def ave(a,b,c,d=20):\n",
        "  return (a+b+c+d)/4"
      ],
      "execution_count": null,
      "outputs": []
    },
    {
      "cell_type": "code",
      "metadata": {
        "id": "YrMpPkGFFnp7",
        "colab_type": "code",
        "colab": {
          "base_uri": "https://localhost:8080/",
          "height": 34
        },
        "outputId": "d554f45f-cf42-46bb-b256-0ab94e0c8d76"
      },
      "source": [
        "ave(a,b,c)"
      ],
      "execution_count": null,
      "outputs": [
        {
          "output_type": "execute_result",
          "data": {
            "text/plain": [
              "10.0"
            ]
          },
          "metadata": {
            "tags": []
          },
          "execution_count": 46
        }
      ]
    },
    {
      "cell_type": "markdown",
      "metadata": {
        "id": "5Y2f2GDuGMyj",
        "colab_type": "text"
      },
      "source": [
        "**Type 10**"
      ]
    },
    {
      "cell_type": "code",
      "metadata": {
        "id": "NdyzIitXFqvY",
        "colab_type": "code",
        "colab": {}
      },
      "source": [
        "def person_info(name,age,profession):\n",
        "  print(\"My name is {}.I am {} years old.I am a {}.\".format(name,age,profession))"
      ],
      "execution_count": null,
      "outputs": []
    },
    {
      "cell_type": "code",
      "metadata": {
        "id": "BsZy1pn6GdMG",
        "colab_type": "code",
        "colab": {
          "base_uri": "https://localhost:8080/",
          "height": 34
        },
        "outputId": "a86d94a9-0539-4d6c-9872-7274b6a6a559"
      },
      "source": [
        "N=\"A.R Rahman\"\n",
        "a=53\n",
        "p=\"Music Director\"\n",
        "person_info(N,a,p)"
      ],
      "execution_count": null,
      "outputs": [
        {
          "output_type": "stream",
          "text": [
            "My name is A.R Rahman.I am 53 years old.I am a Music Director.\n"
          ],
          "name": "stdout"
        }
      ]
    },
    {
      "cell_type": "code",
      "metadata": {
        "id": "pSV_JuUPHbHw",
        "colab_type": "code",
        "colab": {
          "base_uri": "https://localhost:8080/",
          "height": 34
        },
        "outputId": "f7e498d3-fb5d-49f4-e45e-184798a770b6"
      },
      "source": [
        "person_info(a,p,N)"
      ],
      "execution_count": null,
      "outputs": [
        {
          "output_type": "stream",
          "text": [
            "My name is 53.I am Music Director years old.I am a A.R Rahman.\n"
          ],
          "name": "stdout"
        }
      ]
    },
    {
      "cell_type": "code",
      "metadata": {
        "id": "avzoPCUtI09B",
        "colab_type": "code",
        "colab": {
          "base_uri": "https://localhost:8080/",
          "height": 34
        },
        "outputId": "fe998b2b-f702-42ea-b94e-374371bb72b7"
      },
      "source": [
        "person_info(name=N,profession=p,age=a)"
      ],
      "execution_count": null,
      "outputs": [
        {
          "output_type": "stream",
          "text": [
            "My name is A.R Rahman.I am 53 years old.I am a Music Director.\n"
          ],
          "name": "stdout"
        }
      ]
    },
    {
      "cell_type": "markdown",
      "metadata": {
        "id": "kleChLupa32v",
        "colab_type": "text"
      },
      "source": [
        "**Type 11**"
      ]
    },
    {
      "cell_type": "code",
      "metadata": {
        "id": "xQduWajrbHey",
        "colab_type": "code",
        "colab": {}
      },
      "source": [
        "def s(a,b):\n",
        "  return a+b"
      ],
      "execution_count": null,
      "outputs": []
    },
    {
      "cell_type": "code",
      "metadata": {
        "id": "OA7sSugbbUbU",
        "colab_type": "code",
        "colab": {}
      },
      "source": [
        "def m(a,b):\n",
        "  return a*b"
      ],
      "execution_count": null,
      "outputs": []
    },
    {
      "cell_type": "code",
      "metadata": {
        "id": "J0r-_2qfbacW",
        "colab_type": "code",
        "colab": {}
      },
      "source": [
        "def both_s_m(a,b):\n",
        "  sum=s(a,b)\n",
        "  mul=m(a,b)\n",
        "  return sum,mul\n"
      ],
      "execution_count": null,
      "outputs": []
    },
    {
      "cell_type": "code",
      "metadata": {
        "id": "azns1QeObpJ9",
        "colab_type": "code",
        "colab": {
          "base_uri": "https://localhost:8080/",
          "height": 34
        },
        "outputId": "4017b8b3-a30b-4634-d2e6-0c5352c76af9"
      },
      "source": [
        "both_s_m(2,3)"
      ],
      "execution_count": null,
      "outputs": [
        {
          "output_type": "execute_result",
          "data": {
            "text/plain": [
              "(5, 6)"
            ]
          },
          "metadata": {
            "tags": []
          },
          "execution_count": 54
        }
      ]
    },
    {
      "cell_type": "markdown",
      "metadata": {
        "id": "cLQW23IgKrYy",
        "colab_type": "text"
      },
      "source": [
        "# *args\n",
        "\n",
        "The special syntax *args in function definitions in python is used to pass a variable number of arguments to a function. It is used to pass a non-keyworded, variable-length argument list.\n",
        "\n",
        "The syntax is to use the symbol * to take in a variable number of arguments; by convention, it is often used with the word args.\n",
        "\n",
        "What *args allows you to do is take in more arguments than the number of formal arguments that you previously defined. \n",
        "\n",
        "With *args, any number of extra arguments can be tacked on to your current formal parameters."
      ]
    },
    {
      "cell_type": "markdown",
      "metadata": {
        "id": "JszenhqxNBoW",
        "colab_type": "text"
      },
      "source": [
        "**Example 01**"
      ]
    },
    {
      "cell_type": "code",
      "metadata": {
        "id": "JtIYMomHI-1Y",
        "colab_type": "code",
        "colab": {}
      },
      "source": [
        "def average(*args):\n",
        "  sum=0\n",
        "  for i in args:\n",
        "    sum=sum+i\n",
        "  return sum/len(args)"
      ],
      "execution_count": null,
      "outputs": []
    },
    {
      "cell_type": "code",
      "metadata": {
        "id": "kJD2foTeNRyw",
        "colab_type": "code",
        "colab": {
          "base_uri": "https://localhost:8080/",
          "height": 33
        },
        "outputId": "e5e3e2ee-ab97-4404-a57a-ef40958b12af"
      },
      "source": [
        "average(1,2,3,4,5,6,8)"
      ],
      "execution_count": null,
      "outputs": [
        {
          "output_type": "execute_result",
          "data": {
            "text/plain": [
              "4.142857142857143"
            ]
          },
          "metadata": {
            "tags": []
          },
          "execution_count": 69
        }
      ]
    },
    {
      "cell_type": "markdown",
      "metadata": {
        "id": "QM9iGu74PDgB",
        "colab_type": "text"
      },
      "source": [
        "**Example 02**"
      ]
    },
    {
      "cell_type": "code",
      "metadata": {
        "id": "lbgDYOsYNkUU",
        "colab_type": "code",
        "colab": {}
      },
      "source": [
        "def print_statement(*t):\n",
        "  for i in t:\n",
        "    print(i)"
      ],
      "execution_count": null,
      "outputs": []
    },
    {
      "cell_type": "code",
      "metadata": {
        "id": "24lIfA_OOSxL",
        "colab_type": "code",
        "colab": {
          "base_uri": "https://localhost:8080/",
          "height": 67
        },
        "outputId": "a5a240d0-ce2b-4630-9975-d6c0ef857e8e"
      },
      "source": [
        "print_statement(\"Hi Everyone\",\"How are you all?\",\"I hope everyone is alright.\")"
      ],
      "execution_count": null,
      "outputs": [
        {
          "output_type": "stream",
          "text": [
            "Hi Everyone\n",
            "How are you all?\n",
            "I hope everyone is alright.\n"
          ],
          "name": "stdout"
        }
      ]
    },
    {
      "cell_type": "markdown",
      "metadata": {
        "id": "vrnOwTXUPHUN",
        "colab_type": "text"
      },
      "source": [
        "**Example 03**"
      ]
    },
    {
      "cell_type": "code",
      "metadata": {
        "id": "IP8Jt1rxOkEL",
        "colab_type": "code",
        "colab": {}
      },
      "source": [
        "def args_with_one_argument(a1,*args):\n",
        "  print(\"The argument:\",a1)\n",
        "  for i in args:\n",
        "    print(i)"
      ],
      "execution_count": null,
      "outputs": []
    },
    {
      "cell_type": "code",
      "metadata": {
        "id": "9zBGzzvkPglF",
        "colab_type": "code",
        "colab": {
          "base_uri": "https://localhost:8080/",
          "height": 100
        },
        "outputId": "27b716e2-5832-4464-8a22-b20328582f64"
      },
      "source": [
        "args_with_one_argument(200,2,3,4,90)"
      ],
      "execution_count": null,
      "outputs": [
        {
          "output_type": "stream",
          "text": [
            "The argument: 200\n",
            "2\n",
            "3\n",
            "4\n",
            "90\n"
          ],
          "name": "stdout"
        }
      ]
    },
    {
      "cell_type": "markdown",
      "metadata": {
        "id": "4N4JX8nBP9n8",
        "colab_type": "text"
      },
      "source": [
        "# **kwargs\n",
        "\n",
        "The special syntax **kwargs in function definitions in python is used to pass a keyworded, variable-length argument list.\n",
        "\n",
        "We use the name kwargs with the double star. The reason is because the double star allows us to pass through keyword arguments (and any number of them).\n",
        "\n",
        "A keyword argument is where you provide a name to the variable as you pass it into the function.\n",
        "\n",
        "One can think of the kwargs as being a dictionary that maps each keyword to the value that we pass alongside it. That is why when we iterate over the kwargs there doesn’t seem to be any order in which they were printed out."
      ]
    },
    {
      "cell_type": "markdown",
      "metadata": {
        "id": "ZLxZI_pxRD13",
        "colab_type": "text"
      },
      "source": [
        "**Example 01**"
      ]
    },
    {
      "cell_type": "code",
      "metadata": {
        "id": "FqJvJozMPmTv",
        "colab_type": "code",
        "colab": {}
      },
      "source": [
        "def print_with_key(**kwargs):\n",
        "  for value in kwargs.values():\n",
        "    print(value)\n"
      ],
      "execution_count": null,
      "outputs": []
    },
    {
      "cell_type": "code",
      "metadata": {
        "id": "4K483L-ER1xq",
        "colab_type": "code",
        "colab": {}
      },
      "source": [
        ""
      ],
      "execution_count": null,
      "outputs": []
    },
    {
      "cell_type": "code",
      "metadata": {
        "id": "KPrpQZ6uROXJ",
        "colab_type": "code",
        "colab": {
          "base_uri": "https://localhost:8080/",
          "height": 84
        },
        "outputId": "8274455e-2df7-45b0-a344-ae1a3b0bac93"
      },
      "source": [
        "print_with_key(d1=\"1\",d2=9,d3=9999,d4=\"HI EVERYONE\")"
      ],
      "execution_count": null,
      "outputs": [
        {
          "output_type": "stream",
          "text": [
            "1\n",
            "9\n",
            "9999\n",
            "HI EVERYONE\n"
          ],
          "name": "stdout"
        }
      ]
    },
    {
      "cell_type": "markdown",
      "metadata": {
        "id": "FDpIG2b4SCZA",
        "colab_type": "text"
      },
      "source": [
        "**Example 02**"
      ]
    },
    {
      "cell_type": "code",
      "metadata": {
        "id": "BIU-dpICSB1j",
        "colab_type": "code",
        "colab": {}
      },
      "source": [
        "def print_with_key_01(**kwargs):\n",
        "  for key in kwargs:\n",
        "    print(kwargs[key])\n",
        "    "
      ],
      "execution_count": null,
      "outputs": []
    },
    {
      "cell_type": "code",
      "metadata": {
        "id": "dChVmgrxRdON",
        "colab_type": "code",
        "colab": {
          "base_uri": "https://localhost:8080/",
          "height": 84
        },
        "outputId": "9ee845a5-cc66-40ab-e473-0e0bac231f84"
      },
      "source": [
        "print_with_key_01(d1=\"1\",d2=9,d3=9999,d4=\"HI EVERYONE\")"
      ],
      "execution_count": null,
      "outputs": [
        {
          "output_type": "stream",
          "text": [
            "1\n",
            "9\n",
            "9999\n",
            "HI EVERYONE\n"
          ],
          "name": "stdout"
        }
      ]
    },
    {
      "cell_type": "markdown",
      "metadata": {
        "id": "9D9rqE3lSXn-",
        "colab_type": "text"
      },
      "source": [
        "**Example 03**"
      ]
    },
    {
      "cell_type": "code",
      "metadata": {
        "id": "-JXTufbQSLh5",
        "colab_type": "code",
        "colab": {}
      },
      "source": [
        "def kwargs_sum(**kwargs):\n",
        "  sum=0\n",
        "  for i in kwargs:\n",
        "    sum=sum+kwargs[i]\n",
        "  return sum/len(kwargs)"
      ],
      "execution_count": null,
      "outputs": []
    },
    {
      "cell_type": "code",
      "metadata": {
        "id": "DvepWR3pSv6Z",
        "colab_type": "code",
        "colab": {
          "base_uri": "https://localhost:8080/",
          "height": 33
        },
        "outputId": "25adb024-31de-4553-f7cb-96b5dfb4fee9"
      },
      "source": [
        "kwargs_sum(a=22,b=88,c=90)"
      ],
      "execution_count": null,
      "outputs": [
        {
          "output_type": "execute_result",
          "data": {
            "text/plain": [
              "66.66666666666667"
            ]
          },
          "metadata": {
            "tags": []
          },
          "execution_count": 99
        }
      ]
    },
    {
      "cell_type": "markdown",
      "metadata": {
        "id": "nbqhCfzbTaHO",
        "colab_type": "text"
      },
      "source": [
        "**Example 04**"
      ]
    },
    {
      "cell_type": "code",
      "metadata": {
        "id": "wFD1c2-XS3Xt",
        "colab_type": "code",
        "colab": {}
      },
      "source": [
        "def Week_Dairy(name,*savings,**extra_activities):\n",
        "  sum=0\n",
        "  print(\"My name is \",name)\n",
        "  for i in savings:\n",
        "    sum=sum+i;\n",
        "  print(\"My one week saving : \",sum)\n",
        "  for key,value in extra_activities.items():\n",
        "    print(key,\" : \",value)\n"
      ],
      "execution_count": null,
      "outputs": []
    },
    {
      "cell_type": "code",
      "metadata": {
        "id": "AvPOBtqVUx8y",
        "colab_type": "code",
        "colab": {
          "base_uri": "https://localhost:8080/",
          "height": 167
        },
        "outputId": "5b36609c-a6ea-4d94-af67-2288abefcb7a"
      },
      "source": [
        "Week_Dairy(\"Mr.R\",100,50,60,30,80,60,20,Saturday=\"Music\",Sunday=\"Poetry\",Monday=\"Debate\",Tuesday=\"Calliography\",Wednesday=\"Dancing\",Thrusday=\"Movie\",Friday=\"Cooking\")"
      ],
      "execution_count": null,
      "outputs": [
        {
          "output_type": "stream",
          "text": [
            "My name is  Mr.R\n",
            "My one week saving :  400\n",
            "Saturday  :  Music\n",
            "Sunday  :  Poetry\n",
            "Monday  :  Debate\n",
            "Tuesday  :  Calliography\n",
            "Wednesday  :  Dancing\n",
            "Thrusday  :  Movie\n",
            "Friday  :  Cooking\n"
          ],
          "name": "stdout"
        }
      ]
    },
    {
      "cell_type": "code",
      "metadata": {
        "id": "ZDjnfTj9WJNT",
        "colab_type": "code",
        "colab": {}
      },
      "source": [
        ""
      ],
      "execution_count": null,
      "outputs": []
    }
  ]
}